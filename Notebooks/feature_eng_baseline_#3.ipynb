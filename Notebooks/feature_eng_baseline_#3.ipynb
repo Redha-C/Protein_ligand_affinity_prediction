{
 "cells": [
  {
   "cell_type": "markdown",
   "metadata": {},
   "source": [
    "# Context of the notebook \n",
    "Here, we're using training and test sets which have been stored in parquet files in the *training_data* and *test_data* folders. \n",
    "Tasks perfomed:\n",
    "- 3 datasets are created based on clustered complexes (sequence clustering has been performed using CD-Hit). \n",
    "- feature engineering is performed on the 3 datasets \n",
    "- final datasets are created by joining protein and ligand datasets \n",
    "- baseline algorithm is set "
   ]
  },
  {
   "cell_type": "code",
   "execution_count": 1,
   "metadata": {},
   "outputs": [],
   "source": [
    "# Basic python libraries\n",
    "import os \n",
    "import patoolib\n",
    "from glob import glob \n",
    "from multiprocessing.pool import Pool\n",
    "import warnings\n",
    "import struct\n",
    "import pickle\n",
    "warnings.filterwarnings('ignore')\n",
    "\n",
    "# Biological libraries \n",
    "from biopandas.pdb import PandasPdb\n",
    "from biopandas.mol2 import PandasMol2\n",
    "import mol2vec\n",
    "import prot2vec\n",
    "\n",
    "# Regular DS libraries \n",
    "import pandas as pd \n",
    "import numpy as np \n",
    "import matplotlib.pyplot as plt \n",
    "import seaborn as sns \n",
    "\n",
    "# AI libraries \n",
    "import sklearn "
   ]
  },
  {
   "cell_type": "markdown",
   "metadata": {},
   "source": [
    "# Refined set - Training data"
   ]
  },
  {
   "cell_type": "code",
   "execution_count": 19,
   "metadata": {},
   "outputs": [],
   "source": [
    "path = \"C:/Users/redha.cherif_artefac/GitHub_perso/Research_project/Input/training_data/original_datasets/binding_constants_train.parquet\"\n",
    "binding_constants_train = pd.read_parquet(path)"
   ]
  },
  {
   "cell_type": "code",
   "execution_count": 20,
   "metadata": {},
   "outputs": [],
   "source": [
    "binding_constants_train = binding_constants_train.sort_values(by='pdb_code',axis=0,ascending=True)"
   ]
  },
  {
   "cell_type": "code",
   "execution_count": 21,
   "metadata": {},
   "outputs": [],
   "source": [
    "\"\"\"\n",
    "    Download the dataframe from the .parquet file \n",
    "                                                    \"\"\" \n",
    "path = \"C:/Users/redha.cherif_artefac/GitHub_perso/Research_project/Input/training_data/original_datasets/df_proteins.parquet\"\n",
    "df_proteins = pd.read_parquet(path)"
   ]
  },
  {
   "cell_type": "code",
   "execution_count": 22,
   "metadata": {},
   "outputs": [],
   "source": [
    "path = path = \"C:/Users/redha.cherif_artefac/GitHub_perso/Research_project/Input/training_data/original_datasets/df_ligands_atoms.parquet\"\n",
    "df_ligands_atoms = pd.read_parquet(path)"
   ]
  },
  {
   "cell_type": "code",
   "execution_count": 23,
   "metadata": {},
   "outputs": [],
   "source": [
    "path = \"C:/Users/redha.cherif_artefac/GitHub_perso/Research_project/Input/training_data/original_datasets/df_ligands_bonds.parquet\"\n",
    "df_ligands_bonds = pd.read_parquet(path)"
   ]
  },
  {
   "cell_type": "code",
   "execution_count": 24,
   "metadata": {},
   "outputs": [
    {
     "data": {
      "text/html": [
       "<div>\n",
       "<style scoped>\n",
       "    .dataframe tbody tr th:only-of-type {\n",
       "        vertical-align: middle;\n",
       "    }\n",
       "\n",
       "    .dataframe tbody tr th {\n",
       "        vertical-align: top;\n",
       "    }\n",
       "\n",
       "    .dataframe thead th {\n",
       "        text-align: right;\n",
       "    }\n",
       "</style>\n",
       "<table border=\"1\" class=\"dataframe\">\n",
       "  <thead>\n",
       "    <tr style=\"text-align: right;\">\n",
       "      <th></th>\n",
       "      <th>pdb_code</th>\n",
       "      <th>bond_id</th>\n",
       "      <th>origin_atom_id</th>\n",
       "      <th>target_atom_id</th>\n",
       "      <th>bond_type</th>\n",
       "    </tr>\n",
       "  </thead>\n",
       "  <tbody>\n",
       "    <tr>\n",
       "      <th>0</th>\n",
       "      <td>10gs</td>\n",
       "      <td>1</td>\n",
       "      <td>2</td>\n",
       "      <td>1</td>\n",
       "      <td>1</td>\n",
       "    </tr>\n",
       "    <tr>\n",
       "      <th>1</th>\n",
       "      <td>10gs</td>\n",
       "      <td>2</td>\n",
       "      <td>2</td>\n",
       "      <td>5</td>\n",
       "      <td>1</td>\n",
       "    </tr>\n",
       "    <tr>\n",
       "      <th>2</th>\n",
       "      <td>10gs</td>\n",
       "      <td>3</td>\n",
       "      <td>2</td>\n",
       "      <td>3</td>\n",
       "      <td>1</td>\n",
       "    </tr>\n",
       "    <tr>\n",
       "      <th>3</th>\n",
       "      <td>10gs</td>\n",
       "      <td>4</td>\n",
       "      <td>3</td>\n",
       "      <td>4</td>\n",
       "      <td>ar</td>\n",
       "    </tr>\n",
       "    <tr>\n",
       "      <th>4</th>\n",
       "      <td>10gs</td>\n",
       "      <td>5</td>\n",
       "      <td>3</td>\n",
       "      <td>9</td>\n",
       "      <td>ar</td>\n",
       "    </tr>\n",
       "    <tr>\n",
       "      <th>...</th>\n",
       "      <td>...</td>\n",
       "      <td>...</td>\n",
       "      <td>...</td>\n",
       "      <td>...</td>\n",
       "      <td>...</td>\n",
       "    </tr>\n",
       "    <tr>\n",
       "      <th>264674</th>\n",
       "      <td>966c</td>\n",
       "      <td>46</td>\n",
       "      <td>24</td>\n",
       "      <td>44</td>\n",
       "      <td>1</td>\n",
       "    </tr>\n",
       "    <tr>\n",
       "      <th>264675</th>\n",
       "      <td>966c</td>\n",
       "      <td>47</td>\n",
       "      <td>26</td>\n",
       "      <td>45</td>\n",
       "      <td>1</td>\n",
       "    </tr>\n",
       "    <tr>\n",
       "      <th>264676</th>\n",
       "      <td>966c</td>\n",
       "      <td>48</td>\n",
       "      <td>26</td>\n",
       "      <td>46</td>\n",
       "      <td>1</td>\n",
       "    </tr>\n",
       "    <tr>\n",
       "      <th>264677</th>\n",
       "      <td>966c</td>\n",
       "      <td>49</td>\n",
       "      <td>27</td>\n",
       "      <td>47</td>\n",
       "      <td>1</td>\n",
       "    </tr>\n",
       "    <tr>\n",
       "      <th>264678</th>\n",
       "      <td>966c</td>\n",
       "      <td>50</td>\n",
       "      <td>27</td>\n",
       "      <td>48</td>\n",
       "      <td>1</td>\n",
       "    </tr>\n",
       "  </tbody>\n",
       "</table>\n",
       "<p>264679 rows × 5 columns</p>\n",
       "</div>"
      ],
      "text/plain": [
       "       pdb_code  bond_id  origin_atom_id  target_atom_id bond_type\n",
       "0          10gs        1               2               1         1\n",
       "1          10gs        2               2               5         1\n",
       "2          10gs        3               2               3         1\n",
       "3          10gs        4               3               4        ar\n",
       "4          10gs        5               3               9        ar\n",
       "...         ...      ...             ...             ...       ...\n",
       "264674     966c       46              24              44         1\n",
       "264675     966c       47              26              45         1\n",
       "264676     966c       48              26              46         1\n",
       "264677     966c       49              27              47         1\n",
       "264678     966c       50              27              48         1\n",
       "\n",
       "[264679 rows x 5 columns]"
      ]
     },
     "execution_count": 24,
     "metadata": {},
     "output_type": "execute_result"
    }
   ],
   "source": [
    "df_ligands_bonds"
   ]
  },
  {
   "cell_type": "markdown",
   "metadata": {},
   "source": [
    "# CASF-2016 coreset - Testing data"
   ]
  },
  {
   "cell_type": "code",
   "execution_count": 25,
   "metadata": {},
   "outputs": [],
   "source": [
    "path = \"C:/Users/redha.cherif_artefac/GitHub_perso/Research_project/Input/test_data/binding_constants_test.parquet\"\n",
    "binding_constants_test = pd.read_parquet(path)\n",
    "binding_constants_test = binding_constants_test.rename(columns={'#code':'pdb_code','logKa':'pKd_or_pKi','Ka':'Kd_or_Ki'})"
   ]
  },
  {
   "cell_type": "code",
   "execution_count": 26,
   "metadata": {},
   "outputs": [],
   "source": [
    "path = \"C:/Users/redha.cherif_artefac/GitHub_perso/Research_project/Input/test_data/df_proteins_test.parquet\"\n",
    "df_proteins_test = pd.read_parquet(path)"
   ]
  },
  {
   "cell_type": "code",
   "execution_count": 27,
   "metadata": {},
   "outputs": [],
   "source": [
    "path = \"C:/Users/redha.cherif_artefac/GitHub_perso/Research_project/Input/test_data/df_ligands_atoms_test.parquet\"\n",
    "df_ligands_atoms_test = pd.read_parquet(path)"
   ]
  },
  {
   "cell_type": "code",
   "execution_count": 28,
   "metadata": {},
   "outputs": [],
   "source": [
    "path = \"C:/Users/redha.cherif_artefac/GitHub_perso/Research_project/Input/test_data/df_ligands_bonds_test.parquet\"\n",
    "df_ligands_bonds_test = pd.read_parquet(path)"
   ]
  },
  {
   "cell_type": "markdown",
   "metadata": {},
   "source": [
    "#### Remove the 263 common complexes between the train and test from the train set "
   ]
  },
  {
   "cell_type": "code",
   "execution_count": 29,
   "metadata": {},
   "outputs": [],
   "source": [
    "\"\"\" \n",
    "    Remove the 263 comon complexes from the training set to make sure there is no data leakage \n",
    "                                                                                                \"\"\"\n",
    "comon_complex_values = binding_constants_train.merge(binding_constants_test,how='inner',on='pdb_code').pdb_code.values\n",
    "\n",
    "binding_constants_train = binding_constants_train[binding_constants_train.pdb_code.isin(comon_complex_values) == False]\n",
    "df_proteins = df_proteins[df_proteins.pdb_code.isin(comon_complex_values) == False]\n",
    "df_ligands_atoms = df_ligands_atoms[df_ligands_atoms.pdb_code.isin(comon_complex_values) == False]\n",
    "df_ligands_bonds = df_ligands_bonds[df_ligands_bonds.pdb_code.isin(comon_complex_values) == False]"
   ]
  },
  {
   "cell_type": "markdown",
   "metadata": {},
   "source": [
    "#### Sequence Clustering \n",
    "Sequence clustering has been performed based on the similarity of the protein sequences using CD-HIT (1591 clusters were generated)"
   ]
  },
  {
   "cell_type": "code",
   "execution_count": 30,
   "metadata": {},
   "outputs": [
    {
     "data": {
      "text/html": [
       "<div>\n",
       "<style scoped>\n",
       "    .dataframe tbody tr th:only-of-type {\n",
       "        vertical-align: middle;\n",
       "    }\n",
       "\n",
       "    .dataframe tbody tr th {\n",
       "        vertical-align: top;\n",
       "    }\n",
       "\n",
       "    .dataframe thead th {\n",
       "        text-align: right;\n",
       "    }\n",
       "</style>\n",
       "<table border=\"1\" class=\"dataframe\">\n",
       "  <thead>\n",
       "    <tr style=\"text-align: right;\">\n",
       "      <th></th>\n",
       "      <th>clusters_num</th>\n",
       "      <th>pdb_code</th>\n",
       "      <th>similarity_rate</th>\n",
       "      <th>Kd_or_Ki</th>\n",
       "      <th>pKd_or_pKi</th>\n",
       "    </tr>\n",
       "  </thead>\n",
       "  <tbody>\n",
       "    <tr>\n",
       "      <th>0</th>\n",
       "      <td>cluster_0</td>\n",
       "      <td>4qgi</td>\n",
       "      <td>93.94%</td>\n",
       "      <td>125uM</td>\n",
       "      <td>3.90</td>\n",
       "    </tr>\n",
       "    <tr>\n",
       "      <th>1</th>\n",
       "      <td>cluster_0</td>\n",
       "      <td>1a30</td>\n",
       "      <td>96.97%</td>\n",
       "      <td>50uM</td>\n",
       "      <td>4.30</td>\n",
       "    </tr>\n",
       "    <tr>\n",
       "      <th>2</th>\n",
       "      <td>cluster_0</td>\n",
       "      <td>2avq</td>\n",
       "      <td>93.94%</td>\n",
       "      <td>41uM</td>\n",
       "      <td>4.39</td>\n",
       "    </tr>\n",
       "    <tr>\n",
       "      <th>3</th>\n",
       "      <td>cluster_0</td>\n",
       "      <td>1aid</td>\n",
       "      <td>94.95%</td>\n",
       "      <td>15uM</td>\n",
       "      <td>4.82</td>\n",
       "    </tr>\n",
       "    <tr>\n",
       "      <th>4</th>\n",
       "      <td>cluster_0</td>\n",
       "      <td>2aoc</td>\n",
       "      <td>93.94%</td>\n",
       "      <td>13.0uM</td>\n",
       "      <td>4.89</td>\n",
       "    </tr>\n",
       "    <tr>\n",
       "      <th>...</th>\n",
       "      <td>...</td>\n",
       "      <td>...</td>\n",
       "      <td>...</td>\n",
       "      <td>...</td>\n",
       "      <td>...</td>\n",
       "    </tr>\n",
       "    <tr>\n",
       "      <th>4888</th>\n",
       "      <td>cluster_1506</td>\n",
       "      <td>6fhu</td>\n",
       "      <td>NaN</td>\n",
       "      <td>2.3mM</td>\n",
       "      <td>2.64</td>\n",
       "    </tr>\n",
       "    <tr>\n",
       "      <th>4889</th>\n",
       "      <td>cluster_1507</td>\n",
       "      <td>6mj7</td>\n",
       "      <td>NaN</td>\n",
       "      <td>1.5mM</td>\n",
       "      <td>2.82</td>\n",
       "    </tr>\n",
       "    <tr>\n",
       "      <th>4890</th>\n",
       "      <td>cluster_1508</td>\n",
       "      <td>5vh0</td>\n",
       "      <td>NaN</td>\n",
       "      <td>30uM</td>\n",
       "      <td>4.52</td>\n",
       "    </tr>\n",
       "    <tr>\n",
       "      <th>4891</th>\n",
       "      <td>cluster_1509</td>\n",
       "      <td>6a87</td>\n",
       "      <td>NaN</td>\n",
       "      <td>0.7mM</td>\n",
       "      <td>3.15</td>\n",
       "    </tr>\n",
       "    <tr>\n",
       "      <th>4892</th>\n",
       "      <td>cluster_1510</td>\n",
       "      <td>6eiz</td>\n",
       "      <td>NaN</td>\n",
       "      <td>0.6uM</td>\n",
       "      <td>6.22</td>\n",
       "    </tr>\n",
       "  </tbody>\n",
       "</table>\n",
       "<p>4893 rows × 5 columns</p>\n",
       "</div>"
      ],
      "text/plain": [
       "      clusters_num pdb_code similarity_rate Kd_or_Ki  pKd_or_pKi\n",
       "0        cluster_0     4qgi          93.94%    125uM        3.90\n",
       "1        cluster_0     1a30          96.97%     50uM        4.30\n",
       "2        cluster_0     2avq          93.94%     41uM        4.39\n",
       "3        cluster_0     1aid          94.95%     15uM        4.82\n",
       "4        cluster_0     2aoc          93.94%   13.0uM        4.89\n",
       "...            ...      ...             ...      ...         ...\n",
       "4888  cluster_1506     6fhu             NaN    2.3mM        2.64\n",
       "4889  cluster_1507     6mj7             NaN    1.5mM        2.82\n",
       "4890  cluster_1508     5vh0             NaN     30uM        4.52\n",
       "4891  cluster_1509     6a87             NaN    0.7mM        3.15\n",
       "4892  cluster_1510     6eiz             NaN    0.6uM        6.22\n",
       "\n",
       "[4893 rows x 5 columns]"
      ]
     },
     "execution_count": 30,
     "metadata": {},
     "output_type": "execute_result"
    }
   ],
   "source": [
    "\"\"\"\n",
    "After removing duplicate complexes within the different clusters, we have 1394 clusters at the end. \n",
    "From this, we can build 3 different datasets wich will be used for AI purposes.\n",
    "                                                                                                    \"\"\"\n",
    "path = \"C:/Users/redha.cherif_artefac/GitHub_perso/Research_project/Sequence_clustering/PDBbind_v2020_refined/\"\n",
    "seq_clustering = pd.read_excel(os.path.join(path,'dataset.xlsx'))\n",
    "seq_clustering.drop(['Unnamed: 5','Unnamed: 6'],inplace=True,axis=1)\n",
    "seq_clustering"
   ]
  },
  {
   "cell_type": "markdown",
   "metadata": {},
   "source": [
    "# Dataset 1 \n",
    "### Taking the pdb codes to build dataset_1 with min, max and median binding constants "
   ]
  },
  {
   "cell_type": "code",
   "execution_count": 31,
   "metadata": {},
   "outputs": [],
   "source": [
    "min_bind_const = seq_clustering.groupby(by=['clusters_num'],as_index=False,axis=0).min()[['clusters_num','pKd_or_pKi']]\n",
    "min_bind_const_comp = min_bind_const.merge(right=seq_clustering,how='inner',on=['clusters_num','pKd_or_pKi'])['pdb_code']"
   ]
  },
  {
   "cell_type": "code",
   "execution_count": 32,
   "metadata": {},
   "outputs": [],
   "source": [
    "median_bind_const = seq_clustering.groupby(by=['clusters_num'],as_index=False,axis=0).median()\n",
    "median_bind_const_comp = median_bind_const.merge(right=seq_clustering,how='inner',on=['clusters_num','pKd_or_pKi'])['pdb_code']"
   ]
  },
  {
   "cell_type": "code",
   "execution_count": 33,
   "metadata": {},
   "outputs": [],
   "source": [
    "max_bind_const = seq_clustering.groupby(by=['clusters_num'],as_index=False,axis=0).max()[['clusters_num','pKd_or_pKi']]\n",
    "max_bind_const_comp = max_bind_const.merge(right=seq_clustering,how='inner',on=['clusters_num','pKd_or_pKi'])['pdb_code']"
   ]
  },
  {
   "cell_type": "code",
   "execution_count": 34,
   "metadata": {},
   "outputs": [
    {
     "name": "stdout",
     "output_type": "stream",
     "text": [
      "The number of complexes with dataset 1 is equal to: 2318\n"
     ]
    }
   ],
   "source": [
    "from itertools import chain \n",
    "#Concatenate the three lists\n",
    "bind_const_dataset1_comp = list(chain(min_bind_const_comp,median_bind_const_comp,max_bind_const_comp))\n",
    "#Keep unique values from the result list \n",
    "bind_const_dataset1_comp = list(dict.fromkeys(bind_const_dataset1_comp))\n",
    "#Check the length of the new list\n",
    "print(f'The number of complexes with dataset 1 is equal to: {len(bind_const_dataset1_comp)}')"
   ]
  },
  {
   "cell_type": "code",
   "execution_count": 35,
   "metadata": {},
   "outputs": [],
   "source": [
    "def checkIfDuplicates(listOfElems):\n",
    "    ''' Check if given list contains any duplicates '''\n",
    "    if len(listOfElems) == len(set(listOfElems)):\n",
    "        return False\n",
    "    else:\n",
    "        return True"
   ]
  },
  {
   "cell_type": "code",
   "execution_count": 36,
   "metadata": {},
   "outputs": [
    {
     "data": {
      "text/plain": [
       "False"
      ]
     },
     "execution_count": 36,
     "metadata": {},
     "output_type": "execute_result"
    }
   ],
   "source": [
    "checkIfDuplicates(bind_const_dataset1_comp)"
   ]
  },
  {
   "cell_type": "code",
   "execution_count": 37,
   "metadata": {},
   "outputs": [],
   "source": [
    "binding_constants_train_dataset1 = binding_constants_train[binding_constants_train['pdb_code'].isin(bind_const_dataset1_comp)]"
   ]
  },
  {
   "cell_type": "code",
   "execution_count": 38,
   "metadata": {},
   "outputs": [],
   "source": [
    "df_proteins_dataset1 = df_proteins[df_proteins['pdb_code'].isin(bind_const_dataset1_comp)]"
   ]
  },
  {
   "cell_type": "code",
   "execution_count": 39,
   "metadata": {},
   "outputs": [],
   "source": [
    "df_ligands_atoms_dataset1 = df_ligands_atoms[df_ligands_atoms['pdb_code'].isin(bind_const_dataset1_comp)]"
   ]
  },
  {
   "cell_type": "code",
   "execution_count": 40,
   "metadata": {},
   "outputs": [],
   "source": [
    "df_ligands_bonds_dataset1 = df_ligands_bonds[df_ligands_bonds['pdb_code'].isin(bind_const_dataset1_comp)]"
   ]
  },
  {
   "cell_type": "code",
   "execution_count": 41,
   "metadata": {},
   "outputs": [
    {
     "name": "stdout",
     "output_type": "stream",
     "text": [
      "66\n"
     ]
    }
   ],
   "source": [
    "\"\"\"\n",
    "    In the dataset 1 (bind_const_dataset1_comp), there are 2318 complexes. \n",
    "    Afterwards, the different dataframes have only 2252 complexes, hence a difference of 66 complexes.\n",
    "    Here, we're checking we actually have 66 complexes as a difference\n",
    "                                                                                                        \"\"\"\n",
    "out_list = []\n",
    "for element in bind_const_dataset1_comp:\n",
    "    if element not in binding_constants_train_dataset1.pdb_code.values:\n",
    "        out_list.append(element)\n",
    "print(len(out_list))"
   ]
  },
  {
   "cell_type": "code",
   "execution_count": 42,
   "metadata": {},
   "outputs": [
    {
     "name": "stdout",
     "output_type": "stream",
     "text": [
      "Here, we show that these 66 complexes are present in the deleted comon complexes between the train and test\n"
     ]
    }
   ],
   "source": [
    "\"\"\"\n",
    "    Here, we're checking where did we loose these 66 complexes, if it was a mistake or not. \n",
    "    Here, we show that those 66 complexes are not present in the resulting dataframes because they have been \n",
    "    deleted beforehand as they were common to the test set.\n",
    "                                                                                                                \"\"\" \n",
    "in_list = []\n",
    "for element in out_list:\n",
    "    if element in comon_complex_values:\n",
    "        in_list.append(element)\n",
    "print(f'Here, we show that these {len(in_list)} complexes are present in the deleted comon complexes between the train and test')"
   ]
  },
  {
   "cell_type": "code",
   "execution_count": 43,
   "metadata": {},
   "outputs": [
    {
     "name": "stdout",
     "output_type": "stream",
     "text": [
      "Here, we show that these 66 complexes are present in the deleted comon complexes between the train and test\n"
     ]
    }
   ],
   "source": [
    "\"\"\"\n",
    "    Here, we're checking where did we loose these 74 complexes, if it was a mistake or not. \n",
    "    Here, we show that those 74 complexes are not present in the resulting dataframes because they have been \n",
    "    deleted beforehand as they were common to the test set.\n",
    "                                                                                                                \"\"\" \n",
    "in_list = []\n",
    "for element in out_list:\n",
    "    if element in comon_complex_values:\n",
    "        in_list.append(element)\n",
    "print(f'Here, we show that these {len(in_list)} complexes are present in the deleted comon complexes between the train and test')"
   ]
  },
  {
   "cell_type": "markdown",
   "metadata": {},
   "source": [
    "# Dataset 2\n",
    "\n",
    "### Taking the pdb codes to build dataset_2 by taking min, 20 centile, median, 80th centile and maximum binding constants"
   ]
  },
  {
   "cell_type": "code",
   "execution_count": 44,
   "metadata": {},
   "outputs": [],
   "source": [
    "min_bind_const = seq_clustering.groupby(by=['clusters_num'],as_index=False,axis=0).min()[['clusters_num','pKd_or_pKi']]\n",
    "min_bind_const_comp = min_bind_const.merge(right=seq_clustering,how='inner',on=['clusters_num','pKd_or_pKi'])['pdb_code']"
   ]
  },
  {
   "cell_type": "code",
   "execution_count": 45,
   "metadata": {},
   "outputs": [],
   "source": [
    "twentieth_percentile_const = seq_clustering.groupby(by=['clusters_num'],as_index=False,axis=0).quantile(0.20)\n",
    "twentieth_percentile_const_comp = twentieth_percentile_const.merge(right=seq_clustering,how='inner',on=['clusters_num','pKd_or_pKi'])['pdb_code']"
   ]
  },
  {
   "cell_type": "code",
   "execution_count": 46,
   "metadata": {},
   "outputs": [],
   "source": [
    "median_bind_const = seq_clustering.groupby(by=['clusters_num'],as_index=False,axis=0).median()[['clusters_num','pKd_or_pKi']]\n",
    "median_bind_const_comp = median_bind_const.merge(right=seq_clustering,how='inner',on=['clusters_num','pKd_or_pKi'])['pdb_code']"
   ]
  },
  {
   "cell_type": "code",
   "execution_count": 47,
   "metadata": {},
   "outputs": [],
   "source": [
    "eightieth_percentile_const = seq_clustering.groupby(by=['clusters_num'],as_index=False,axis=0).quantile(0.80)\n",
    "eightieth_percentile_const_comp = eightieth_percentile_const.merge(right=seq_clustering,how='inner',on=['clusters_num','pKd_or_pKi'])['pdb_code']"
   ]
  },
  {
   "cell_type": "code",
   "execution_count": 48,
   "metadata": {},
   "outputs": [],
   "source": [
    "max_bind_const = seq_clustering.groupby(by=['clusters_num'],as_index=False,axis=0).max()[['clusters_num','pKd_or_pKi']]\n",
    "max_bind_const_comp = max_bind_const.merge(right=seq_clustering,how='inner',on=['clusters_num','pKd_or_pKi'])['pdb_code']"
   ]
  },
  {
   "cell_type": "code",
   "execution_count": 49,
   "metadata": {},
   "outputs": [
    {
     "name": "stdout",
     "output_type": "stream",
     "text": [
      "The number of complexes with dataset 2 is equal to: 2443\n"
     ]
    }
   ],
   "source": [
    "from itertools import chain \n",
    "#Concatenate the three lists\n",
    "bind_const_dataset2_comp = list(chain(min_bind_const_comp,twentieth_percentile_const_comp,median_bind_const_comp, \n",
    "                                eightieth_percentile_const_comp,max_bind_const_comp))\n",
    "#Keep unique values from the result list \n",
    "bind_const_dataset2_comp = list(dict.fromkeys(bind_const_dataset2_comp))\n",
    "#Check the length of the new list\n",
    "print(f'The number of complexes with dataset 2 is equal to: {len(bind_const_dataset2_comp)}')"
   ]
  },
  {
   "cell_type": "code",
   "execution_count": 50,
   "metadata": {},
   "outputs": [
    {
     "data": {
      "text/plain": [
       "False"
      ]
     },
     "execution_count": 50,
     "metadata": {},
     "output_type": "execute_result"
    }
   ],
   "source": [
    "checkIfDuplicates(bind_const_dataset2_comp)"
   ]
  },
  {
   "cell_type": "code",
   "execution_count": 51,
   "metadata": {},
   "outputs": [],
   "source": [
    "binding_constants_train_dataset2 = binding_constants_train[binding_constants_train['pdb_code'].isin(bind_const_dataset2_comp)]"
   ]
  },
  {
   "cell_type": "code",
   "execution_count": 52,
   "metadata": {},
   "outputs": [],
   "source": [
    "df_proteins_dataset2 = df_proteins[df_proteins['pdb_code'].isin(bind_const_dataset2_comp)]"
   ]
  },
  {
   "cell_type": "code",
   "execution_count": 53,
   "metadata": {},
   "outputs": [],
   "source": [
    "df_ligands_atoms_dataset2 = df_ligands_atoms[df_ligands_atoms['pdb_code'].isin(bind_const_dataset2_comp)]"
   ]
  },
  {
   "cell_type": "code",
   "execution_count": 54,
   "metadata": {},
   "outputs": [],
   "source": [
    "df_ligands_bonds_dataset2 = df_ligands_bonds[df_ligands_bonds['pdb_code'].isin(bind_const_dataset2_comp)]"
   ]
  },
  {
   "cell_type": "code",
   "execution_count": 55,
   "metadata": {},
   "outputs": [
    {
     "name": "stdout",
     "output_type": "stream",
     "text": [
      "69\n"
     ]
    }
   ],
   "source": [
    "\"\"\"\n",
    "    In the dataset 2 (bind_const_dataset2_comp), there are 2636 complexes. \n",
    "    Afterwards, the different dataframes have only 2552 complexes, hence a difference of 84 complexes.\n",
    "    Here, we're checking we actually have 84 complexes as a difference\n",
    "                                                                                                        \"\"\"\n",
    "out_list = []\n",
    "for element in bind_const_dataset2_comp:\n",
    "    if element not in binding_constants_train_dataset2.pdb_code.values:\n",
    "        out_list.append(element)\n",
    "print(len(out_list))"
   ]
  },
  {
   "cell_type": "code",
   "execution_count": 56,
   "metadata": {},
   "outputs": [
    {
     "name": "stdout",
     "output_type": "stream",
     "text": [
      "Here, we show that these 69 complexes are present in the deleted comon complexes between the train and test\n"
     ]
    }
   ],
   "source": [
    "\"\"\"\n",
    "    Here, we're checking where did we loose these 74 complexes, if it was a mistake or not. \n",
    "    Here, we show that those 74 complexes are not present in the resulting dataframes because they have been \n",
    "    deleted beforehand as they were common to the test set.\n",
    "                                                                                                                \"\"\" \n",
    "in_list = []\n",
    "for element in out_list:\n",
    "    if element in comon_complex_values:\n",
    "        in_list.append(element)\n",
    "print(f'Here, we show that these {len(in_list)} complexes are present in the deleted comon complexes between the train and test')"
   ]
  },
  {
   "cell_type": "markdown",
   "metadata": {},
   "source": [
    "# Dataset 3\n",
    "### Taking the pdb codes to build dataset_3 with min, 25th centile, median, 75th centile and max binding constants "
   ]
  },
  {
   "cell_type": "code",
   "execution_count": 57,
   "metadata": {},
   "outputs": [],
   "source": [
    "min_bind_const = seq_clustering.groupby(by=['clusters_num'],as_index=False,axis=0).min()[['clusters_num','pKd_or_pKi']]\n",
    "min_bind_const_comp = min_bind_const.merge(right=seq_clustering,how='inner',on=['clusters_num','pKd_or_pKi'])['pdb_code']"
   ]
  },
  {
   "cell_type": "code",
   "execution_count": 58,
   "metadata": {},
   "outputs": [],
   "source": [
    "twentyfifth_percentile_const = seq_clustering.groupby(by=['clusters_num'],as_index=False,axis=0).quantile(0.25)\n",
    "twentyfifth_percentile_const_comp = twentyfifth_percentile_const.merge(right=seq_clustering,how='inner',on=['clusters_num','pKd_or_pKi'])['pdb_code']"
   ]
  },
  {
   "cell_type": "code",
   "execution_count": 59,
   "metadata": {},
   "outputs": [],
   "source": [
    "median_bind_const = seq_clustering.groupby(by=['clusters_num'],as_index=False,axis=0).median()\n",
    "median_bind_const_comp = median_bind_const.merge(right=seq_clustering,how='inner',on=['clusters_num','pKd_or_pKi'])['pdb_code']"
   ]
  },
  {
   "cell_type": "code",
   "execution_count": 60,
   "metadata": {},
   "outputs": [],
   "source": [
    "seventyfifth_percentile_const = seq_clustering.groupby(by=['clusters_num'],as_index=False,axis=0).quantile(0.75)\n",
    "seventyfifth_percentile_const_comp = seventyfifth_percentile_const.merge(right=seq_clustering,how='inner',on=['clusters_num','pKd_or_pKi'])['pdb_code']"
   ]
  },
  {
   "cell_type": "code",
   "execution_count": 61,
   "metadata": {},
   "outputs": [],
   "source": [
    "max_bind_const = seq_clustering.groupby(by=['clusters_num'],as_index=False,axis=0).max()[['clusters_num','pKd_or_pKi']]\n",
    "max_bind_const_comp = max_bind_const.merge(right=seq_clustering,how='inner',on=['clusters_num','pKd_or_pKi'])['pdb_code']"
   ]
  },
  {
   "cell_type": "code",
   "execution_count": 62,
   "metadata": {},
   "outputs": [
    {
     "name": "stdout",
     "output_type": "stream",
     "text": [
      "The number of complexes with dataset 3 is equal to: 2495\n"
     ]
    }
   ],
   "source": [
    "from itertools import chain \n",
    "#Concatenate the three lists\n",
    "bind_const_dataset3_comp = list(chain(min_bind_const_comp,twentyfifth_percentile_const_comp,median_bind_const_comp,seventyfifth_percentile_const_comp,max_bind_const_comp))\n",
    "#Keep unique values from the result list \n",
    "bind_const_dataset3_comp = list(dict.fromkeys(bind_const_dataset3_comp))\n",
    "#Check the length of the new list\n",
    "print(f'The number of complexes with dataset 3 is equal to: {len(bind_const_dataset3_comp)}')"
   ]
  },
  {
   "cell_type": "code",
   "execution_count": 63,
   "metadata": {},
   "outputs": [
    {
     "data": {
      "text/plain": [
       "False"
      ]
     },
     "execution_count": 63,
     "metadata": {},
     "output_type": "execute_result"
    }
   ],
   "source": [
    "checkIfDuplicates(bind_const_dataset3_comp)"
   ]
  },
  {
   "cell_type": "code",
   "execution_count": 64,
   "metadata": {},
   "outputs": [],
   "source": [
    "binding_constants_train_dataset3 = binding_constants_train[binding_constants_train['pdb_code'].isin(bind_const_dataset3_comp)]"
   ]
  },
  {
   "cell_type": "code",
   "execution_count": 65,
   "metadata": {},
   "outputs": [],
   "source": [
    "df_proteins_dataset3 = df_proteins[df_proteins['pdb_code'].isin(bind_const_dataset3_comp)]"
   ]
  },
  {
   "cell_type": "code",
   "execution_count": 66,
   "metadata": {},
   "outputs": [],
   "source": [
    "df_ligands_atoms_dataset3 = df_ligands_atoms[df_ligands_atoms['pdb_code'].isin(bind_const_dataset3_comp)]"
   ]
  },
  {
   "cell_type": "code",
   "execution_count": 67,
   "metadata": {},
   "outputs": [],
   "source": [
    "df_ligands_bonds_dataset3 = df_ligands_bonds[df_ligands_bonds['pdb_code'].isin(bind_const_dataset3_comp)]"
   ]
  },
  {
   "cell_type": "code",
   "execution_count": 68,
   "metadata": {},
   "outputs": [
    {
     "name": "stdout",
     "output_type": "stream",
     "text": [
      "74\n"
     ]
    }
   ],
   "source": [
    "\"\"\"\n",
    "    In the dataset 3 (bind_const_dataset3_comp), there are 2416 complexes. \n",
    "    Afterwards, the different dataframes have only 2342 complexes, hence a difference of 66 complexes.\n",
    "    Here, we're checking we actually have 66 complexes as a difference\n",
    "                                                                                                        \"\"\"\n",
    "out_list = []\n",
    "for element in bind_const_dataset3_comp:\n",
    "    if element not in binding_constants_train_dataset3.pdb_code.values:\n",
    "        out_list.append(element)\n",
    "print(len(out_list))"
   ]
  },
  {
   "cell_type": "code",
   "execution_count": 69,
   "metadata": {},
   "outputs": [
    {
     "name": "stdout",
     "output_type": "stream",
     "text": [
      "Here, we show that these 74 complexes are present in the deleted comon complexes between the train and test\n"
     ]
    }
   ],
   "source": [
    "\"\"\"\n",
    "    Here, we're checking where did we loose these 74 complexes, if it was a mistake or not. \n",
    "    Here, we show that those 74 complexes are not present in the resulting dataframes because they have been \n",
    "    deleted beforehand as they were common to the test set.\n",
    "                                                                                                                \"\"\" \n",
    "in_list = []\n",
    "for element in out_list:\n",
    "    if element in comon_complex_values:\n",
    "        in_list.append(element)\n",
    "print(f'Here, we show that these {len(in_list)} complexes are present in the deleted comon complexes between the train and test')"
   ]
  },
  {
   "cell_type": "markdown",
   "metadata": {},
   "source": [
    "# Feature engineering "
   ]
  },
  {
   "cell_type": "markdown",
   "metadata": {},
   "source": [
    "## Feature engineering on df_lig_bonds"
   ]
  },
  {
   "cell_type": "code",
   "execution_count": 70,
   "metadata": {},
   "outputs": [],
   "source": [
    "\"\"\"\n",
    "    Here, the purpose is to count the number of bond types each ligand has. \n",
    "    We want to prepare aggregated df at the complex granularity.\n",
    "                                                                            \"\"\"\n",
    "# Dataset 1\n",
    "nb_bond_types_df1 = df_ligands_bonds_dataset1.groupby(['pdb_code','bond_type']).count().reset_index()\n",
    "nb_bond_types_df1 = nb_bond_types_df1[['pdb_code','bond_type','bond_id']].rename(columns={'bond_id':'lig_nb_bonds'})\n",
    "\n",
    "# Dataset 2\n",
    "nb_bond_types_df2 = df_ligands_bonds_dataset2.groupby(['pdb_code','bond_type']).count().reset_index()\n",
    "nb_bond_types_df2 = nb_bond_types_df2[['pdb_code','bond_type','bond_id']].rename(columns={'bond_id':'lig_nb_bonds'})\n",
    "\n",
    "# Dataset 3\n",
    "nb_bond_types_df3 = df_ligands_bonds_dataset3.groupby(['pdb_code','bond_type']).count().reset_index()\n",
    "nb_bond_types_df3 = nb_bond_types_df3[['pdb_code','bond_type','bond_id']].rename(columns={'bond_id':'lig_nb_bonds'})\n",
    "\n",
    "# Test\n",
    "nb_bond_types_test = df_ligands_bonds_test.groupby(['pdb_code','bond_type']).count().reset_index()\n",
    "nb_bond_types_test = nb_bond_types_test[['pdb_code','bond_type','bond_id']].rename(columns={'bond_id':'lig_nb_bonds'})"
   ]
  },
  {
   "cell_type": "code",
   "execution_count": 71,
   "metadata": {},
   "outputs": [],
   "source": [
    "\"\"\"\n",
    "    Here, the purpose is to calculate the average number of bonds each ligand has. \n",
    "    We want to prepare aggregated df at the complex granularity.\n",
    "                                                                                    \"\"\"\n",
    "# Dataset 1\n",
    "mean_bond_types_df1 = df_ligands_bonds_dataset1.groupby(['pdb_code','bond_type']).count()['bond_id'] / df_ligands_bonds_dataset1.groupby(['pdb_code']).count()['bond_id']\n",
    "mean_bond_types_df1 = mean_bond_types_df1.reset_index().rename(columns={'bond_id':'lig_mean_nb_bonds'})\n",
    "\n",
    "# Dataset 2\n",
    "mean_bond_types_df2 = df_ligands_bonds_dataset2.groupby(['pdb_code','bond_type']).count()['bond_id'] / df_ligands_bonds_dataset2.groupby(['pdb_code']).count()['bond_id']\n",
    "mean_bond_types_df2 = mean_bond_types_df2.reset_index().rename(columns={'bond_id':'lig_mean_nb_bonds'})\n",
    "\n",
    "# Dataset 3\n",
    "mean_bond_types_df3 = df_ligands_bonds_dataset3.groupby(['pdb_code','bond_type']).count()['bond_id'] / df_ligands_bonds_dataset3.groupby(['pdb_code']).count()['bond_id']\n",
    "mean_bond_types_df3 = mean_bond_types_df3.reset_index().rename(columns={'bond_id':'lig_mean_nb_bonds'})\n",
    "\n",
    "# Test\n",
    "mean_bond_types_test = df_ligands_bonds_test.groupby(['pdb_code','bond_type']).count()['bond_id'] / df_ligands_bonds_test.groupby(['pdb_code']).count()['bond_id']\n",
    "mean_bond_types_test = mean_bond_types_test.reset_index().rename(columns={'bond_id':'lig_mean_nb_bonds'})"
   ]
  },
  {
   "cell_type": "code",
   "execution_count": 72,
   "metadata": {},
   "outputs": [],
   "source": [
    "# Dataset 1\n",
    "\"\"\" Here, we're joining the dataframes \"\"\"  \n",
    "bonds_df_dataset1 = nb_bond_types_df1.merge(mean_bond_types_df1,how='inner',on=['pdb_code','bond_type']) #join df \n",
    "\n",
    "\"\"\" Here, we're creationg a new feature \"\"\"\n",
    "bonds_df_dataset1['lig_nb_mean_diff'] = bonds_df_dataset1['lig_nb_bonds'] - bonds_df_dataset1['lig_mean_nb_bonds'] # addition of a new column which substracts nb and mean \n",
    "\n",
    "# Dataset 2\n",
    "\"\"\" Here, we're joining the dataframes \"\"\"  \n",
    "bonds_df_dataset2 = nb_bond_types_df2.merge(mean_bond_types_df2,how='inner',on=['pdb_code','bond_type']) #join simple bonds df \n",
    "\n",
    "\"\"\" Here, we're creationg a new feature \"\"\"\n",
    "bonds_df_dataset2['lig_nb_mean_diff'] = bonds_df_dataset2['lig_nb_bonds'] - bonds_df_dataset2['lig_mean_nb_bonds'] # addition of a new column which substracts nb and mean \n",
    "\n",
    "# Dataset 3\n",
    "\"\"\" Here, we're joining the dataframes \"\"\"  \n",
    "bonds_df_dataset3 = nb_bond_types_df3.merge(mean_bond_types_df3,how='inner',on=['pdb_code','bond_type']) #join simple bonds df \n",
    "\n",
    "\"\"\" Here, we're creationg a new feature \"\"\"\n",
    "bonds_df_dataset3['lig_nb_mean_diff'] = bonds_df_dataset3['lig_nb_bonds'] - bonds_df_dataset3['lig_mean_nb_bonds'] # addition of a new column which substracts nb and mean \n",
    "\n",
    "# Test\n",
    "\"\"\" Here, we're joining the dataframes \"\"\"  \n",
    "bonds_df_test = nb_bond_types_test.merge(mean_bond_types_test,how='inner',on=['pdb_code','bond_type']) #join simple bonds df \n",
    "\n",
    "\"\"\" Here, we're creationg a new feature \"\"\"\n",
    "bonds_df_test['lig_nb_mean_diff'] = bonds_df_test['lig_nb_bonds'] - bonds_df_test['lig_mean_nb_bonds'] # addition of a new column which substracts nb and mean "
   ]
  },
  {
   "cell_type": "code",
   "execution_count": 73,
   "metadata": {},
   "outputs": [],
   "source": [
    "\"\"\" Here, I'm building dfs based on the bond type at the complex granularity which will be joined later to the other df to build the final bigger dataset \"\"\" \n",
    "\n",
    "# Dataset 1\n",
    "nb_simple_bonds_dataset1 = bonds_df_dataset1[bonds_df_dataset1['bond_type'] == '1'].rename(columns={'lig_nb_bonds':'lig_nb_simple_bonds','lig_mean_nb_bonds':'lig_mean_simple_bonds','lig_nb_mean_diff':'lig_nb_mean_simple_diff'})\n",
    "nb_double_bonds_dataset1 = bonds_df_dataset1[bonds_df_dataset1['bond_type'] == '2'].rename(columns={'lig_nb_bonds':'lig_nb_double_bonds','lig_mean_nb_bonds':'lig_mean_double_bonds','lig_nb_mean_diff':'lig_nb_mean_double_diff'})\n",
    "nb_triple_bonds_dataset1 = bonds_df_dataset1[bonds_df_dataset1['bond_type'] == '3'].rename(columns={'lig_nb_bonds':'lig_nb_triple_bonds','lig_mean_nb_bonds':'lig_mean_triple_bonds','lig_nb_mean_diff':'lig_nb_mean_triple_diff'})\n",
    "nb_ar_bonds_dataset1 = bonds_df_dataset1[bonds_df_dataset1['bond_type'] == 'ar'].rename(columns={'lig_nb_bonds':'lig_nb_ar_bonds','lig_mean_nb_bonds':'lig_mean_ar_bonds','lig_nb_mean_diff':'lig_nb_mean_ar_diff'})\n",
    "nb_am_bonds_dataset1 = bonds_df_dataset1[bonds_df_dataset1['bond_type'] == 'am'].rename(columns={'lig_nb_bonds':'lig_nb_am_bonds','lig_mean_nb_bonds':'lig_mean_am_bonds','lig_nb_mean_diff':'lig_nb_mean_am_diff'})\n",
    "\n",
    "# Dataset 2\n",
    "nb_simple_bonds_dataset2 = bonds_df_dataset2[bonds_df_dataset2['bond_type'] == '1'].rename(columns={'lig_nb_bonds':'lig_nb_simple_bonds','lig_mean_nb_bonds':'lig_mean_simple_bonds','lig_nb_mean_diff':'lig_nb_mean_simple_diff'})\n",
    "nb_double_bonds_dataset2 = bonds_df_dataset2[bonds_df_dataset2['bond_type'] == '2'].rename(columns={'lig_nb_bonds':'lig_nb_double_bonds','lig_mean_nb_bonds':'lig_mean_double_bonds','lig_nb_mean_diff':'lig_nb_mean_double_diff'})\n",
    "nb_triple_bonds_dataset2 = bonds_df_dataset2[bonds_df_dataset2['bond_type'] == '3'].rename(columns={'lig_nb_bonds':'lig_nb_triple_bonds','lig_mean_nb_bonds':'lig_mean_triple_bonds','lig_nb_mean_diff':'lig_nb_mean_triple_diff'})\n",
    "nb_ar_bonds_dataset2 = bonds_df_dataset2[bonds_df_dataset2['bond_type'] == 'ar'].rename(columns={'lig_nb_bonds':'lig_nb_ar_bonds','lig_mean_nb_bonds':'lig_mean_ar_bonds','lig_nb_mean_diff':'lig_nb_mean_ar_diff'})\n",
    "nb_am_bonds_dataset2 = bonds_df_dataset2[bonds_df_dataset2['bond_type'] == 'am'].rename(columns={'lig_nb_bonds':'lig_nb_am_bonds','lig_mean_nb_bonds':'lig_mean_am_bonds','lig_nb_mean_diff':'lig_nb_mean_am_diff'})\n",
    "\n",
    "# Dataset 3\n",
    "nb_simple_bonds_dataset3 = bonds_df_dataset3[bonds_df_dataset3['bond_type'] == '1'].rename(columns={'lig_nb_bonds':'lig_nb_simple_bonds','lig_mean_nb_bonds':'lig_mean_simple_bonds','lig_nb_mean_diff':'lig_nb_mean_simple_diff'})\n",
    "nb_double_bonds_dataset3 = bonds_df_dataset3[bonds_df_dataset3['bond_type'] == '2'].rename(columns={'lig_nb_bonds':'lig_nb_double_bonds','lig_mean_nb_bonds':'lig_mean_double_bonds','lig_nb_mean_diff':'lig_nb_mean_double_diff'})\n",
    "nb_triple_bonds_dataset3 = bonds_df_dataset3[bonds_df_dataset3['bond_type'] == '3'].rename(columns={'lig_nb_bonds':'lig_nb_triple_bonds','lig_mean_nb_bonds':'lig_mean_triple_bonds','lig_nb_mean_diff':'lig_nb_mean_triple_diff'})\n",
    "nb_ar_bonds_dataset3 = bonds_df_dataset3[bonds_df_dataset3['bond_type'] == 'ar'].rename(columns={'lig_nb_bonds':'lig_nb_ar_bonds','lig_mean_nb_bonds':'lig_mean_ar_bonds','lig_nb_mean_diff':'lig_nb_mean_ar_diff'})\n",
    "nb_am_bonds_dataset3 = bonds_df_dataset3[bonds_df_dataset3['bond_type'] == 'am'].rename(columns={'lig_nb_bonds':'lig_nb_am_bonds','lig_mean_nb_bonds':'lig_mean_am_bonds','lig_nb_mean_diff':'lig_nb_mean_am_diff'})\n",
    "\n",
    "# Test\n",
    "nb_simple_bonds_test = bonds_df_test[bonds_df_test['bond_type'] == '1'].rename(columns={'lig_nb_bonds':'lig_nb_simple_bonds','lig_mean_nb_bonds':'lig_mean_simple_bonds','lig_nb_mean_diff':'lig_nb_mean_simple_diff'})\n",
    "nb_double_bonds_test = bonds_df_test[bonds_df_test['bond_type'] == '2'].rename(columns={'lig_nb_bonds':'lig_nb_double_bonds','lig_mean_nb_bonds':'lig_mean_double_bonds','lig_nb_mean_diff':'lig_nb_mean_double_diff'})\n",
    "nb_triple_bonds_test = bonds_df_test[bonds_df_test['bond_type'] == '3'].rename(columns={'lig_nb_bonds':'lig_nb_triple_bonds','lig_mean_nb_bonds':'lig_mean_triple_bonds','lig_nb_mean_diff':'lig_nb_mean_triple_diff'})\n",
    "nb_ar_bonds_test = bonds_df_test[bonds_df_test['bond_type'] == 'ar'].rename(columns={'lig_nb_bonds':'lig_nb_ar_bonds','lig_mean_nb_bonds':'lig_mean_ar_bonds','lig_nb_mean_diff':'lig_nb_mean_ar_diff'})\n",
    "nb_am_bonds_test = bonds_df_test[bonds_df_test['bond_type'] == 'am'].rename(columns={'lig_nb_bonds':'lig_nb_am_bonds','lig_mean_nb_bonds':'lig_mean_am_bonds','lig_nb_mean_diff':'lig_nb_mean_am_diff'})"
   ]
  },
  {
   "cell_type": "code",
   "execution_count": 74,
   "metadata": {},
   "outputs": [
    {
     "name": "stdout",
     "output_type": "stream",
     "text": [
      "(2252, 16)\n",
      "(2374, 16)\n",
      "(2421, 16)\n",
      "(285, 16)\n"
     ]
    }
   ],
   "source": [
    "\"\"\" Here, we will build the final 'df_lig_bond_dat1_f' with all features \"\"\"\n",
    "\n",
    "# Dataset 1 \n",
    "first_merge_d1 = nb_simple_bonds_dataset1.merge(nb_double_bonds_dataset1,how='left',on='pdb_code')\n",
    "second_merge_d1 = first_merge_d1.merge(nb_triple_bonds_dataset1,how='left',on='pdb_code')\n",
    "third_merge_d1 = second_merge_d1.merge(nb_ar_bonds_dataset1,how='left',on='pdb_code')\n",
    "df_lig_bond_dat1_f = third_merge_d1.merge(nb_am_bonds_dataset3, how='left',on='pdb_code')\n",
    "## Delete bond type cols \n",
    "df_lig_bond_dat1_f.drop(labels=['bond_type','bond_type_x','bond_type_y'],axis=1,inplace=True)\n",
    "## Fill NaN values with 0 \n",
    "df_lig_bond_dat1_f = df_lig_bond_dat1_f.fillna(value=0)\n",
    "print(df_lig_bond_dat1_f.shape)\n",
    "\n",
    "# Dataset 2\n",
    "first_merge_d2 = nb_simple_bonds_dataset2.merge(nb_double_bonds_dataset2,how='left',on='pdb_code')\n",
    "second_merge_d2 = first_merge_d2.merge(nb_triple_bonds_dataset2,how='left',on='pdb_code')\n",
    "third_merge_d2 = second_merge_d2.merge(nb_ar_bonds_dataset2,how='left',on='pdb_code')\n",
    "df_lig_bond_dat2_f = third_merge_d2.merge(nb_am_bonds_dataset3, how='left',on='pdb_code')\n",
    "## Delete bond type cols \n",
    "df_lig_bond_dat2_f.drop(labels=['bond_type','bond_type_x','bond_type_y'],axis=1,inplace=True)\n",
    "## Fill NaN values with 0 \n",
    "df_lig_bond_dat2_f = df_lig_bond_dat2_f.fillna(value=0)\n",
    "print(df_lig_bond_dat2_f.shape)\n",
    "\n",
    "# Dataset 3\n",
    "first_merge_d3 = nb_simple_bonds_dataset3.merge(nb_double_bonds_dataset3,how='left',on='pdb_code')\n",
    "second_merge_d3 = first_merge_d3.merge(nb_triple_bonds_dataset3,how='left',on='pdb_code')\n",
    "third_merge_d3 = second_merge_d3.merge(nb_ar_bonds_dataset3,how='left',on='pdb_code')\n",
    "df_lig_bond_dat3_f = third_merge_d3.merge(nb_am_bonds_dataset3, how='left',on='pdb_code')\n",
    "## Delete bond type cols \n",
    "df_lig_bond_dat3_f.drop(labels=['bond_type','bond_type_x','bond_type_y'],axis=1,inplace=True)\n",
    "## Fill NaN values with 0 \n",
    "df_lig_bond_dat3_f = df_lig_bond_dat3_f.fillna(value=0)\n",
    "print(df_lig_bond_dat3_f.shape)\n",
    "\n",
    "# Test\n",
    "first_merge_test = nb_simple_bonds_test.merge(nb_double_bonds_test,how='left',on='pdb_code')\n",
    "second_merge_test = first_merge_test.merge(nb_triple_bonds_test,how='left',on='pdb_code')\n",
    "third_merge_test = second_merge_test.merge(nb_ar_bonds_test,how='left',on='pdb_code')\n",
    "df_lig_bond_test_f = third_merge_test.merge(nb_am_bonds_test, how='left',on='pdb_code')\n",
    "## Delete bond type cols \n",
    "df_lig_bond_test_f.drop(labels=['bond_type','bond_type_x','bond_type_y'],axis=1,inplace=True)\n",
    "## Fill NaN values with 0 \n",
    "df_lig_bond_test_f = df_lig_bond_test_f.fillna(value=0)\n",
    "print(df_lig_bond_test_f.shape)"
   ]
  },
  {
   "cell_type": "markdown",
   "metadata": {},
   "source": [
    "## Feature engineering on df_lig_atoms : calculate atom distances within ligands and average charges\n",
    "#### Not for atom types because we would change the granularity of the dataframe (atom type instead of ligand)"
   ]
  },
  {
   "cell_type": "code",
   "execution_count": 75,
   "metadata": {},
   "outputs": [],
   "source": [
    "def distance_df(df, xyz=(0.00, 0.00, 0.00)):\n",
    "        \"\"\"Computes Euclidean distance between atoms and a 3D point.\n",
    "        Parameters\n",
    "        ----------\n",
    "        df : DataFrame\n",
    "            DataFrame containing entries in the `PandasPdb.df['ATOM']`\n",
    "            or `PandasPdb.df['HETATM']` format for the\n",
    "            the distance computation to the `xyz` reference coordinates.\n",
    "        xyz : tuple, default: (0.00, 0.00, 0.00)\n",
    "            X, Y, and Z coordinate of the reference center for the distance\n",
    "            computation.\n",
    "        Returns\n",
    "        ---------\n",
    "        pandas.Series : Pandas Series object containing the Euclidean\n",
    "            distance between the atoms in the record section and `xyz`.\n",
    "        \"\"\"\n",
    "        return np.sqrt(\n",
    "            np.sum(\n",
    "                df[[\"log_x_normalized\", \"log_y_normalized\", \"log_z_normalized\"]].subtract(xyz, axis=1) ** 2, axis=1\n",
    "            )\n",
    "        )"
   ]
  },
  {
   "cell_type": "code",
   "execution_count": 76,
   "metadata": {},
   "outputs": [
    {
     "name": "stdout",
     "output_type": "stream",
     "text": [
      "We can that there are outliers for x in the three datasets.\n"
     ]
    },
    {
     "data": {
      "image/png": "[encoded data removed]",
      "text/plain": [
       "<Figure size 1440x576 with 3 Axes>"
      ]
     },
     "metadata": {
      "needs_background": "light"
     },
     "output_type": "display_data"
    }
   ],
   "source": [
    "plt.figure(figsize=(20,8))\n",
    "plt.suptitle(\"Distribution of x coordinate for the different datasets\", fontsize=14)\n",
    "\n",
    "plt.subplot(2,2,1)\n",
    "sns.histplot(data=df_ligands_atoms_dataset1,x='x',bins=30)\n",
    "plt.title('Histogram for df_ligands_atoms_dataset1')\n",
    "\n",
    "plt.subplot(2,2,2)\n",
    "sns.histplot(data=df_ligands_atoms_dataset2,x='x',bins=30)\n",
    "plt.title('Histogram for df_ligands_atoms_dataset2')\n",
    "\n",
    "plt.subplot(2,2,3)\n",
    "sns.histplot(data=df_ligands_atoms_dataset3,x='x',bins=30)\n",
    "plt.title('Histogram for df_ligands_atoms_dataset3')\n",
    "\n",
    "print('We can that there are outliers for x in the three datasets.')"
   ]
  },
  {
   "cell_type": "code",
   "execution_count": 77,
   "metadata": {},
   "outputs": [
    {
     "name": "stdout",
     "output_type": "stream",
     "text": [
      "We can that there are outliers for y in the three datasets.\n"
     ]
    },
    {
     "data": {
      "image/png": "[encoded data removed]",
      "text/plain": [
       "<Figure size 1440x576 with 3 Axes>"
      ]
     },
     "metadata": {
      "needs_background": "light"
     },
     "output_type": "display_data"
    }
   ],
   "source": [
    "plt.figure(figsize=(20,8))\n",
    "plt.suptitle(\"Distribution of y coordinate for the different datasets\", fontsize=14)\n",
    "\n",
    "plt.subplot(2,2,1)\n",
    "sns.histplot(data=df_ligands_atoms_dataset1,x='y',bins=30)\n",
    "plt.title('Histogram for df_ligands_atoms_dataset1')\n",
    "\n",
    "plt.subplot(2,2,2)\n",
    "sns.histplot(data=df_ligands_atoms_dataset2,x='y',bins=30)\n",
    "plt.title('Histogram for df_ligands_atoms_dataset2')\n",
    "\n",
    "plt.subplot(2,2,3)\n",
    "sns.histplot(data=df_ligands_atoms_dataset3,x='y',bins=30)\n",
    "plt.title('Histogram for df_ligands_atoms_dataset3')\n",
    "\n",
    "print('We can that there are outliers for y in the three datasets.')"
   ]
  },
  {
   "cell_type": "code",
   "execution_count": 78,
   "metadata": {},
   "outputs": [
    {
     "name": "stdout",
     "output_type": "stream",
     "text": [
      "We can that there are outliers for z in the three datasets.\n"
     ]
    },
    {
     "data": {
      "image/png": "[encoded data removed]",
      "text/plain": [
       "<Figure size 1440x576 with 3 Axes>"
      ]
     },
     "metadata": {
      "needs_background": "light"
     },
     "output_type": "display_data"
    }
   ],
   "source": [
    "plt.figure(figsize=(20,8))\n",
    "plt.suptitle(\"Distribution of z coordinate for the different datasets\", fontsize=14)\n",
    "\n",
    "plt.subplot(2,2,1)\n",
    "sns.histplot(data=df_ligands_atoms_dataset1,x='z',bins=30)\n",
    "plt.title('Histogram for df_ligands_atoms_dataset1')\n",
    "\n",
    "plt.subplot(2,2,2)\n",
    "sns.histplot(data=df_ligands_atoms_dataset2,x='z',bins=30)\n",
    "plt.title('Histogram for df_ligands_atoms_dataset2')\n",
    "\n",
    "plt.subplot(2,2,3)\n",
    "sns.histplot(data=df_ligands_atoms_dataset3,x='z',bins=30)\n",
    "plt.title('Histogram for df_ligands_atoms_dataset3')\n",
    "\n",
    "print('We can that there are outliers for z in the three datasets.')"
   ]
  },
  {
   "cell_type": "markdown",
   "metadata": {},
   "source": [
    "Following this quick EDA, to squeeze these outliers, I will log the x,y and z coordinates. But, beforehand, we need to make sure all values are strictly positive to be able to apply log. To do so, we will add to all values (min + 1) to make the minimum value being 1."
   ]
  },
  {
   "cell_type": "code",
   "execution_count": 79,
   "metadata": {},
   "outputs": [],
   "source": [
    "for dataset in [df_ligands_atoms_dataset1, df_ligands_atoms_dataset2, df_ligands_atoms_dataset3,df_ligands_atoms_test]:\n",
    "    dataset['log_x'] = np.log(dataset.x)\n",
    "    dataset['log_y'] = np.log(dataset.y)\n",
    "    dataset['log_z'] = np.log(dataset.z)"
   ]
  },
  {
   "cell_type": "code",
   "execution_count": 80,
   "metadata": {},
   "outputs": [
    {
     "data": {
      "text/plain": [
       "Text(0.5, 1.0, 'Histogram for df_ligands_atoms_dataset3')"
      ]
     },
     "execution_count": 80,
     "metadata": {},
     "output_type": "execute_result"
    },
    {
     "data": {
      "image/png": "[encoded data removed]",
      "text/plain": [
       "<Figure size 1440x720 with 3 Axes>"
      ]
     },
     "metadata": {
      "needs_background": "light"
     },
     "output_type": "display_data"
    }
   ],
   "source": [
    "plt.figure(figsize=(20,10))\n",
    "plt.suptitle(\"Distribution of log(x) coordinate for the different datasets - Logarithm scale allows to squeeze the distribution but the distribution is rightly skewed!\", fontsize=14)\n",
    "\n",
    "plt.subplot(2,2,1)\n",
    "sns.histplot(data=df_ligands_atoms_dataset1,x='log_x',bins=30)\n",
    "plt.title('Histogram for df_ligands_atoms_dataset1')\n",
    "\n",
    "plt.subplot(2,2,2)\n",
    "sns.histplot(data=df_ligands_atoms_dataset2,x='log_x',bins=30)\n",
    "plt.title('Histogram for df_ligands_atoms_dataset2')\n",
    "\n",
    "plt.subplot(2,2,3)\n",
    "sns.histplot(data=df_ligands_atoms_dataset3,x='log_x',bins=30)\n",
    "plt.title('Histogram for df_ligands_atoms_dataset3')"
   ]
  },
  {
   "cell_type": "code",
   "execution_count": 81,
   "metadata": {},
   "outputs": [
    {
     "data": {
      "text/plain": [
       "Text(0.5, 1.0, 'Histogram for df_ligands_atoms_dataset3')"
      ]
     },
     "execution_count": 81,
     "metadata": {},
     "output_type": "execute_result"
    },
    {
     "data": {
      "image/png": "[encoded data removed]",
      "text/plain": [
       "<Figure size 1440x720 with 3 Axes>"
      ]
     },
     "metadata": {
      "needs_background": "light"
     },
     "output_type": "display_data"
    }
   ],
   "source": [
    "plt.figure(figsize=(20,10))\n",
    "plt.suptitle(\"Distribution of log(y) coordinate for the different datasets - Logarithm scale allows to squeeze the distribution but the distribution is rightly skewed!\", fontsize=14)\n",
    "\n",
    "plt.subplot(2,2,1)\n",
    "sns.histplot(data=df_ligands_atoms_dataset1,x='log_y',bins=30)\n",
    "plt.title('Histogram for df_ligands_atoms_dataset1')\n",
    "\n",
    "plt.subplot(2,2,2)\n",
    "sns.histplot(data=df_ligands_atoms_dataset2,x='log_y',bins=30)\n",
    "plt.title('Histogram for df_ligands_atoms_dataset2')\n",
    "\n",
    "plt.subplot(2,2,3)\n",
    "sns.histplot(data=df_ligands_atoms_dataset3,x='log_y',bins=30)\n",
    "plt.title('Histogram for df_ligands_atoms_dataset3')"
   ]
  },
  {
   "cell_type": "code",
   "execution_count": 82,
   "metadata": {},
   "outputs": [
    {
     "data": {
      "text/plain": [
       "Text(0.5, 1.0, 'Histogram for df_ligands_atoms_dataset3')"
      ]
     },
     "execution_count": 82,
     "metadata": {},
     "output_type": "execute_result"
    },
    {
     "data": {
      "image/png": "[encoded data removed]",
      "text/plain": [
       "<Figure size 1440x720 with 3 Axes>"
      ]
     },
     "metadata": {
      "needs_background": "light"
     },
     "output_type": "display_data"
    }
   ],
   "source": [
    "plt.figure(figsize=(20,10))\n",
    "plt.suptitle(\"Distribution of log(z) coordinate for the different datasets - Logarithm scale allows to squeeze the distribution but the distribution is rightly skewed!\", fontsize=14)\n",
    "\n",
    "plt.subplot(2,2,1)\n",
    "sns.histplot(data=df_ligands_atoms_dataset1,x='log_z',bins=30)\n",
    "plt.title('Histogram for df_ligands_atoms_dataset1')\n",
    "\n",
    "plt.subplot(2,2,2)\n",
    "sns.histplot(data=df_ligands_atoms_dataset2,x='log_z',bins=30)\n",
    "plt.title('Histogram for df_ligands_atoms_dataset2')\n",
    "\n",
    "plt.subplot(2,2,3)\n",
    "sns.histplot(data=df_ligands_atoms_dataset3,x='log_z',bins=30)\n",
    "plt.title('Histogram for df_ligands_atoms_dataset3')"
   ]
  },
  {
   "cell_type": "code",
   "execution_count": 83,
   "metadata": {},
   "outputs": [],
   "source": [
    "\"\"\" Here, we want to shif the sample of values to make the minimum value equal to 1 (as log is define within R+*) \"\"\"\n",
    "for dataset in [df_ligands_atoms_dataset1, df_ligands_atoms_dataset2, df_ligands_atoms_dataset3,df_ligands_atoms_test]:\n",
    "    dataset['x_shifted'] = dataset.x - dataset.x.min() + 1 \n",
    "    dataset['y_shifted'] = dataset.y - dataset.y.min() + 1 \n",
    "    dataset['z_shifted'] = dataset.z - dataset.z.min() + 1 "
   ]
  },
  {
   "cell_type": "code",
   "execution_count": 84,
   "metadata": {},
   "outputs": [],
   "source": [
    "for dataset in [df_ligands_atoms_dataset1, df_ligands_atoms_dataset2, df_ligands_atoms_dataset3,df_ligands_atoms_test]:\n",
    "    dataset['log_x'] = np.log(dataset.x_shifted)\n",
    "    dataset['log_y'] = np.log(dataset.y_shifted)\n",
    "    dataset['log_z'] = np.log(dataset.z_shifted)"
   ]
  },
  {
   "cell_type": "code",
   "execution_count": 85,
   "metadata": {},
   "outputs": [
    {
     "data": {
      "text/plain": [
       "Text(0.5, 1.0, 'Histogram for df_ligands_atoms_dataset3')"
      ]
     },
     "execution_count": 85,
     "metadata": {},
     "output_type": "execute_result"
    },
    {
     "data": {
      "image/png": "[encoded data removed]",
      "text/plain": [
       "<Figure size 1440x720 with 3 Axes>"
      ]
     },
     "metadata": {
      "needs_background": "light"
     },
     "output_type": "display_data"
    }
   ],
   "source": [
    "plt.figure(figsize=(20,10))\n",
    "plt.suptitle(\"Distribution of log(x) coordinate for the different datasets - Now, the values are righlty described by a gaussian-like distribution!\", fontsize=14)\n",
    "\n",
    "plt.subplot(2,2,1)\n",
    "sns.histplot(data=df_ligands_atoms_dataset1,x='log_x',bins=50)\n",
    "plt.title('Histogram for df_ligands_atoms_dataset1')\n",
    "\n",
    "plt.subplot(2,2,2)\n",
    "sns.histplot(data=df_ligands_atoms_dataset2,x='log_x',bins=50)\n",
    "plt.title('Histogram for df_ligands_atoms_dataset2')\n",
    "\n",
    "plt.subplot(2,2,3)\n",
    "sns.histplot(data=df_ligands_atoms_dataset3,x='log_x',bins=50)\n",
    "plt.title('Histogram for df_ligands_atoms_dataset3')"
   ]
  },
  {
   "cell_type": "code",
   "execution_count": 86,
   "metadata": {},
   "outputs": [
    {
     "data": {
      "text/plain": [
       "Text(0.5, 1.0, 'Histogram for df_ligands_atoms_dataset3')"
      ]
     },
     "execution_count": 86,
     "metadata": {},
     "output_type": "execute_result"
    },
    {
     "data": {
      "image/png": "[encoded data removed]",
      "text/plain": [
       "<Figure size 1440x720 with 3 Axes>"
      ]
     },
     "metadata": {
      "needs_background": "light"
     },
     "output_type": "display_data"
    }
   ],
   "source": [
    "plt.figure(figsize=(20,10))\n",
    "plt.suptitle(\"Distribution of log(y) coordinate for the different datasets - Now, the values are righlty described by a gaussian-like distribution!\", fontsize=14)\n",
    "\n",
    "plt.subplot(2,2,1)\n",
    "sns.histplot(data=df_ligands_atoms_dataset1,x='log_y',bins=60)\n",
    "plt.title('Histogram for df_ligands_atoms_dataset1')\n",
    "\n",
    "plt.subplot(2,2,2)\n",
    "sns.histplot(data=df_ligands_atoms_dataset2,x='log_y',bins=60)\n",
    "plt.title('Histogram for df_ligands_atoms_dataset2')\n",
    "\n",
    "plt.subplot(2,2,3)\n",
    "sns.histplot(data=df_ligands_atoms_dataset3,x='log_y',bins=60)\n",
    "plt.title('Histogram for df_ligands_atoms_dataset3')"
   ]
  },
  {
   "cell_type": "code",
   "execution_count": 87,
   "metadata": {},
   "outputs": [
    {
     "data": {
      "text/plain": [
       "Text(0.5, 1.0, 'Histogram for df_ligands_atoms_dataset3')"
      ]
     },
     "execution_count": 87,
     "metadata": {},
     "output_type": "execute_result"
    },
    {
     "data": {
      "image/png": "[encoded data removed]",
      "text/plain": [
       "<Figure size 1440x720 with 3 Axes>"
      ]
     },
     "metadata": {
      "needs_background": "light"
     },
     "output_type": "display_data"
    }
   ],
   "source": [
    "plt.figure(figsize=(20,10))\n",
    "plt.suptitle(\"Distribution of log(z) coordinate for the different datasets - Now, the values are righlty described by a gaussian-like distribution!\", fontsize=14)\n",
    "\n",
    "plt.subplot(2,2,1)\n",
    "sns.histplot(data=df_ligands_atoms_dataset1,x='log_z',bins=50)\n",
    "plt.title('Histogram for df_ligands_atoms_dataset1')\n",
    "\n",
    "plt.subplot(2,2,2)\n",
    "sns.histplot(data=df_ligands_atoms_dataset2,x='log_z',bins=50)\n",
    "plt.title('Histogram for df_ligands_atoms_dataset2')\n",
    "\n",
    "plt.subplot(2,2,3)\n",
    "sns.histplot(data=df_ligands_atoms_dataset3,x='log_z',bins=50)\n",
    "plt.title('Histogram for df_ligands_atoms_dataset3')"
   ]
  },
  {
   "cell_type": "code",
   "execution_count": 88,
   "metadata": {},
   "outputs": [],
   "source": [
    "\"\"\" Here, we want to normalize the data to make it between 0 and 1 \"\"\" \n",
    "for dataset in [df_ligands_atoms_dataset1, df_ligands_atoms_dataset2, df_ligands_atoms_dataset3,df_ligands_atoms_test]:\n",
    "    dataset['log_x_normalized'] = (dataset.log_x - dataset.log_x.min()) / (dataset.log_x.max() - dataset.log_x.min())\n",
    "    dataset['log_y_normalized'] = (dataset.log_y - dataset.log_y.min()) / (dataset.log_y.max() - dataset.log_y.min())\n",
    "    dataset['log_z_normalized'] = (dataset.log_z - dataset.log_z.min()) / (dataset.log_z.max() - dataset.log_z.min())"
   ]
  },
  {
   "cell_type": "code",
   "execution_count": 89,
   "metadata": {},
   "outputs": [],
   "source": [
    "# Dataset 1\n",
    "atoms_df_dataset1 = df_ligands_atoms_dataset1.groupby(by='pdb_code').apply(distance_df).reset_index().rename(columns={0:'lig_distances'}).drop(labels='level_1',axis=1)\n",
    "lig_distances_df1 = atoms_df_dataset1.groupby(by='pdb_code').mean().reset_index()\n",
    "\n",
    "# Dataset 2\n",
    "atoms_df_dataset2 = df_ligands_atoms_dataset2.groupby(by='pdb_code').apply(distance_df).reset_index().rename(columns={0:'lig_distances'}).drop(labels='level_1',axis=1)\n",
    "lig_distances_df2 = atoms_df_dataset2.groupby(by='pdb_code').mean().reset_index()\n",
    "\n",
    "# Dataset 3\n",
    "atoms_df_dataset3 = df_ligands_atoms_dataset3.groupby(by='pdb_code').apply(distance_df).reset_index().rename(columns={0:'lig_distances'}).drop(labels='level_1',axis=1)\n",
    "lig_distances_df3 = atoms_df_dataset3.groupby(by='pdb_code').mean().reset_index()\n",
    "\n",
    "# Test\n",
    "atoms_df_test = df_ligands_atoms_test.groupby(by='pdb_code').apply(distance_df).reset_index().rename(columns={0:'lig_distances'}).drop(labels='level_1',axis=1)\n",
    "lig_distances_test = atoms_df_test.groupby(by='pdb_code').mean().reset_index()"
   ]
  },
  {
   "cell_type": "code",
   "execution_count": 90,
   "metadata": {},
   "outputs": [
    {
     "data": {
      "text/plain": [
       "Text(0.5, 1.0, 'Histogram for df_ligands_atoms_dataset3')"
      ]
     },
     "execution_count": 90,
     "metadata": {},
     "output_type": "execute_result"
    },
    {
     "data": {
      "image/png": "[encoded data removed]",
      "text/plain": [
       "<Figure size 1440x720 with 3 Axes>"
      ]
     },
     "metadata": {
      "needs_background": "light"
     },
     "output_type": "display_data"
    }
   ],
   "source": [
    "plt.figure(figsize=(20,10))\n",
    "plt.suptitle(\"Distribution of atom charges for the different datasets \", fontsize=14)\n",
    "\n",
    "plt.subplot(2,2,1)\n",
    "sns.histplot(data=df_ligands_atoms_dataset1,x='charge',bins=50)\n",
    "plt.title('Histogram for df_ligands_atoms_dataset1')\n",
    "\n",
    "plt.subplot(2,2,2)\n",
    "sns.histplot(data=df_ligands_atoms_dataset2,x='charge',bins=50)\n",
    "plt.title('Histogram for df_ligands_atoms_dataset2')\n",
    "\n",
    "plt.subplot(2,2,3)\n",
    "sns.histplot(data=df_ligands_atoms_dataset3,x='charge',bins=50)\n",
    "plt.title('Histogram for df_ligands_atoms_dataset3')"
   ]
  },
  {
   "cell_type": "code",
   "execution_count": 91,
   "metadata": {},
   "outputs": [],
   "source": [
    "# Dataset 1\n",
    "lig_sum_charge_df1 = df_ligands_atoms_dataset1.groupby('pdb_code').sum().reset_index()[['pdb_code','charge']].rename(columns={'charge':'lig_sum_charge'})\n",
    "lig_mean_charge_df1 = df_ligands_atoms_dataset1.groupby('pdb_code').mean().reset_index()[['pdb_code','charge']].rename(columns={'charge':'lig_mean_charge'})\n",
    "lig_median_charge_df1 = df_ligands_atoms_dataset1.groupby('pdb_code').median().reset_index()[['pdb_code','charge']].rename(columns={'charge':'lig_median_charge'})\n",
    "lig_charge_df1 = lig_sum_charge_df1.merge(lig_mean_charge_df1,on='pdb_code',how='inner')\n",
    "lig_charge_df1 = lig_charge_df1.merge(lig_median_charge_df1,on='pdb_code',how='inner')\n",
    "lig_charge_df1['lig_sum_mean_diff'] = lig_charge_df1['lig_sum_charge'] - lig_charge_df1['lig_mean_charge']\n",
    "lig_charge_df1['lig_sum_median_diff'] = lig_charge_df1['lig_sum_charge'] - lig_charge_df1['lig_median_charge']\n",
    "\n",
    "# Dataset 2\n",
    "lig_sum_charge_df2 = df_ligands_atoms_dataset2.groupby('pdb_code').sum().reset_index()[['pdb_code','charge']].rename(columns={'charge':'lig_sum_charge'})\n",
    "lig_mean_charge_df2 = df_ligands_atoms_dataset2.groupby('pdb_code').mean().reset_index()[['pdb_code','charge']].rename(columns={'charge':'lig_mean_charge'})\n",
    "lig_median_charge_df2 = df_ligands_atoms_dataset2.groupby('pdb_code').median().reset_index()[['pdb_code','charge']].rename(columns={'charge':'lig_median_charge'})\n",
    "lig_charge_df2 = lig_sum_charge_df2.merge(lig_mean_charge_df2,on='pdb_code',how='inner')\n",
    "lig_charge_df2 = lig_charge_df2.merge(lig_median_charge_df2,on='pdb_code',how='inner')\n",
    "lig_charge_df2['lig_sum_mean_diff'] = lig_charge_df2['lig_sum_charge'] - lig_charge_df2['lig_mean_charge']\n",
    "lig_charge_df2['lig_sum_median_diff'] = lig_charge_df2['lig_sum_charge'] - lig_charge_df2['lig_median_charge']\n",
    "\n",
    "# Dataset 3\n",
    "lig_sum_charge_df3 = df_ligands_atoms_dataset3.groupby('pdb_code').sum().reset_index()[['pdb_code','charge']].rename(columns={'charge':'lig_sum_charge'})\n",
    "lig_mean_charge_df3 = df_ligands_atoms_dataset3.groupby('pdb_code').mean().reset_index()[['pdb_code','charge']].rename(columns={'charge':'lig_mean_charge'})\n",
    "lig_median_charge_df3 = df_ligands_atoms_dataset3.groupby('pdb_code').median().reset_index()[['pdb_code','charge']].rename(columns={'charge':'lig_median_charge'})\n",
    "lig_charge_df3 = lig_sum_charge_df3.merge(lig_mean_charge_df3,on='pdb_code',how='inner')\n",
    "lig_charge_df3 = lig_charge_df3.merge(lig_median_charge_df3,on='pdb_code',how='inner')\n",
    "lig_charge_df3['lig_sum_mean_diff'] = lig_charge_df3['lig_sum_charge'] - lig_charge_df3['lig_mean_charge']\n",
    "lig_charge_df3['lig_sum_median_diff'] = lig_charge_df3['lig_sum_charge'] - lig_charge_df3['lig_median_charge']\n",
    "\n",
    "# Test\n",
    "lig_sum_charge_test = df_ligands_atoms_test.groupby('pdb_code').sum().reset_index()[['pdb_code','charge']].rename(columns={'charge':'lig_sum_charge'})\n",
    "lig_mean_charge_test = df_ligands_atoms_test.groupby('pdb_code').mean().reset_index()[['pdb_code','charge']].rename(columns={'charge':'lig_mean_charge'})\n",
    "lig_median_charge_test = df_ligands_atoms_test.groupby('pdb_code').median().reset_index()[['pdb_code','charge']].rename(columns={'charge':'lig_median_charge'})\n",
    "lig_charge_test = lig_sum_charge_test.merge(lig_mean_charge_test,on='pdb_code',how='inner')\n",
    "lig_charge_test = lig_charge_test.merge(lig_median_charge_test,on='pdb_code',how='inner')\n",
    "lig_charge_test['lig_sum_mean_diff'] = lig_charge_test['lig_sum_charge'] - lig_charge_test['lig_mean_charge']\n",
    "lig_charge_test['lig_sum_median_diff'] = lig_charge_test['lig_sum_charge'] - lig_charge_test['lig_median_charge']"
   ]
  },
  {
   "cell_type": "code",
   "execution_count": 92,
   "metadata": {},
   "outputs": [
    {
     "name": "stdout",
     "output_type": "stream",
     "text": [
      "(2252, 7)\n",
      "(2374, 7)\n",
      "(2421, 7)\n",
      "(285, 7)\n"
     ]
    }
   ],
   "source": [
    "\"\"\" Here, we will build the final 'df_lig_atoms_dat1_f' with all features \"\"\"\n",
    "\n",
    "# Dataset 1\n",
    "df_lig_atoms_dat1_f = lig_distances_df1.merge(lig_charge_df1,how='left',on='pdb_code')\n",
    "print(df_lig_atoms_dat1_f.shape)\n",
    "\n",
    "# Dataset 2\n",
    "df_lig_atoms_dat2_f = lig_distances_df2.merge(lig_charge_df2,how='left',on='pdb_code')\n",
    "print(df_lig_atoms_dat2_f.shape)\n",
    "\n",
    "# Dataset 3\n",
    "df_lig_atoms_dat3_f = lig_distances_df3.merge(lig_charge_df3,how='left',on='pdb_code')\n",
    "print(df_lig_atoms_dat3_f.shape)\n",
    "\n",
    "# Test\n",
    "df_lig_atoms_test_f = lig_distances_test.merge(lig_charge_test,how='left',on='pdb_code')\n",
    "print(df_lig_atoms_test_f.shape)"
   ]
  },
  {
   "cell_type": "code",
   "execution_count": 93,
   "metadata": {},
   "outputs": [
    {
     "data": {
      "text/plain": [
       "Text(0.5, 1.0, 'Countplot for df_ligands_atoms_dataset3')"
      ]
     },
     "execution_count": 93,
     "metadata": {},
     "output_type": "execute_result"
    },
    {
     "data": {
      "image/png": "[encoded data removed]",
      "text/plain": [
       "<Figure size 2520x720 with 3 Axes>"
      ]
     },
     "metadata": {
      "needs_background": "light"
     },
     "output_type": "display_data"
    }
   ],
   "source": [
    "plt.figure(figsize=(35,10))\n",
    "plt.suptitle(\"Distribution of atom types for the different datasets\", fontsize=14)\n",
    "\n",
    "plt.subplot(2,2,1)\n",
    "sns.countplot(data=df_ligands_atoms_dataset1,x='atom_type')\n",
    "plt.title('Countplot for df_ligands_atoms_dataset1')\n",
    "\n",
    "plt.subplot(2,2,2)\n",
    "sns.countplot(data=df_ligands_atoms_dataset2,x='atom_type')\n",
    "plt.title('Countplot for df_ligands_atoms_dataset2')\n",
    "\n",
    "plt.subplot(2,2,3)\n",
    "sns.countplot(data=df_ligands_atoms_dataset2,x='atom_type')\n",
    "plt.title('Countplot for df_ligands_atoms_dataset3')"
   ]
  },
  {
   "cell_type": "code",
   "execution_count": 94,
   "metadata": {},
   "outputs": [],
   "source": [
    "\"\"\" Here, we calculate the number of atom types there are for each protein \"\"\" \n",
    "# Dataset 1\n",
    "lig_atom_type_count_dataset1 = df_ligands_atoms_dataset1.groupby(by=['pdb_code','atom_type']).count().reset_index()[['pdb_code','atom_type','atom_id']].rename(columns={'atom_id':'lig_atom_type_count'})\n",
    "\n",
    "# Dataset 2\n",
    "lig_atom_type_count_dataset2 = df_ligands_atoms_dataset2.groupby(by=['pdb_code','atom_type']).count().reset_index()[['pdb_code','atom_type','atom_id']].rename(columns={'atom_id':'lig_atom_type_count'})\n",
    "\n",
    "# Dataset 3 \n",
    "lig_atom_type_count_dataset3 = df_ligands_atoms_dataset3.groupby(by=['pdb_code','atom_type']).count().reset_index()[['pdb_code','atom_type','atom_id']].rename(columns={'atom_id':'lig_atom_type_count'})\n",
    "\n",
    "# Test \n",
    "lig_atom_type_count_test = df_ligands_atoms_test.groupby(by=['pdb_code','atom_type']).count().reset_index()[['pdb_code','atom_type','atom_id']].rename(columns={'atom_id':'lig_atom_type_count'})"
   ]
  },
  {
   "cell_type": "code",
   "execution_count": 95,
   "metadata": {},
   "outputs": [],
   "source": [
    "\"\"\" Here, we calculate the average number of atom types for each protein \"\"\" \n",
    "# Dataset 1 \n",
    "lig_atom_type_mean_dataset1 = df_ligands_atoms_dataset1.groupby(['pdb_code','atom_type']).count()['atom_id'] / df_ligands_atoms_dataset1.groupby(['pdb_code']).count()['atom_type']\n",
    "lig_atom_type_mean_dataset1 = lig_atom_type_mean_dataset1.reset_index().rename(columns={0:'lig_atom_type_mean'})\n",
    "\n",
    "# Dataset 2\n",
    "lig_atom_type_mean_dataset2 = df_ligands_atoms_dataset2.groupby(['pdb_code','atom_type']).count()['atom_id'] / df_ligands_atoms_dataset2.groupby(['pdb_code']).count()['atom_type']\n",
    "lig_atom_type_mean_dataset2 = lig_atom_type_mean_dataset2.reset_index().rename(columns={0:'lig_atom_type_mean'})\n",
    "\n",
    "# Dataset 3\n",
    "lig_atom_type_mean_dataset3 = df_ligands_atoms_dataset3.groupby(['pdb_code','atom_type']).count()['atom_id'] / df_ligands_atoms_dataset3.groupby(['pdb_code']).count()['atom_type']\n",
    "lig_atom_type_mean_dataset3 = lig_atom_type_mean_dataset3.reset_index().rename(columns={0:'lig_atom_type_mean'})\n",
    "\n",
    "# Test \n",
    "lig_atom_type_mean_test = df_ligands_atoms_test.groupby(['pdb_code','atom_type']).count()['atom_id'] / df_ligands_atoms_test.groupby(['pdb_code']).count()['atom_type']\n",
    "lig_atom_type_mean_test = lig_atom_type_mean_test.reset_index().rename(columns={0:'lig_atom_type_mean'})"
   ]
  },
  {
   "cell_type": "code",
   "execution_count": 96,
   "metadata": {},
   "outputs": [],
   "source": [
    "\"\"\" Here, we make the difference between the number of atom types and its average \"\"\" \n",
    "# Dataset 1 \n",
    "lig_atom_type_count_mean_dataset1 = lig_atom_type_count_dataset1.merge(lig_atom_type_mean_dataset1,how='left',on='pdb_code')\n",
    "lig_atom_type_count_mean_dataset1['lig_atom_type_count_mean_diff'] = lig_atom_type_count_mean_dataset1['lig_atom_type_count'] - lig_atom_type_count_mean_dataset1['lig_atom_type_mean']\n",
    "lig_atom_type_count_mean_dataset1 = lig_atom_type_count_mean_dataset1.drop(labels='atom_type_y',axis=1).rename(columns={'atom_type_x':'atom_type'})\n",
    "\n",
    "# Dataset 2\n",
    "lig_atom_type_count_mean_dataset2 = lig_atom_type_count_dataset2.merge(lig_atom_type_mean_dataset2,how='left',on='pdb_code')\n",
    "lig_atom_type_count_mean_dataset2['lig_atom_type_count_mean_diff'] = lig_atom_type_count_mean_dataset2['lig_atom_type_count'] - lig_atom_type_count_mean_dataset2['lig_atom_type_mean']\n",
    "lig_atom_type_count_mean_dataset2 = lig_atom_type_count_mean_dataset2.drop(labels='atom_type_y',axis=1).rename(columns={'atom_type_x':'atom_type'})\n",
    "\n",
    "# Dataset 3\n",
    "lig_atom_type_count_mean_dataset3 = lig_atom_type_count_dataset3.merge(lig_atom_type_mean_dataset3,how='left',on='pdb_code')\n",
    "lig_atom_type_count_mean_dataset3['lig_atom_type_count_mean_diff'] = lig_atom_type_count_mean_dataset3['lig_atom_type_count'] - lig_atom_type_count_mean_dataset3['lig_atom_type_mean']\n",
    "lig_atom_type_count_mean_dataset3 = lig_atom_type_count_mean_dataset3.drop(labels='atom_type_y',axis=1).rename(columns={'atom_type_x':'atom_type'})\n",
    "\n",
    "# Test\n",
    "lig_atom_type_count_mean_test = lig_atom_type_count_test.merge(lig_atom_type_mean_test,how='left',on='pdb_code')\n",
    "lig_atom_type_count_mean_test['lig_atom_type_count_mean_diff'] = lig_atom_type_count_mean_test['lig_atom_type_count'] - lig_atom_type_count_mean_test['lig_atom_type_mean']\n",
    "lig_atom_type_count_mean_test = lig_atom_type_count_mean_test.drop(labels='atom_type_y',axis=1).rename(columns={'atom_type_x':'atom_type'})"
   ]
  },
  {
   "cell_type": "code",
   "execution_count": 97,
   "metadata": {},
   "outputs": [],
   "source": [
    "def insert_atom_types_nb(dataset,dataset_f):\n",
    "    \"\"\" \n",
    "        This function allows to count the number of atom types within each ligand and \n",
    "        creates a column for each type of atom \n",
    "                                                                                        \"\"\"\n",
    "    for col in dataset.atom_type.unique():\n",
    "        atom_type_count =  dataset[dataset['atom_type'] == col][['pdb_code','lig_atom_type_count']].rename(columns={'lig_atom_type_count':'lig_'+col+'_atom_count'})\n",
    "        dataset_f = dataset_f.merge(atom_type_count,how='left',on='pdb_code')\n",
    "    return dataset_f\n",
    "\n",
    "def insert_atom_types_mean(dataset,dataset_f):\n",
    "    \"\"\" \n",
    "        This function allows to count the number of atom types within each ligand and \n",
    "        creates a column for each type of atom \n",
    "                                                                                        \"\"\"\n",
    "    for col in dataset.atom_type.unique():\n",
    "        atom_type_count =  dataset[dataset['atom_type'] == col][['pdb_code','lig_atom_type_mean']].rename(columns={'lig_atom_type_mean':'lig_'+col+'_atom_mean'})\n",
    "        dataset_f = dataset_f.merge(atom_type_count,how='left',on='pdb_code')\n",
    "    return dataset_f\n",
    "\n",
    "def insert_atom_types_count_mean_diff(dataset,dataset_f):\n",
    "    \"\"\" \n",
    "        This function allows to count the number of atom types within each ligand and \n",
    "        creates a column for each type of atom \n",
    "                                                                                        \"\"\"\n",
    "    for col in dataset.atom_type.unique():\n",
    "        atom_type_count =  dataset[dataset['atom_type'] == col][['pdb_code','lig_atom_type_count_mean_diff']].rename(columns={'lig_atom_type_count_mean_diff':'lig_'+col+'_atom_count_mean_diff'})\n",
    "        dataset_f = dataset_f.merge(atom_type_count,how='left',on='pdb_code')\n",
    "    return dataset_f"
   ]
  },
  {
   "cell_type": "code",
   "execution_count": 98,
   "metadata": {},
   "outputs": [],
   "source": [
    "\"\"\" Here, we insert number of atom types columns \"\"\" \n",
    "# Dataset 1\n",
    "df_lig_atoms_dat1_f =  insert_atom_types_nb(lig_atom_type_count_dataset1,df_lig_atoms_dat1_f)\n",
    "\n",
    "# Dataset 2\n",
    "df_lig_atoms_dat2_f =  insert_atom_types_nb(lig_atom_type_count_dataset2,df_lig_atoms_dat2_f)\n",
    "\n",
    "# Dataset 3 \n",
    "df_lig_atoms_dat3_f =  insert_atom_types_nb(lig_atom_type_count_dataset3,df_lig_atoms_dat3_f)\n",
    "\n",
    "# Test\n",
    "df_lig_atoms_test_f =  insert_atom_types_nb(lig_atom_type_count_test,df_lig_atoms_test_f)"
   ]
  },
  {
   "cell_type": "code",
   "execution_count": 99,
   "metadata": {},
   "outputs": [],
   "source": [
    "\"\"\" Here, we insert average number of atom types columns \"\"\" \n",
    "# Dataset 1\n",
    "df_lig_atoms_dat1_f =  insert_atom_types_mean(lig_atom_type_mean_dataset1,df_lig_atoms_dat1_f)\n",
    "\n",
    "# Dataset 2\n",
    "df_lig_atoms_dat2_f =  insert_atom_types_mean(lig_atom_type_mean_dataset2,df_lig_atoms_dat2_f)\n",
    "\n",
    "# Dataset 3 \n",
    "df_lig_atoms_dat3_f =  insert_atom_types_mean(lig_atom_type_mean_dataset3,df_lig_atoms_dat3_f)\n",
    "\n",
    "# Test\n",
    "df_lig_atoms_test_f =  insert_atom_types_mean(lig_atom_type_mean_test,df_lig_atoms_test_f)"
   ]
  },
  {
   "cell_type": "code",
   "execution_count": 100,
   "metadata": {},
   "outputs": [],
   "source": [
    "# Dataset 1\n",
    "df_lig_atoms_dat1_f.fillna(0,inplace=True)\n",
    "\n",
    "# Dataset 2\n",
    "df_lig_atoms_dat2_f.fillna(0,inplace=True)\n",
    "\n",
    "# Dataset 3\n",
    "df_lig_atoms_dat3_f.fillna(0,inplace=True)\n",
    "\n",
    "# Test\n",
    "df_lig_atoms_test_f.fillna(0,inplace=True)"
   ]
  },
  {
   "cell_type": "markdown",
   "metadata": {},
   "source": [
    "## Feature engineering on df_proteins : "
   ]
  },
  {
   "cell_type": "markdown",
   "metadata": {},
   "source": [
    "### x,y and z FE with preprocessing"
   ]
  },
  {
   "cell_type": "code",
   "execution_count": 101,
   "metadata": {},
   "outputs": [],
   "source": [
    "# Training data \n",
    "df_proteins_dataset1.drop(columns=['blank_1','blank_2','blank_3','blank_4'],axis=1,inplace=True)\n",
    "df_proteins_dataset2.drop(columns=['blank_1','blank_2','blank_3','blank_4'],axis=1,inplace=True)\n",
    "df_proteins_dataset3.drop(columns=['blank_1','blank_2','blank_3','blank_4'],axis=1,inplace=True)\n",
    "\n",
    "df_proteins_dataset1.drop(columns=['alt_loc','insertion','segment_id'],axis=1,inplace=True)\n",
    "df_proteins_dataset2.drop(columns=['alt_loc','insertion','segment_id'],axis=1,inplace=True)\n",
    "df_proteins_dataset3.drop(columns=['alt_loc','insertion','segment_id'],axis=1,inplace=True)\n",
    "\n",
    "df_proteins_dataset1.drop(columns=['charge'],axis=1,inplace=True)\n",
    "df_proteins_dataset2.drop(columns=['charge'],axis=1,inplace=True)\n",
    "df_proteins_dataset3.drop(columns=['charge'],axis=1,inplace=True)\n",
    "\n",
    "# Test data\n",
    "df_proteins_test.drop(columns=['blank_1','blank_2','blank_3','blank_4'],axis=1,inplace=True)\n",
    "df_proteins_test.drop(columns=['alt_loc','insertion','segment_id'],axis=1,inplace=True)\n",
    "df_proteins_test.drop(columns=['charge'],axis=1,inplace=True)\n"
   ]
  },
  {
   "cell_type": "code",
   "execution_count": 102,
   "metadata": {},
   "outputs": [],
   "source": [
    "for dataset in [df_proteins_dataset1, df_proteins_dataset2, df_proteins_dataset3,df_proteins_test]:\n",
    "    dataset['log_x'] = np.log(dataset.x_coord)\n",
    "    dataset['log_y'] = np.log(dataset.y_coord)\n",
    "    dataset['log_z'] = np.log(dataset.z_coord)"
   ]
  },
  {
   "cell_type": "code",
   "execution_count": 103,
   "metadata": {},
   "outputs": [],
   "source": [
    "\"\"\" Here, we want to shif the sample of values to make the minimum value equal to 1 (as log is define within R+*) \"\"\"\n",
    "for dataset in [df_proteins_dataset1, df_proteins_dataset2, df_proteins_dataset3, df_proteins_test]:\n",
    "    dataset['x_shifted'] = dataset.x_coord - dataset.x_coord.min() + 1 \n",
    "    dataset['y_shifted'] = dataset.y_coord - dataset.y_coord.min() + 1 \n",
    "    dataset['z_shifted'] = dataset.z_coord - dataset.z_coord.min() + 1 "
   ]
  },
  {
   "cell_type": "code",
   "execution_count": 104,
   "metadata": {},
   "outputs": [],
   "source": [
    "for dataset in [df_proteins_dataset1, df_proteins_dataset2, df_proteins_dataset3, df_proteins_test]:\n",
    "    dataset['log_x'] = np.log(dataset.x_shifted)\n",
    "    dataset['log_y'] = np.log(dataset.y_shifted)\n",
    "    dataset['log_z'] = np.log(dataset.z_shifted)"
   ]
  },
  {
   "cell_type": "code",
   "execution_count": 105,
   "metadata": {},
   "outputs": [],
   "source": [
    "\"\"\" Here, we want to normalize the data to make it between 0 and 1 \"\"\" \n",
    "for dataset in [df_proteins_dataset1, df_proteins_dataset2, df_proteins_dataset3, df_proteins_test]:\n",
    "    dataset['log_x_normalized'] = (dataset.log_x - dataset.log_x.min()) / (dataset.log_x.max() - dataset.log_x.min())\n",
    "    dataset['log_y_normalized'] = (dataset.log_y - dataset.log_y.min()) / (dataset.log_y.max() - dataset.log_y.min())\n",
    "    dataset['log_z_normalized'] = (dataset.log_z - dataset.log_z.min()) / (dataset.log_z.max() - dataset.log_z.min())"
   ]
  },
  {
   "cell_type": "code",
   "execution_count": 106,
   "metadata": {},
   "outputs": [],
   "source": [
    "# Dataset 1\n",
    "prot_df_dataset1 = df_proteins_dataset1.groupby(by='pdb_code').apply(distance_df).reset_index().rename(columns={0:'prot_distances'}).drop(labels='level_1',axis=1)\n",
    "prot_distances_df1 = prot_df_dataset1.groupby(by='pdb_code').mean().reset_index()\n",
    "\n",
    "# Dataset 2\n",
    "prot_df_dataset2 = df_proteins_dataset2.groupby(by='pdb_code').apply(distance_df).reset_index().rename(columns={0:'prot_distances'}).drop(labels='level_1',axis=1)\n",
    "prot_distances_df2 = prot_df_dataset2.groupby(by='pdb_code').mean().reset_index()\n",
    "\n",
    "# Dataset 3\n",
    "prot_df_dataset3 = df_proteins_dataset3.groupby(by='pdb_code').apply(distance_df).reset_index().rename(columns={0:'prot_distances'}).drop(labels='level_1',axis=1)\n",
    "prot_distances_df3 = prot_df_dataset3.groupby(by='pdb_code').mean().reset_index()\n",
    "\n",
    "# Test\n",
    "prot_df_test = df_proteins_test.groupby(by='pdb_code').apply(distance_df).reset_index().rename(columns={0:'prot_distances'}).drop(labels='level_1',axis=1)\n",
    "prot_distances_test = prot_df_test.groupby(by='pdb_code').mean().reset_index()"
   ]
  },
  {
   "cell_type": "markdown",
   "metadata": {},
   "source": [
    "### Residue name FE without preprocessing"
   ]
  },
  {
   "cell_type": "code",
   "execution_count": 107,
   "metadata": {},
   "outputs": [],
   "source": [
    "# Train\n",
    "nb_residues_df = df_proteins_dataset1.groupby(by=['pdb_code','residue_name']).count().reset_index()[['pdb_code','residue_name','residue_number']].rename(columns={'residue_number':'prot_nb_residues'})\n",
    "mean_residues_df = df_proteins_dataset1.groupby(by=['pdb_code','residue_name']).mean().reset_index()[['pdb_code','residue_name','residue_number']].rename(columns={'residue_number':'prot_mean_residues'})\n",
    "residues_df = nb_residues_df.merge(mean_residues_df,how='left',on=['pdb_code','residue_name'])\n",
    "residues_df['prot_nb_mean_residues_diff'] = residues_df.prot_nb_residues - residues_df.prot_mean_residues\n",
    "\n",
    "# Test\n",
    "nb_residues_df_test = df_proteins_test.groupby(by=['pdb_code','residue_name']).count().reset_index()[['pdb_code','residue_name','residue_number']].rename(columns={'residue_number':'prot_nb_residues'})\n",
    "mean_residues_df_test = df_proteins_test.groupby(by=['pdb_code','residue_name']).mean().reset_index()[['pdb_code','residue_name','residue_number']].rename(columns={'residue_number':'prot_mean_residues'})\n",
    "residues_df_test = nb_residues_df_test.merge(mean_residues_df_test,how='left',on=['pdb_code','residue_name'])\n",
    "residues_df_test['prot_nb_mean_residues_diff'] = residues_df_test.prot_nb_residues - residues_df_test.prot_mean_residues"
   ]
  },
  {
   "cell_type": "code",
   "execution_count": 108,
   "metadata": {},
   "outputs": [],
   "source": [
    "def insert_residues_df(dataset,dataset_f):\n",
    "    for col in dataset.residue_name.unique():\n",
    "        residues_name_cols =  dataset[dataset['residue_name'] == col][['pdb_code','prot_nb_residues','prot_mean_residues','prot_nb_mean_residues_diff']].rename(columns={'prot_nb_residues':col+'_prot_nb_residues','prot_mean_residues':col+'_prot_mean_residues','prot_nb_mean_residues_diff':col+'_prot_nb_mean_residues_diff'})\n",
    "        dataset_f = dataset_f.merge(residues_name_cols,how='left',on='pdb_code')\n",
    "    return dataset_f"
   ]
  },
  {
   "cell_type": "code",
   "execution_count": 109,
   "metadata": {},
   "outputs": [],
   "source": [
    "# Dataset 1\n",
    "df_prot_dat1_f = insert_residues_df(residues_df,prot_distances_df1)\n",
    "\n",
    "# Dataset 2\n",
    "df_prot_dat2_f = insert_residues_df(residues_df,prot_distances_df2)\n",
    "\n",
    "# Dataset 3\n",
    "df_prot_dat3_f = insert_residues_df(residues_df,prot_distances_df3)\n",
    "\n",
    "# Test\n",
    "df_prot_test_f = insert_residues_df(residues_df_test,prot_distances_test)"
   ]
  },
  {
   "cell_type": "code",
   "execution_count": 110,
   "metadata": {},
   "outputs": [
    {
     "data": {
      "text/html": [
       "<div>\n",
       "<style scoped>\n",
       "    .dataframe tbody tr th:only-of-type {\n",
       "        vertical-align: middle;\n",
       "    }\n",
       "\n",
       "    .dataframe tbody tr th {\n",
       "        vertical-align: top;\n",
       "    }\n",
       "\n",
       "    .dataframe thead th {\n",
       "        text-align: right;\n",
       "    }\n",
       "</style>\n",
       "<table border=\"1\" class=\"dataframe\">\n",
       "  <thead>\n",
       "    <tr style=\"text-align: right;\">\n",
       "      <th></th>\n",
       "      <th>pdb_code</th>\n",
       "      <th>prot_distances</th>\n",
       "      <th>ALA_prot_nb_residues</th>\n",
       "      <th>ALA_prot_mean_residues</th>\n",
       "      <th>ALA_prot_nb_mean_residues_diff</th>\n",
       "      <th>ARG_prot_nb_residues</th>\n",
       "      <th>ARG_prot_mean_residues</th>\n",
       "      <th>ARG_prot_nb_mean_residues_diff</th>\n",
       "      <th>ASN_prot_nb_residues</th>\n",
       "      <th>ASN_prot_mean_residues</th>\n",
       "      <th>...</th>\n",
       "      <th>THR_prot_nb_mean_residues_diff</th>\n",
       "      <th>TRP_prot_nb_residues</th>\n",
       "      <th>TRP_prot_mean_residues</th>\n",
       "      <th>TRP_prot_nb_mean_residues_diff</th>\n",
       "      <th>TYR_prot_nb_residues</th>\n",
       "      <th>TYR_prot_mean_residues</th>\n",
       "      <th>TYR_prot_nb_mean_residues_diff</th>\n",
       "      <th>VAL_prot_nb_residues</th>\n",
       "      <th>VAL_prot_mean_residues</th>\n",
       "      <th>VAL_prot_nb_mean_residues_diff</th>\n",
       "    </tr>\n",
       "  </thead>\n",
       "  <tbody>\n",
       "    <tr>\n",
       "      <th>0</th>\n",
       "      <td>1a30</td>\n",
       "      <td>1.510464</td>\n",
       "      <td>60</td>\n",
       "      <td>40.333333</td>\n",
       "      <td>19.666667</td>\n",
       "      <td>177</td>\n",
       "      <td>48.864407</td>\n",
       "      <td>128.135593</td>\n",
       "      <td>84</td>\n",
       "      <td>89.666667</td>\n",
       "      <td>...</td>\n",
       "      <td>172.250000</td>\n",
       "      <td>96.0</td>\n",
       "      <td>24.000000</td>\n",
       "      <td>72.000000</td>\n",
       "      <td>42</td>\n",
       "      <td>59.000000</td>\n",
       "      <td>-17.000000</td>\n",
       "      <td>192</td>\n",
       "      <td>55.500000</td>\n",
       "      <td>136.500000</td>\n",
       "    </tr>\n",
       "    <tr>\n",
       "      <th>1</th>\n",
       "      <td>1bcu</td>\n",
       "      <td>1.545174</td>\n",
       "      <td>121</td>\n",
       "      <td>95.710744</td>\n",
       "      <td>25.289256</td>\n",
       "      <td>480</td>\n",
       "      <td>115.450000</td>\n",
       "      <td>364.550000</td>\n",
       "      <td>140</td>\n",
       "      <td>128.300000</td>\n",
       "      <td>...</td>\n",
       "      <td>9.666667</td>\n",
       "      <td>192.0</td>\n",
       "      <td>129.500000</td>\n",
       "      <td>62.500000</td>\n",
       "      <td>231</td>\n",
       "      <td>129.909091</td>\n",
       "      <td>101.090909</td>\n",
       "      <td>256</td>\n",
       "      <td>138.812500</td>\n",
       "      <td>117.187500</td>\n",
       "    </tr>\n",
       "    <tr>\n",
       "      <th>2</th>\n",
       "      <td>1bzc</td>\n",
       "      <td>1.505614</td>\n",
       "      <td>130</td>\n",
       "      <td>139.538462</td>\n",
       "      <td>-9.538462</td>\n",
       "      <td>408</td>\n",
       "      <td>135.647059</td>\n",
       "      <td>272.352941</td>\n",
       "      <td>140</td>\n",
       "      <td>95.300000</td>\n",
       "      <td>...</td>\n",
       "      <td>14.384615</td>\n",
       "      <td>144.0</td>\n",
       "      <td>134.500000</td>\n",
       "      <td>9.500000</td>\n",
       "      <td>189</td>\n",
       "      <td>121.000000</td>\n",
       "      <td>68.000000</td>\n",
       "      <td>256</td>\n",
       "      <td>171.062500</td>\n",
       "      <td>84.937500</td>\n",
       "    </tr>\n",
       "    <tr>\n",
       "      <th>3</th>\n",
       "      <td>1c5z</td>\n",
       "      <td>1.498279</td>\n",
       "      <td>110</td>\n",
       "      <td>114.636364</td>\n",
       "      <td>-4.636364</td>\n",
       "      <td>312</td>\n",
       "      <td>126.384615</td>\n",
       "      <td>185.615385</td>\n",
       "      <td>84</td>\n",
       "      <td>82.000000</td>\n",
       "      <td>...</td>\n",
       "      <td>131.210526</td>\n",
       "      <td>120.0</td>\n",
       "      <td>143.600000</td>\n",
       "      <td>-23.600000</td>\n",
       "      <td>252</td>\n",
       "      <td>113.083333</td>\n",
       "      <td>138.916667</td>\n",
       "      <td>192</td>\n",
       "      <td>137.333333</td>\n",
       "      <td>54.666667</td>\n",
       "    </tr>\n",
       "    <tr>\n",
       "      <th>4</th>\n",
       "      <td>1e66</td>\n",
       "      <td>1.578254</td>\n",
       "      <td>460</td>\n",
       "      <td>267.826087</td>\n",
       "      <td>192.173913</td>\n",
       "      <td>1102</td>\n",
       "      <td>258.896552</td>\n",
       "      <td>843.103448</td>\n",
       "      <td>942</td>\n",
       "      <td>289.414013</td>\n",
       "      <td>...</td>\n",
       "      <td>316.922330</td>\n",
       "      <td>672.0</td>\n",
       "      <td>273.928571</td>\n",
       "      <td>398.071429</td>\n",
       "      <td>714</td>\n",
       "      <td>255.705882</td>\n",
       "      <td>458.294118</td>\n",
       "      <td>1280</td>\n",
       "      <td>245.300000</td>\n",
       "      <td>1034.700000</td>\n",
       "    </tr>\n",
       "    <tr>\n",
       "      <th>...</th>\n",
       "      <td>...</td>\n",
       "      <td>...</td>\n",
       "      <td>...</td>\n",
       "      <td>...</td>\n",
       "      <td>...</td>\n",
       "      <td>...</td>\n",
       "      <td>...</td>\n",
       "      <td>...</td>\n",
       "      <td>...</td>\n",
       "      <td>...</td>\n",
       "      <td>...</td>\n",
       "      <td>...</td>\n",
       "      <td>...</td>\n",
       "      <td>...</td>\n",
       "      <td>...</td>\n",
       "      <td>...</td>\n",
       "      <td>...</td>\n",
       "      <td>...</td>\n",
       "      <td>...</td>\n",
       "      <td>...</td>\n",
       "      <td>...</td>\n",
       "    </tr>\n",
       "    <tr>\n",
       "      <th>280</th>\n",
       "      <td>5aba</td>\n",
       "      <td>1.562229</td>\n",
       "      <td>80</td>\n",
       "      <td>171.750000</td>\n",
       "      <td>-91.750000</td>\n",
       "      <td>432</td>\n",
       "      <td>219.222222</td>\n",
       "      <td>212.777778</td>\n",
       "      <td>98</td>\n",
       "      <td>224.857143</td>\n",
       "      <td>...</td>\n",
       "      <td>14.000000</td>\n",
       "      <td>24.0</td>\n",
       "      <td>146.000000</td>\n",
       "      <td>-122.000000</td>\n",
       "      <td>168</td>\n",
       "      <td>176.625000</td>\n",
       "      <td>-8.625000</td>\n",
       "      <td>224</td>\n",
       "      <td>187.857143</td>\n",
       "      <td>36.142857</td>\n",
       "    </tr>\n",
       "    <tr>\n",
       "      <th>281</th>\n",
       "      <td>5c28</td>\n",
       "      <td>1.521570</td>\n",
       "      <td>160</td>\n",
       "      <td>627.437500</td>\n",
       "      <td>-467.437500</td>\n",
       "      <td>336</td>\n",
       "      <td>594.928571</td>\n",
       "      <td>-258.928571</td>\n",
       "      <td>196</td>\n",
       "      <td>603.285714</td>\n",
       "      <td>...</td>\n",
       "      <td>-323.571429</td>\n",
       "      <td>144.0</td>\n",
       "      <td>591.666667</td>\n",
       "      <td>-447.666667</td>\n",
       "      <td>252</td>\n",
       "      <td>598.333333</td>\n",
       "      <td>-346.333333</td>\n",
       "      <td>240</td>\n",
       "      <td>591.400000</td>\n",
       "      <td>-351.400000</td>\n",
       "    </tr>\n",
       "    <tr>\n",
       "      <th>282</th>\n",
       "      <td>5c2h</td>\n",
       "      <td>1.565326</td>\n",
       "      <td>160</td>\n",
       "      <td>627.437500</td>\n",
       "      <td>-467.437500</td>\n",
       "      <td>321</td>\n",
       "      <td>601.373832</td>\n",
       "      <td>-280.373832</td>\n",
       "      <td>196</td>\n",
       "      <td>603.285714</td>\n",
       "      <td>...</td>\n",
       "      <td>-330.400000</td>\n",
       "      <td>144.0</td>\n",
       "      <td>591.666667</td>\n",
       "      <td>-447.666667</td>\n",
       "      <td>252</td>\n",
       "      <td>598.333333</td>\n",
       "      <td>-346.333333</td>\n",
       "      <td>240</td>\n",
       "      <td>591.400000</td>\n",
       "      <td>-351.400000</td>\n",
       "    </tr>\n",
       "    <tr>\n",
       "      <th>283</th>\n",
       "      <td>5dwr</td>\n",
       "      <td>1.427104</td>\n",
       "      <td>90</td>\n",
       "      <td>190.111111</td>\n",
       "      <td>-100.111111</td>\n",
       "      <td>504</td>\n",
       "      <td>179.857143</td>\n",
       "      <td>324.142857</td>\n",
       "      <td>79</td>\n",
       "      <td>161.215190</td>\n",
       "      <td>...</td>\n",
       "      <td>-101.428571</td>\n",
       "      <td>168.0</td>\n",
       "      <td>190.142857</td>\n",
       "      <td>-22.142857</td>\n",
       "      <td>147</td>\n",
       "      <td>166.000000</td>\n",
       "      <td>-19.000000</td>\n",
       "      <td>352</td>\n",
       "      <td>142.272727</td>\n",
       "      <td>209.727273</td>\n",
       "    </tr>\n",
       "    <tr>\n",
       "      <th>284</th>\n",
       "      <td>5tmn</td>\n",
       "      <td>1.509245</td>\n",
       "      <td>560</td>\n",
       "      <td>171.750000</td>\n",
       "      <td>388.250000</td>\n",
       "      <td>480</td>\n",
       "      <td>152.100000</td>\n",
       "      <td>327.900000</td>\n",
       "      <td>532</td>\n",
       "      <td>131.894737</td>\n",
       "      <td>...</td>\n",
       "      <td>562.527221</td>\n",
       "      <td>144.0</td>\n",
       "      <td>118.666667</td>\n",
       "      <td>25.333333</td>\n",
       "      <td>1176</td>\n",
       "      <td>134.000000</td>\n",
       "      <td>1042.000000</td>\n",
       "      <td>704</td>\n",
       "      <td>173.000000</td>\n",
       "      <td>531.000000</td>\n",
       "    </tr>\n",
       "  </tbody>\n",
       "</table>\n",
       "<p>285 rows × 62 columns</p>\n",
       "</div>"
      ],
      "text/plain": [
       "    pdb_code  prot_distances  ALA_prot_nb_residues  ALA_prot_mean_residues  \\\n",
       "0       1a30        1.510464                    60               40.333333   \n",
       "1       1bcu        1.545174                   121               95.710744   \n",
       "2       1bzc        1.505614                   130              139.538462   \n",
       "3       1c5z        1.498279                   110              114.636364   \n",
       "4       1e66        1.578254                   460              267.826087   \n",
       "..       ...             ...                   ...                     ...   \n",
       "280     5aba        1.562229                    80              171.750000   \n",
       "281     5c28        1.521570                   160              627.437500   \n",
       "282     5c2h        1.565326                   160              627.437500   \n",
       "283     5dwr        1.427104                    90              190.111111   \n",
       "284     5tmn        1.509245                   560              171.750000   \n",
       "\n",
       "     ALA_prot_nb_mean_residues_diff  ARG_prot_nb_residues  \\\n",
       "0                         19.666667                   177   \n",
       "1                         25.289256                   480   \n",
       "2                         -9.538462                   408   \n",
       "3                         -4.636364                   312   \n",
       "4                        192.173913                  1102   \n",
       "..                              ...                   ...   \n",
       "280                      -91.750000                   432   \n",
       "281                     -467.437500                   336   \n",
       "282                     -467.437500                   321   \n",
       "283                     -100.111111                   504   \n",
       "284                      388.250000                   480   \n",
       "\n",
       "     ARG_prot_mean_residues  ARG_prot_nb_mean_residues_diff  \\\n",
       "0                 48.864407                      128.135593   \n",
       "1                115.450000                      364.550000   \n",
       "2                135.647059                      272.352941   \n",
       "3                126.384615                      185.615385   \n",
       "4                258.896552                      843.103448   \n",
       "..                      ...                             ...   \n",
       "280              219.222222                      212.777778   \n",
       "281              594.928571                     -258.928571   \n",
       "282              601.373832                     -280.373832   \n",
       "283              179.857143                      324.142857   \n",
       "284              152.100000                      327.900000   \n",
       "\n",
       "     ASN_prot_nb_residues  ASN_prot_mean_residues  ...  \\\n",
       "0                      84               89.666667  ...   \n",
       "1                     140              128.300000  ...   \n",
       "2                     140               95.300000  ...   \n",
       "3                      84               82.000000  ...   \n",
       "4                     942              289.414013  ...   \n",
       "..                    ...                     ...  ...   \n",
       "280                    98              224.857143  ...   \n",
       "281                   196              603.285714  ...   \n",
       "282                   196              603.285714  ...   \n",
       "283                    79              161.215190  ...   \n",
       "284                   532              131.894737  ...   \n",
       "\n",
       "     THR_prot_nb_mean_residues_diff  TRP_prot_nb_residues  \\\n",
       "0                        172.250000                  96.0   \n",
       "1                          9.666667                 192.0   \n",
       "2                         14.384615                 144.0   \n",
       "3                        131.210526                 120.0   \n",
       "4                        316.922330                 672.0   \n",
       "..                              ...                   ...   \n",
       "280                       14.000000                  24.0   \n",
       "281                     -323.571429                 144.0   \n",
       "282                     -330.400000                 144.0   \n",
       "283                     -101.428571                 168.0   \n",
       "284                      562.527221                 144.0   \n",
       "\n",
       "     TRP_prot_mean_residues  TRP_prot_nb_mean_residues_diff  \\\n",
       "0                 24.000000                       72.000000   \n",
       "1                129.500000                       62.500000   \n",
       "2                134.500000                        9.500000   \n",
       "3                143.600000                      -23.600000   \n",
       "4                273.928571                      398.071429   \n",
       "..                      ...                             ...   \n",
       "280              146.000000                     -122.000000   \n",
       "281              591.666667                     -447.666667   \n",
       "282              591.666667                     -447.666667   \n",
       "283              190.142857                      -22.142857   \n",
       "284              118.666667                       25.333333   \n",
       "\n",
       "     TYR_prot_nb_residues  TYR_prot_mean_residues  \\\n",
       "0                      42               59.000000   \n",
       "1                     231              129.909091   \n",
       "2                     189              121.000000   \n",
       "3                     252              113.083333   \n",
       "4                     714              255.705882   \n",
       "..                    ...                     ...   \n",
       "280                   168              176.625000   \n",
       "281                   252              598.333333   \n",
       "282                   252              598.333333   \n",
       "283                   147              166.000000   \n",
       "284                  1176              134.000000   \n",
       "\n",
       "     TYR_prot_nb_mean_residues_diff  VAL_prot_nb_residues  \\\n",
       "0                        -17.000000                   192   \n",
       "1                        101.090909                   256   \n",
       "2                         68.000000                   256   \n",
       "3                        138.916667                   192   \n",
       "4                        458.294118                  1280   \n",
       "..                              ...                   ...   \n",
       "280                       -8.625000                   224   \n",
       "281                     -346.333333                   240   \n",
       "282                     -346.333333                   240   \n",
       "283                      -19.000000                   352   \n",
       "284                     1042.000000                   704   \n",
       "\n",
       "     VAL_prot_mean_residues  VAL_prot_nb_mean_residues_diff  \n",
       "0                 55.500000                      136.500000  \n",
       "1                138.812500                      117.187500  \n",
       "2                171.062500                       84.937500  \n",
       "3                137.333333                       54.666667  \n",
       "4                245.300000                     1034.700000  \n",
       "..                      ...                             ...  \n",
       "280              187.857143                       36.142857  \n",
       "281              591.400000                     -351.400000  \n",
       "282              591.400000                     -351.400000  \n",
       "283              142.272727                      209.727273  \n",
       "284              173.000000                      531.000000  \n",
       "\n",
       "[285 rows x 62 columns]"
      ]
     },
     "execution_count": 110,
     "metadata": {},
     "output_type": "execute_result"
    }
   ],
   "source": [
    "df_prot_test_f"
   ]
  },
  {
   "cell_type": "markdown",
   "metadata": {},
   "source": [
    "### Occupancy FE without preprocessing"
   ]
  },
  {
   "cell_type": "code",
   "execution_count": 111,
   "metadata": {},
   "outputs": [],
   "source": [
    "# Dataset 1\n",
    "mean_occupancy_1 = df_proteins_dataset1.groupby(by=['pdb_code'])['occupancy'].mean().reset_index()\n",
    "df_prot_dat1_f = df_prot_dat1_f.merge(mean_occupancy_1,how='left',on='pdb_code')\n",
    "\n",
    "# Dataset 2\n",
    "mean_occupancy_2 = df_proteins_dataset2.groupby(by=['pdb_code'])['occupancy'].mean().reset_index()\n",
    "df_prot_dat2_f = df_prot_dat2_f.merge(mean_occupancy_2,how='left',on='pdb_code')\n",
    "\n",
    "# Dataset 3\n",
    "mean_occupancy_3 = df_proteins_dataset3.groupby(by=['pdb_code'])['occupancy'].mean().reset_index()\n",
    "df_prot_dat3_f = df_prot_dat3_f.merge(mean_occupancy_3,how='left',on='pdb_code')\n",
    "\n",
    "# Test\n",
    "mean_occupancy_test = df_proteins_test.groupby(by=['pdb_code'])['occupancy'].mean().reset_index()\n",
    "df_prot_test_f = df_prot_test_f.merge(mean_occupancy_test,how='left',on='pdb_code')"
   ]
  },
  {
   "cell_type": "markdown",
   "metadata": {},
   "source": [
    "### b_factor FE without preprocessing"
   ]
  },
  {
   "cell_type": "code",
   "execution_count": 112,
   "metadata": {},
   "outputs": [],
   "source": [
    "# Dataset 1 \n",
    "mean_b_factor_1 = df_proteins_dataset1.groupby(by=['pdb_code'])['b_factor'].mean().reset_index()\n",
    "df_prot_dat1_f = df_prot_dat1_f.merge(mean_b_factor_1,how='left',on='pdb_code')\n",
    "\n",
    "# Dataset 2\n",
    "mean_b_factor_2 = df_proteins_dataset2.groupby(by=['pdb_code'])['b_factor'].mean().reset_index()\n",
    "df_prot_dat2_f = df_prot_dat2_f.merge(mean_b_factor_2,how='left',on='pdb_code')\n",
    "\n",
    "# Dataset 3\n",
    "mean_b_factor_3 = df_proteins_dataset3.groupby(by=['pdb_code'])['b_factor'].mean().reset_index()\n",
    "df_prot_dat3_f = df_prot_dat3_f.merge(mean_b_factor_3,how='left',on='pdb_code')\n",
    "\n",
    "# Test\n",
    "mean_b_factor_test = df_proteins_test.groupby(by=['pdb_code'])['b_factor'].mean().reset_index()\n",
    "df_prot_test_f = df_prot_test_f.merge(mean_b_factor_test,how='left',on='pdb_code')"
   ]
  },
  {
   "cell_type": "code",
   "execution_count": 113,
   "metadata": {},
   "outputs": [],
   "source": [
    "# Dataset 1\n",
    "df_prot_dat1_f.fillna(0,inplace=True)\n",
    "\n",
    "# Dataset 2\n",
    "df_prot_dat2_f.fillna(0,inplace=True)\n",
    "\n",
    "# Dataset 3\n",
    "df_prot_dat3_f.fillna(0,inplace=True)\n",
    "\n",
    "# Test\n",
    "df_prot_test_f.fillna(0,inplace=True)"
   ]
  },
  {
   "cell_type": "markdown",
   "metadata": {},
   "source": [
    "# Building of the final train and test datasets !! + creation of noise feature"
   ]
  },
  {
   "cell_type": "code",
   "execution_count": 114,
   "metadata": {},
   "outputs": [],
   "source": [
    "mu, sigma = 0, 0.1\n",
    "# Dataset 1\n",
    "df_lig_dat1_f = df_lig_atoms_dat1_f.merge(df_lig_bond_dat1_f,how='inner',on='pdb_code')\n",
    "df_dat1_f = df_lig_dat1_f.merge(df_prot_dat1_f,how='inner',on='pdb_code')\n",
    "#df_dat1_f['noise'] = np.random.normal(mu,sigma,df_dat1_f.shape[0])\n",
    "df_dat1_f = df_dat1_f.merge(binding_constants_train_dataset1[['pdb_code','pKd_or_pKi']],how='inner',on='pdb_code')\n",
    "\n",
    "# Dataset 2 \n",
    "df_lig_dat2_f = df_lig_atoms_dat2_f.merge(df_lig_bond_dat2_f,how='inner',on='pdb_code')\n",
    "df_dat2_f = df_lig_dat2_f.merge(df_prot_dat2_f,how='inner',on='pdb_code')\n",
    "#df_dat2_f['noise'] = np.random.normal(mu,sigma,df_dat2_f.shape[0])\n",
    "df_dat2_f = df_dat2_f.merge(binding_constants_train_dataset2[['pdb_code','pKd_or_pKi']],how='inner',on='pdb_code')\n",
    "\n",
    "# Dataset 3\n",
    "df_lig_dat3_f = df_lig_atoms_dat3_f.merge(df_lig_bond_dat3_f,how='inner',on='pdb_code')\n",
    "df_dat3_f = df_lig_dat3_f.merge(df_prot_dat3_f,how='inner',on='pdb_code')\n",
    "#df_dat3_f['noise'] = np.random.normal(mu,sigma,df_dat3_f.shape[0])\n",
    "df_dat3_f = df_dat3_f.merge(binding_constants_train_dataset3[['pdb_code','pKd_or_pKi']],how='left',on='pdb_code')\n",
    "\n",
    "# Test\n",
    "df_lig_test_f = df_lig_atoms_test_f.merge(df_lig_bond_test_f,how='inner',on='pdb_code')\n",
    "df_test_f = df_lig_test_f.merge(df_prot_test_f,how='inner',on='pdb_code')\n",
    "#df_test_f['noise'] = np.random.normal(mu,sigma,df_test_f.shape[0])\n",
    "df_test_f = df_test_f.merge(binding_constants_test[['pdb_code','pKd_or_pKi']],how='left',on='pdb_code')"
   ]
  },
  {
   "cell_type": "code",
   "execution_count": 115,
   "metadata": {},
   "outputs": [
    {
     "name": "stdout",
     "output_type": "stream",
     "text": [
      "(2252, 134)\n",
      "(2374, 134)\n",
      "(2421, 134)\n",
      "(285, 134)\n"
     ]
    }
   ],
   "source": [
    "print(df_dat1_f.shape)\n",
    "print(df_dat2_f.shape)\n",
    "print(df_dat3_f.shape)\n",
    "print(df_test_f.shape)"
   ]
  },
  {
   "cell_type": "markdown",
   "metadata": {},
   "source": [
    "### Baseline algorithm "
   ]
  },
  {
   "cell_type": "code",
   "execution_count": 116,
   "metadata": {},
   "outputs": [],
   "source": [
    "from sklearn.linear_model import LinearRegression\n",
    "from sklearn.metrics import mean_squared_error # to measure the capacity of the algo to predict from the train \n",
    "from scipy.stats import pearsonr #to measure the correlation between the predicted constants and the ones in the train set"
   ]
  },
  {
   "cell_type": "code",
   "execution_count": 117,
   "metadata": {},
   "outputs": [],
   "source": [
    "def rmse(y_actual_test,y_predicted_test):\n",
    "    return np.sqrt(mean_squared_error(y_actual_test,y_predicted_test))\n",
    "\n",
    "def pearson(y_actual_train,y_predicted_train):\n",
    "    return pearsonr(y_actual_train,y_predicted_train)"
   ]
  },
  {
   "cell_type": "code",
   "execution_count": 118,
   "metadata": {},
   "outputs": [],
   "source": [
    "linReg1 = LinearRegression()\n",
    "linReg2 = LinearRegression()\n",
    "linReg3 = LinearRegression()"
   ]
  },
  {
   "cell_type": "code",
   "execution_count": 119,
   "metadata": {},
   "outputs": [],
   "source": [
    "trainings_sets = [(df_dat1_f.drop(['pdb_code','pKd_or_pKi'],axis=1),df_dat1_f['pKd_or_pKi']),(df_dat2_f.drop(['pdb_code','pKd_or_pKi'],axis=1),df_dat2_f['pKd_or_pKi']),(df_dat3_f.drop(['pdb_code','pKd_or_pKi'],axis=1),df_dat3_f['pKd_or_pKi'])]\n",
    "linReg_fit1 = linReg1.fit(trainings_sets[0][0],trainings_sets[0][1])\n",
    "linReg_fit2 = linReg2.fit(trainings_sets[1][0],trainings_sets[1][1])\n",
    "linReg_fit3 = linReg3.fit(trainings_sets[2][0],trainings_sets[2][1])"
   ]
  },
  {
   "cell_type": "code",
   "execution_count": 120,
   "metadata": {},
   "outputs": [],
   "source": [
    "dat1_preds = linReg_fit1.predict(df_test_f.drop(['pdb_code','pKd_or_pKi'],axis=1))\n",
    "dat2_preds = linReg_fit2.predict(df_test_f.drop(['pdb_code','pKd_or_pKi'],axis=1))\n",
    "dat3_preds = linReg_fit3.predict(df_test_f.drop(['pdb_code','pKd_or_pKi'],axis=1))"
   ]
  },
  {
   "cell_type": "code",
   "execution_count": 121,
   "metadata": {},
   "outputs": [
    {
     "name": "stdout",
     "output_type": "stream",
     "text": [
      "27.27881722414975\n",
      "19.412409566428803\n",
      "27.985142643697213\n"
     ]
    }
   ],
   "source": [
    "dat1_rmse = rmse(df_test_f['pKd_or_pKi'],dat1_preds) \n",
    "dat2_rmse = rmse(df_test_f['pKd_or_pKi'],dat2_preds) \n",
    "dat3_rmse = rmse(df_test_f['pKd_or_pKi'],dat3_preds)\n",
    "print(dat1_rmse)\n",
    "print(dat2_rmse)\n",
    "print(dat3_rmse)"
   ]
  },
  {
   "cell_type": "code",
   "execution_count": 122,
   "metadata": {},
   "outputs": [
    {
     "name": "stdout",
     "output_type": "stream",
     "text": [
      "(0.5269588344371665, 3.720247800857762e-161)\n",
      "(0.5310084390578503, 7.480136329962096e-173)\n",
      "(0.5320412996942924, 4.834131874421276e-177)\n"
     ]
    }
   ],
   "source": [
    "dat1_preds_train = linReg_fit1.predict(df_dat1_f.drop(['pdb_code','pKd_or_pKi'],axis=1))\n",
    "dat2_preds_train = linReg_fit2.predict(df_dat2_f.drop(['pdb_code','pKd_or_pKi'],axis=1))\n",
    "dat3_preds_train = linReg_fit3.predict(df_dat3_f.drop(['pdb_code','pKd_or_pKi'],axis=1))\n",
    "\n",
    "dat1_pearson = pearson(df_dat1_f['pKd_or_pKi'],dat1_preds_train) \n",
    "dat2_pearson = pearson(df_dat2_f['pKd_or_pKi'],dat2_preds_train) \n",
    "dat3_pearson = pearson(df_dat3_f['pKd_or_pKi'],dat3_preds_train)\n",
    "print(dat1_pearson)\n",
    "print(dat2_pearson)\n",
    "print(dat3_pearson)"
   ]
  },
  {
   "cell_type": "code",
   "execution_count": 123,
   "metadata": {},
   "outputs": [],
   "source": [
    "dat1_preds = pd.DataFrame(dat1_preds,columns=['score'])\n",
    "dat1_preds[\"#code\"] = df_test_f['pdb_code']\n",
    "dat1_preds = dat1_preds[['#code','score']] "
   ]
  },
  {
   "cell_type": "code",
   "execution_count": 124,
   "metadata": {},
   "outputs": [],
   "source": [
    "dat2_preds = pd.DataFrame(dat2_preds,columns=['score'])\n",
    "dat2_preds[\"#code\"] = df_test_f['pdb_code']\n",
    "dat2_preds = dat2_preds[['#code','score']] "
   ]
  },
  {
   "cell_type": "code",
   "execution_count": 125,
   "metadata": {},
   "outputs": [],
   "source": [
    "dat3_preds = pd.DataFrame(dat3_preds,columns=['score'])\n",
    "dat3_preds[\"#code\"] = df_test_f['pdb_code']\n",
    "dat3_preds = dat3_preds[['#code','score']] "
   ]
  },
  {
   "cell_type": "code",
   "execution_count": 126,
   "metadata": {},
   "outputs": [],
   "source": [
    "dat_preds_mean = pd.DataFrame(dat3_preds,columns=['score'])\n",
    "dat_preds_mean[\"#code\"] = df_test_f['pdb_code']\n",
    "dat_preds_mean = dat_preds_mean[['#code','score']] \n",
    "\n",
    "dat_preds_mean['score'] = dat1_preds['score'] + dat2_preds['score'] + dat3_preds['score']\n",
    "dat_preds_mean['score'] = dat_preds_mean['score'] / 3"
   ]
  },
  {
   "cell_type": "code",
   "execution_count": 132,
   "metadata": {},
   "outputs": [],
   "source": [
    "dat3_preds.to_csv('baseline_preds_dat3_301022.dat',index=False)"
   ]
  },
  {
   "cell_type": "code",
   "execution_count": 135,
   "metadata": {},
   "outputs": [],
   "source": [
    "pickle.dump(linReg_fit3, open('dat3_baseline_301022.pkl', 'wb'))"
   ]
  },
  {
   "cell_type": "markdown",
   "metadata": {},
   "source": [
    "# Draft"
   ]
  },
  {
   "cell_type": "code",
   "execution_count": null,
   "metadata": {},
   "outputs": [],
   "source": [
    "\"\"\"\n",
    "    With optimized for loop\n",
    "                            \"\"\"\n",
    "path_protein = \"C:/Users/redha.cherif_artefac/GitHub_perso/Research_project/Input/PDBbind_v2020_refined/\"\n",
    "all_files = glob(os.path.join(path_protein,'**','*_protein.pdb'))\n",
    "\n",
    "ppdb = PandasPdb()\n",
    "liste = []\n",
    "\n",
    "for index,element in enumerate(all_files): \n",
    "    #print(index)\n",
    "    ppdb.read_pdb(element)\n",
    "    df_seq_align = ppdb.df['OTHERS']\n",
    "    df_seq_align['pdb_code'] = ppdb.df['OTHERS'].iloc[0]['entry'].split('_')[0].split(' ')[-1].lower()\n",
    "    liste.append(df_seq_align)\n",
    "df_seq_align = pd.concat(liste,axis=0,ignore_index=True)"
   ]
  },
  {
   "cell_type": "code",
   "execution_count": null,
   "metadata": {},
   "outputs": [],
   "source": [
    "path = \"C:/Users/redha.cherif_artefac/GitHub_perso/Research_project/Input/training_data/df_seq_alignment.parquet\"\n",
    "df_seq_align = pd.read_parquet(path)\n",
    "df_seq_align = df_seq_align[df_seq_align['record_name']=='SEQRES'][['entry','pdb_code']]"
   ]
  },
  {
   "cell_type": "code",
   "execution_count": null,
   "metadata": {},
   "outputs": [],
   "source": [
    "in_list = []\n",
    "out_list = []\n",
    "\n",
    "for element in df_proteins[df_proteins['pdb_code'].isin(bind_const_dataset1_comp)].pdb_code.unique(): \n",
    "    if element not in binding_constants_train_dataset1.pdb_code.unique():\n",
    "        out_list.append(element)"
   ]
  },
  {
   "cell_type": "code",
   "execution_count": null,
   "metadata": {},
   "outputs": [
    {
     "data": {
      "text/plain": [
       "[]"
      ]
     },
     "metadata": {},
     "output_type": "display_data"
    }
   ],
   "source": [
    "out_list"
   ]
  },
  {
   "cell_type": "markdown",
   "metadata": {},
   "source": [
    "##### Dataset 3\n",
    "\n",
    "##### Taking the pdb codes to build dataset_3 by taking every 10th centile binding constants"
   ]
  },
  {
   "cell_type": "code",
   "execution_count": null,
   "metadata": {},
   "outputs": [
    {
     "name": "stderr",
     "output_type": "stream",
     "text": [
      "C:\\Users\\redha.cherif_artefac\\AppData\\Local\\Temp\\ipykernel_52972\\3516217424.py:1: FutureWarning: Dropping invalid columns in DataFrameGroupBy.min is deprecated. In a future version, a TypeError will be raised. Before calling .min, select only columns which should be valid for the function.\n",
      "  min_bind_const = seq_clustering.groupby(by=['clusters_num'],as_index=False,axis=0).min()[['clusters_num','pKd_or_pKi']]\n"
     ]
    }
   ],
   "source": [
    "min_bind_const = seq_clustering.groupby(by=['clusters_num'],as_index=False,axis=0).min()[['clusters_num','pKd_or_pKi']]\n",
    "min_bind_const_comp = min_bind_const.merge(right=seq_clustering,how='inner',on=['clusters_num','pKd_or_pKi'])['pdb_code']"
   ]
  },
  {
   "cell_type": "code",
   "execution_count": null,
   "metadata": {},
   "outputs": [
    {
     "name": "stderr",
     "output_type": "stream",
     "text": [
      "C:\\Users\\redha.cherif_artefac\\AppData\\Local\\Temp\\ipykernel_52972\\3073654362.py:1: FutureWarning: Dropping invalid columns in DataFrameGroupBy.quantile is deprecated. In a future version, a TypeError will be raised. Before calling .quantile, select only columns which should be valid for the function.\n",
      "  tenth_percentile_const = seq_clustering.groupby(by=['clusters_num'],as_index=False,axis=0).quantile(0.10)\n"
     ]
    }
   ],
   "source": [
    "tenth_percentile_const = seq_clustering.groupby(by=['clusters_num'],as_index=False,axis=0).quantile(0.10)\n",
    "tenth_percentile_const_comp = tenth_percentile_const.merge(right=seq_clustering,how='inner',on=['clusters_num','pKd_or_pKi'])['pdb_code']"
   ]
  },
  {
   "cell_type": "code",
   "execution_count": null,
   "metadata": {},
   "outputs": [
    {
     "name": "stderr",
     "output_type": "stream",
     "text": [
      "C:\\Users\\redha.cherif_artefac\\AppData\\Local\\Temp\\ipykernel_52972\\3074856094.py:1: FutureWarning: Dropping invalid columns in DataFrameGroupBy.quantile is deprecated. In a future version, a TypeError will be raised. Before calling .quantile, select only columns which should be valid for the function.\n",
      "  twentieth_percentile_const = seq_clustering.groupby(by=['clusters_num'],as_index=False,axis=0).quantile(0.20)\n"
     ]
    }
   ],
   "source": [
    "twentieth_percentile_const = seq_clustering.groupby(by=['clusters_num'],as_index=False,axis=0).quantile(0.20)\n",
    "twentieth_percentile_const_comp = twentieth_percentile_const.merge(right=seq_clustering,how='inner',on=['clusters_num','pKd_or_pKi'])['pdb_code']"
   ]
  },
  {
   "cell_type": "code",
   "execution_count": null,
   "metadata": {},
   "outputs": [
    {
     "name": "stderr",
     "output_type": "stream",
     "text": [
      "C:\\Users\\redha.cherif_artefac\\AppData\\Local\\Temp\\ipykernel_52972\\878111480.py:1: FutureWarning: Dropping invalid columns in DataFrameGroupBy.quantile is deprecated. In a future version, a TypeError will be raised. Before calling .quantile, select only columns which should be valid for the function.\n",
      "  thiertieth_percentile_const = seq_clustering.groupby(by=['clusters_num'],as_index=False,axis=0).quantile(0.30)\n"
     ]
    }
   ],
   "source": [
    "thiertieth_percentile_const = seq_clustering.groupby(by=['clusters_num'],as_index=False,axis=0).quantile(0.30)\n",
    "thiertieth_percentile_const_comp = thiertieth_percentile_const.merge(right=seq_clustering,how='inner',on=['clusters_num','pKd_or_pKi'])['pdb_code']"
   ]
  },
  {
   "cell_type": "code",
   "execution_count": null,
   "metadata": {},
   "outputs": [
    {
     "name": "stderr",
     "output_type": "stream",
     "text": [
      "C:\\Users\\redha.cherif_artefac\\AppData\\Local\\Temp\\ipykernel_52972\\1381633729.py:1: FutureWarning: Dropping invalid columns in DataFrameGroupBy.quantile is deprecated. In a future version, a TypeError will be raised. Before calling .quantile, select only columns which should be valid for the function.\n",
      "  fortieth_percentile_const = seq_clustering.groupby(by=['clusters_num'],as_index=False,axis=0).quantile(0.40)\n"
     ]
    }
   ],
   "source": [
    "fortieth_percentile_const = seq_clustering.groupby(by=['clusters_num'],as_index=False,axis=0).quantile(0.40)\n",
    "fortieth_percentile_const_comp = fortieth_percentile_const.merge(right=seq_clustering,how='inner',on=['clusters_num','pKd_or_pKi'])['pdb_code']"
   ]
  },
  {
   "cell_type": "code",
   "execution_count": null,
   "metadata": {},
   "outputs": [],
   "source": [
    "median_bind_const = seq_clustering.groupby(by=['clusters_num'],as_index=False,axis=0).median()\n",
    "median_bind_const_comp = median_bind_const.merge(right=seq_clustering,how='inner',on=['clusters_num','pKd_or_pKi'])['pdb_code']"
   ]
  },
  {
   "cell_type": "code",
   "execution_count": null,
   "metadata": {},
   "outputs": [
    {
     "name": "stderr",
     "output_type": "stream",
     "text": [
      "C:\\Users\\redha.cherif_artefac\\AppData\\Local\\Temp\\ipykernel_52972\\2242425257.py:1: FutureWarning: Dropping invalid columns in DataFrameGroupBy.quantile is deprecated. In a future version, a TypeError will be raised. Before calling .quantile, select only columns which should be valid for the function.\n",
      "  sixtieth_percentile_const = seq_clustering.groupby(by=['clusters_num'],as_index=False,axis=0).quantile(0.60)\n"
     ]
    }
   ],
   "source": [
    "sixtieth_percentile_const = seq_clustering.groupby(by=['clusters_num'],as_index=False,axis=0).quantile(0.60)\n",
    "sixtieth_percentile_const_comp = sixtieth_percentile_const.merge(right=seq_clustering,how='inner',on=['clusters_num','pKd_or_pKi'])['pdb_code']"
   ]
  },
  {
   "cell_type": "code",
   "execution_count": null,
   "metadata": {},
   "outputs": [
    {
     "name": "stderr",
     "output_type": "stream",
     "text": [
      "C:\\Users\\redha.cherif_artefac\\AppData\\Local\\Temp\\ipykernel_52972\\1860721481.py:1: FutureWarning: Dropping invalid columns in DataFrameGroupBy.quantile is deprecated. In a future version, a TypeError will be raised. Before calling .quantile, select only columns which should be valid for the function.\n",
      "  seventieth_percentile_const = seq_clustering.groupby(by=['clusters_num'],as_index=False,axis=0).quantile(0.70)\n"
     ]
    }
   ],
   "source": [
    "seventieth_percentile_const = seq_clustering.groupby(by=['clusters_num'],as_index=False,axis=0).quantile(0.70)\n",
    "seventieth_percentile_const_comp = seventieth_percentile_const.merge(right=seq_clustering,how='inner',on=['clusters_num','pKd_or_pKi'])['pdb_code']"
   ]
  },
  {
   "cell_type": "code",
   "execution_count": null,
   "metadata": {},
   "outputs": [
    {
     "name": "stderr",
     "output_type": "stream",
     "text": [
      "C:\\Users\\redha.cherif_artefac\\AppData\\Local\\Temp\\ipykernel_52972\\303596115.py:1: FutureWarning: Dropping invalid columns in DataFrameGroupBy.quantile is deprecated. In a future version, a TypeError will be raised. Before calling .quantile, select only columns which should be valid for the function.\n",
      "  eightieth_percentile_const = seq_clustering.groupby(by=['clusters_num'],as_index=False,axis=0).quantile(0.80)\n"
     ]
    }
   ],
   "source": [
    "eightieth_percentile_const = seq_clustering.groupby(by=['clusters_num'],as_index=False,axis=0).quantile(0.80)\n",
    "eightieth_percentile_const_comp = eightieth_percentile_const.merge(right=seq_clustering,how='inner',on=['clusters_num','pKd_or_pKi'])['pdb_code']"
   ]
  },
  {
   "cell_type": "code",
   "execution_count": null,
   "metadata": {},
   "outputs": [
    {
     "name": "stderr",
     "output_type": "stream",
     "text": [
      "C:\\Users\\redha.cherif_artefac\\AppData\\Local\\Temp\\ipykernel_52972\\2171470474.py:1: FutureWarning: Dropping invalid columns in DataFrameGroupBy.quantile is deprecated. In a future version, a TypeError will be raised. Before calling .quantile, select only columns which should be valid for the function.\n",
      "  nineieth_percentile_const = seq_clustering.groupby(by=['clusters_num'],as_index=False,axis=0).quantile(0.90)\n"
     ]
    }
   ],
   "source": [
    "nineieth_percentile_const = seq_clustering.groupby(by=['clusters_num'],as_index=False,axis=0).quantile(0.90)\n",
    "nineieth_percentile_const_comp = nineieth_percentile_const.merge(right=seq_clustering,how='inner',on=['clusters_num','pKd_or_pKi'])['pdb_code']"
   ]
  },
  {
   "cell_type": "code",
   "execution_count": null,
   "metadata": {},
   "outputs": [
    {
     "name": "stderr",
     "output_type": "stream",
     "text": [
      "C:\\Users\\redha.cherif_artefac\\AppData\\Local\\Temp\\ipykernel_52972\\3177993738.py:1: FutureWarning: Dropping invalid columns in DataFrameGroupBy.max is deprecated. In a future version, a TypeError will be raised. Before calling .max, select only columns which should be valid for the function.\n",
      "  max_bind_const = seq_clustering.groupby(by=['clusters_num'],as_index=False,axis=0).max()[['clusters_num','pKd_or_pKi']]\n"
     ]
    }
   ],
   "source": [
    "max_bind_const = seq_clustering.groupby(by=['clusters_num'],as_index=False,axis=0).max()[['clusters_num','pKd_or_pKi']]\n",
    "max_bind_const_comp = max_bind_const.merge(right=seq_clustering,how='inner',on=['clusters_num','pKd_or_pKi'])['pdb_code']"
   ]
  },
  {
   "cell_type": "code",
   "execution_count": null,
   "metadata": {},
   "outputs": [],
   "source": [
    "\"\"\" Here, we calculate the number of atom types there are in each protein \"\"\" \n",
    "# Dataset 1\n",
    "lig_atom_type_count_dataset1 = df_ligands_atoms_dataset1.groupby(by=['pdb_code','atom_type']).count().reset_index()[['pdb_code','atom_type','atom_id']].rename(columns={'atom_id':'lig_atom_type_count'})\n",
    "\n",
    "# Dataset 2\n",
    "lig_atom_type_count_dataset2 = df_ligands_atoms_dataset2.groupby(by=['pdb_code','atom_type']).count().reset_index()[['pdb_code','atom_type','atom_id']].rename(columns={'atom_id':'lig_atom_type_count'})\n",
    "\n",
    "# Dataset 3 \n",
    "lig_atom_type_count_dataset3 = df_ligands_atoms_dataset3.groupby(by=['pdb_code','atom_type']).count().reset_index()[['pdb_code','atom_type','atom_id']].rename(columns={'atom_id':'lig_atom_type_count'})"
   ]
  },
  {
   "cell_type": "code",
   "execution_count": null,
   "metadata": {},
   "outputs": [
    {
     "data": {
      "text/html": [
       "<div>\n",
       "<style scoped>\n",
       "    .dataframe tbody tr th:only-of-type {\n",
       "        vertical-align: middle;\n",
       "    }\n",
       "\n",
       "    .dataframe tbody tr th {\n",
       "        vertical-align: top;\n",
       "    }\n",
       "\n",
       "    .dataframe thead th {\n",
       "        text-align: right;\n",
       "    }\n",
       "</style>\n",
       "<table border=\"1\" class=\"dataframe\">\n",
       "  <thead>\n",
       "    <tr style=\"text-align: right;\">\n",
       "      <th></th>\n",
       "      <th>pdb_code</th>\n",
       "      <th>atom_type</th>\n",
       "      <th>lig_atom_type_mean</th>\n",
       "    </tr>\n",
       "  </thead>\n",
       "  <tbody>\n",
       "    <tr>\n",
       "      <th>0</th>\n",
       "      <td>10gs</td>\n",
       "      <td>C.2</td>\n",
       "      <td>0.067797</td>\n",
       "    </tr>\n",
       "    <tr>\n",
       "      <th>1</th>\n",
       "      <td>10gs</td>\n",
       "      <td>C.3</td>\n",
       "      <td>0.118644</td>\n",
       "    </tr>\n",
       "    <tr>\n",
       "      <th>2</th>\n",
       "      <td>10gs</td>\n",
       "      <td>C.ar</td>\n",
       "      <td>0.203390</td>\n",
       "    </tr>\n",
       "    <tr>\n",
       "      <th>3</th>\n",
       "      <td>10gs</td>\n",
       "      <td>H</td>\n",
       "      <td>0.440678</td>\n",
       "    </tr>\n",
       "    <tr>\n",
       "      <th>4</th>\n",
       "      <td>10gs</td>\n",
       "      <td>N.4</td>\n",
       "      <td>0.016949</td>\n",
       "    </tr>\n",
       "    <tr>\n",
       "      <th>...</th>\n",
       "      <td>...</td>\n",
       "      <td>...</td>\n",
       "      <td>...</td>\n",
       "    </tr>\n",
       "    <tr>\n",
       "      <th>17015</th>\n",
       "      <td>966c</td>\n",
       "      <td>H</td>\n",
       "      <td>0.437500</td>\n",
       "    </tr>\n",
       "    <tr>\n",
       "      <th>17016</th>\n",
       "      <td>966c</td>\n",
       "      <td>N.am</td>\n",
       "      <td>0.020833</td>\n",
       "    </tr>\n",
       "    <tr>\n",
       "      <th>17017</th>\n",
       "      <td>966c</td>\n",
       "      <td>O.2</td>\n",
       "      <td>0.062500</td>\n",
       "    </tr>\n",
       "    <tr>\n",
       "      <th>17018</th>\n",
       "      <td>966c</td>\n",
       "      <td>O.3</td>\n",
       "      <td>0.062500</td>\n",
       "    </tr>\n",
       "    <tr>\n",
       "      <th>17019</th>\n",
       "      <td>966c</td>\n",
       "      <td>S.o2</td>\n",
       "      <td>0.020833</td>\n",
       "    </tr>\n",
       "  </tbody>\n",
       "</table>\n",
       "<p>17020 rows × 3 columns</p>\n",
       "</div>"
      ],
      "text/plain": [
       "      pdb_code atom_type  lig_atom_type_mean\n",
       "0         10gs       C.2            0.067797\n",
       "1         10gs       C.3            0.118644\n",
       "2         10gs      C.ar            0.203390\n",
       "3         10gs         H            0.440678\n",
       "4         10gs       N.4            0.016949\n",
       "...        ...       ...                 ...\n",
       "17015     966c         H            0.437500\n",
       "17016     966c      N.am            0.020833\n",
       "17017     966c       O.2            0.062500\n",
       "17018     966c       O.3            0.062500\n",
       "17019     966c      S.o2            0.020833\n",
       "\n",
       "[17020 rows x 3 columns]"
      ]
     },
     "metadata": {},
     "output_type": "display_data"
    }
   ],
   "source": [
    "lig_atom_type_mean_dataset1 = df_ligands_atoms_dataset1.groupby(['pdb_code','atom_type']).count()['atom_id'] / df_ligands_atoms_dataset1.groupby(['pdb_code']).count()['atom_type']\n",
    "lig_atom_type_mean_dataset1 = lig_atom_type_mean_dataset1.reset_index().rename(columns={0:'lig_atom_type_mean'})\n",
    "lig_atom_type_mean_dataset1\n"
   ]
  },
  {
   "cell_type": "code",
   "execution_count": null,
   "metadata": {},
   "outputs": [
    {
     "data": {
      "text/html": [
       "<div>\n",
       "<style scoped>\n",
       "    .dataframe tbody tr th:only-of-type {\n",
       "        vertical-align: middle;\n",
       "    }\n",
       "\n",
       "    .dataframe tbody tr th {\n",
       "        vertical-align: top;\n",
       "    }\n",
       "\n",
       "    .dataframe thead th {\n",
       "        text-align: right;\n",
       "    }\n",
       "</style>\n",
       "<table border=\"1\" class=\"dataframe\">\n",
       "  <thead>\n",
       "    <tr style=\"text-align: right;\">\n",
       "      <th></th>\n",
       "      <th>pdb_code</th>\n",
       "      <th>atom_type</th>\n",
       "      <th>lig_atom_type_count</th>\n",
       "      <th>lig_atom_type_mean</th>\n",
       "    </tr>\n",
       "  </thead>\n",
       "  <tbody>\n",
       "    <tr>\n",
       "      <th>0</th>\n",
       "      <td>10gs</td>\n",
       "      <td>C.2</td>\n",
       "      <td>4</td>\n",
       "      <td>0.067797</td>\n",
       "    </tr>\n",
       "    <tr>\n",
       "      <th>1</th>\n",
       "      <td>10gs</td>\n",
       "      <td>C.3</td>\n",
       "      <td>7</td>\n",
       "      <td>0.118644</td>\n",
       "    </tr>\n",
       "    <tr>\n",
       "      <th>2</th>\n",
       "      <td>10gs</td>\n",
       "      <td>C.ar</td>\n",
       "      <td>12</td>\n",
       "      <td>0.203390</td>\n",
       "    </tr>\n",
       "    <tr>\n",
       "      <th>3</th>\n",
       "      <td>10gs</td>\n",
       "      <td>H</td>\n",
       "      <td>26</td>\n",
       "      <td>0.440678</td>\n",
       "    </tr>\n",
       "    <tr>\n",
       "      <th>4</th>\n",
       "      <td>10gs</td>\n",
       "      <td>N.4</td>\n",
       "      <td>1</td>\n",
       "      <td>0.016949</td>\n",
       "    </tr>\n",
       "    <tr>\n",
       "      <th>...</th>\n",
       "      <td>...</td>\n",
       "      <td>...</td>\n",
       "      <td>...</td>\n",
       "      <td>...</td>\n",
       "    </tr>\n",
       "    <tr>\n",
       "      <th>17015</th>\n",
       "      <td>966c</td>\n",
       "      <td>H</td>\n",
       "      <td>21</td>\n",
       "      <td>0.437500</td>\n",
       "    </tr>\n",
       "    <tr>\n",
       "      <th>17016</th>\n",
       "      <td>966c</td>\n",
       "      <td>N.am</td>\n",
       "      <td>1</td>\n",
       "      <td>0.020833</td>\n",
       "    </tr>\n",
       "    <tr>\n",
       "      <th>17017</th>\n",
       "      <td>966c</td>\n",
       "      <td>O.2</td>\n",
       "      <td>3</td>\n",
       "      <td>0.062500</td>\n",
       "    </tr>\n",
       "    <tr>\n",
       "      <th>17018</th>\n",
       "      <td>966c</td>\n",
       "      <td>O.3</td>\n",
       "      <td>3</td>\n",
       "      <td>0.062500</td>\n",
       "    </tr>\n",
       "    <tr>\n",
       "      <th>17019</th>\n",
       "      <td>966c</td>\n",
       "      <td>S.o2</td>\n",
       "      <td>1</td>\n",
       "      <td>0.020833</td>\n",
       "    </tr>\n",
       "  </tbody>\n",
       "</table>\n",
       "<p>17020 rows × 4 columns</p>\n",
       "</div>"
      ],
      "text/plain": [
       "      pdb_code atom_type  lig_atom_type_count  lig_atom_type_mean\n",
       "0         10gs       C.2                    4            0.067797\n",
       "1         10gs       C.3                    7            0.118644\n",
       "2         10gs      C.ar                   12            0.203390\n",
       "3         10gs         H                   26            0.440678\n",
       "4         10gs       N.4                    1            0.016949\n",
       "...        ...       ...                  ...                 ...\n",
       "17015     966c         H                   21            0.437500\n",
       "17016     966c      N.am                    1            0.020833\n",
       "17017     966c       O.2                    3            0.062500\n",
       "17018     966c       O.3                    3            0.062500\n",
       "17019     966c      S.o2                    1            0.020833\n",
       "\n",
       "[17020 rows x 4 columns]"
      ]
     },
     "metadata": {},
     "output_type": "display_data"
    }
   ],
   "source": [
    "lig_atom_type_count_dataset1.merge(lig_atom_type_mean_dataset1,how='inner',on=['pdb_code','atom_type'])"
   ]
  },
  {
   "cell_type": "code",
   "execution_count": null,
   "metadata": {},
   "outputs": [
    {
     "name": "stdout",
     "output_type": "stream",
     "text": [
      "The number of complexes with dataset 3 is equal to: 2636\n"
     ]
    }
   ],
   "source": [
    "from itertools import chain \n",
    "#Concatenate the three lists\n",
    "bind_const_dataset3_comp = list(chain(min_bind_const_comp,tenth_percentile_const_comp,twentieth_percentile_const_comp,thiertieth_percentile_const_comp,fortieth_percentile_const_comp,median_bind_const_comp, \n",
    "                                sixtieth_percentile_const_comp,seventieth_percentile_const_comp,eightieth_percentile_const_comp,nineieth_percentile_const_comp,max_bind_const_comp))\n",
    "#Keep unique values from the result list \n",
    "bind_const_dataset3_comp = list(dict.fromkeys(bind_const_dataset3_comp))\n",
    "#Check the length of the new list\n",
    "print(f'The number of complexes with dataset 3 is equal to: {len(bind_const_dataset3_comp)}')"
   ]
  },
  {
   "cell_type": "code",
   "execution_count": null,
   "metadata": {},
   "outputs": [
    {
     "data": {
      "text/plain": [
       "False"
      ]
     },
     "metadata": {},
     "output_type": "display_data"
    }
   ],
   "source": [
    "checkIfDuplicates(bind_const_dataset3_comp)"
   ]
  },
  {
   "cell_type": "code",
   "execution_count": null,
   "metadata": {},
   "outputs": [
    {
     "data": {
      "text/plain": [
       "2636"
      ]
     },
     "metadata": {},
     "output_type": "display_data"
    }
   ],
   "source": [
    "len(bind_const_dataset3_comp)"
   ]
  },
  {
   "cell_type": "code",
   "execution_count": null,
   "metadata": {},
   "outputs": [],
   "source": [
    "binding_constants_train_dataset3 = binding_constants_train[binding_constants_train['pdb_code'].isin(bind_const_dataset3_comp)]"
   ]
  },
  {
   "cell_type": "code",
   "execution_count": null,
   "metadata": {},
   "outputs": [],
   "source": [
    "df_proteins_dataset3 = df_proteins[df_proteins['pdb_code'].isin(bind_const_dataset3_comp)]"
   ]
  },
  {
   "cell_type": "code",
   "execution_count": null,
   "metadata": {},
   "outputs": [],
   "source": [
    "df_ligands_atoms_dataset3 = df_ligands_atoms[df_ligands_atoms['pdb_code'].isin(bind_const_dataset3_comp)]"
   ]
  },
  {
   "cell_type": "code",
   "execution_count": null,
   "metadata": {},
   "outputs": [],
   "source": [
    "df_ligands_bonds_dataset3 = df_ligands_bonds[df_ligands_bonds['pdb_code'].isin(bind_const_dataset3_comp)]"
   ]
  },
  {
   "cell_type": "code",
   "execution_count": null,
   "metadata": {},
   "outputs": [],
   "source": [
    "# Dataset 1\n",
    "df_proteins_dataset1 = df_proteins_dataset1.rename(columns={'x_coord':'x','y_coord':'y','z_coord':'z'})\n",
    "prot_df_dataset1 = df_proteins_dataset1.groupby(by='pdb_code').apply(distance_df).reset_index().rename(columns={0:'prot_distances'}).drop(labels='level_1',axis=1)\n",
    "prot_distances_df1 = prot_df_dataset1.groupby(by='pdb_code').mean().reset_index()\n",
    "\n",
    "# Dataset 2\n",
    "df_proteins_dataset2 = df_proteins_dataset2.rename(columns={'x_coord':'x','y_coord':'y','z_coord':'z'})\n",
    "prot_df_dataset2 = df_proteins_dataset2.groupby(by='pdb_code').apply(distance_df).reset_index().rename(columns={0:'prot_distances'}).drop(labels='level_1',axis=1)\n",
    "prot_distances_df2 = prot_df_dataset2.groupby(by='pdb_code').mean().reset_index()\n",
    "\n",
    "# Dataset 3\n",
    "df_proteins_dataset3 = df_proteins_dataset3.rename(columns={'x_coord':'x','y_coord':'y','z_coord':'z'})\n",
    "prot_df_dataset3 = df_proteins_dataset3.groupby(by='pdb_code').apply(distance_df).reset_index().rename(columns={0:'prot_distances'}).drop(labels='level_1',axis=1)\n",
    "prot_distances_df3 = prot_df_dataset3.groupby(by='pdb_code').mean().reset_index()"
   ]
  },
  {
   "cell_type": "code",
   "execution_count": null,
   "metadata": {},
   "outputs": [
    {
     "name": "stdout",
     "output_type": "stream",
     "text": [
      "84\n"
     ]
    }
   ],
   "source": [
    "\"\"\"\n",
    "    In the dataset 3 (bind_const_dataset3_comp), there are 2636 complexes. \n",
    "    Afterwards, the different dataframes have only 2552 complexes, hence a difference of 84 complexes.\n",
    "    Here, we're checking we actually have 84 complexes as a difference\n",
    "                                                                                                        \"\"\"\n",
    "out_list = []\n",
    "for element in bind_const_dataset3_comp:\n",
    "    if element not in binding_constants_train_dataset3.pdb_code.values:\n",
    "        out_list.append(element)\n",
    "print(len(out_list))"
   ]
  },
  {
   "cell_type": "code",
   "execution_count": null,
   "metadata": {},
   "outputs": [
    {
     "name": "stdout",
     "output_type": "stream",
     "text": [
      "Here, we show that these 84 complexes are present in the deleted comon complexes between the train and test\n"
     ]
    }
   ],
   "source": [
    "\"\"\"\n",
    "    Here, we're checking where did we loose these 74 complexes, if it was a mistake or not. \n",
    "    Here, we show that those 74 complexes are not present in the resulting dataframes because they have been \n",
    "    deleted beforehand as they were common to the test set.\n",
    "                                                                                                                \"\"\" \n",
    "in_list = []\n",
    "for element in out_list:\n",
    "    if element in comon_complex_values:\n",
    "        in_list.append(element)\n",
    "print(f'Here, we show that these {len(in_list)} complexes are present in the deleted comon complexes between the train and test')"
   ]
  },
  {
   "cell_type": "code",
   "execution_count": null,
   "metadata": {},
   "outputs": [],
   "source": [
    "seq_clustering_grouped = seq_clustering.groupby(by='clusters_num',as_index=False)\n",
    "#seq_clustering_grouped.apply(lambda x: x[x['pKd_or_pKi']== x['pKd_or_pKi'].max()] )"
   ]
  },
  {
   "cell_type": "code",
   "execution_count": null,
   "metadata": {},
   "outputs": [
    {
     "name": "stderr",
     "output_type": "stream",
     "text": [
      "C:\\Users\\redha.cherif_artefac\\AppData\\Local\\Temp\\ipykernel_11088\\2789685987.py:1: FutureWarning: Dropping invalid columns in DataFrameGroupBy.min is deprecated. In a future version, a TypeError will be raised. Before calling .min, select only columns which should be valid for the function.\n",
      "  min_bind_const = seq_clustering_grouped.min().pKd_or_pKi.tolist()\n"
     ]
    }
   ],
   "source": [
    "min_bind_const = seq_clustering_grouped.min().pKd_or_pKi.tolist()\n",
    "min_bind_const_comp = seq_clustering[seq_clustering['pKd_or_pKi'].isin(min_bind_const)]['pdb_code']"
   ]
  },
  {
   "cell_type": "code",
   "execution_count": null,
   "metadata": {},
   "outputs": [],
   "source": [
    "median_bind_const = seq_clustering_grouped.median().pKd_or_pKi.tolist()\n",
    "median_bind_const_comp = seq_clustering[seq_clustering['pKd_or_pKi'].isin(median_bind_const)]['pdb_code']"
   ]
  },
  {
   "cell_type": "code",
   "execution_count": null,
   "metadata": {},
   "outputs": [
    {
     "name": "stderr",
     "output_type": "stream",
     "text": [
      "C:\\Users\\redha.cherif_artefac\\AppData\\Local\\Temp\\ipykernel_11088\\3250860325.py:1: FutureWarning: Dropping invalid columns in DataFrameGroupBy.max is deprecated. In a future version, a TypeError will be raised. Before calling .max, select only columns which should be valid for the function.\n",
      "  max_bind_const = seq_clustering_grouped.max().pKd_or_pKi.tolist()\n"
     ]
    }
   ],
   "source": [
    "max_bind_const = seq_clustering_grouped.max().pKd_or_pKi.tolist()\n",
    "max_bind_const_comp = seq_clustering[seq_clustering['pKd_or_pKi'].isin(max_bind_const)]['pdb_code']"
   ]
  },
  {
   "cell_type": "code",
   "execution_count": null,
   "metadata": {},
   "outputs": [],
   "source": [
    "\"\"\" Here, we calculate the number of atom types there are in each protein \"\"\" \n",
    "# Dataset 1\n",
    "lig_atom_type_count_dataset1 = df_ligands_atoms_dataset1.groupby(by=['pdb_code','atom_type']).count().reset_index()[['pdb_code','atom_type','atom_id']].rename(columns={'atom_id':'lig_atom_type_count'})\n",
    "\n",
    "# Dataset 2\n",
    "lig_atom_type_count_dataset2 = df_ligands_atoms_dataset2.groupby(by=['pdb_code','atom_type']).count().reset_index()[['pdb_code','atom_type','atom_id']].rename(columns={'atom_id':'lig_atom_type_count'})\n",
    "\n",
    "# Dataset 3 \n",
    "lig_atom_type_count_dataset3 = df_ligands_atoms_dataset3.groupby(by=['pdb_code','atom_type']).count().reset_index()[['pdb_code','atom_type','atom_id']].rename(columns={'atom_id':'lig_atom_type_count'})"
   ]
  },
  {
   "cell_type": "code",
   "execution_count": null,
   "metadata": {},
   "outputs": [
    {
     "data": {
      "text/html": [
       "<div>\n",
       "<style scoped>\n",
       "    .dataframe tbody tr th:only-of-type {\n",
       "        vertical-align: middle;\n",
       "    }\n",
       "\n",
       "    .dataframe tbody tr th {\n",
       "        vertical-align: top;\n",
       "    }\n",
       "\n",
       "    .dataframe thead th {\n",
       "        text-align: right;\n",
       "    }\n",
       "</style>\n",
       "<table border=\"1\" class=\"dataframe\">\n",
       "  <thead>\n",
       "    <tr style=\"text-align: right;\">\n",
       "      <th></th>\n",
       "      <th>pdb_code</th>\n",
       "      <th>atom_type</th>\n",
       "      <th>lig_atom_type_mean</th>\n",
       "    </tr>\n",
       "  </thead>\n",
       "  <tbody>\n",
       "    <tr>\n",
       "      <th>0</th>\n",
       "      <td>10gs</td>\n",
       "      <td>C.2</td>\n",
       "      <td>0.067797</td>\n",
       "    </tr>\n",
       "    <tr>\n",
       "      <th>1</th>\n",
       "      <td>10gs</td>\n",
       "      <td>C.3</td>\n",
       "      <td>0.118644</td>\n",
       "    </tr>\n",
       "    <tr>\n",
       "      <th>2</th>\n",
       "      <td>10gs</td>\n",
       "      <td>C.ar</td>\n",
       "      <td>0.203390</td>\n",
       "    </tr>\n",
       "    <tr>\n",
       "      <th>3</th>\n",
       "      <td>10gs</td>\n",
       "      <td>H</td>\n",
       "      <td>0.440678</td>\n",
       "    </tr>\n",
       "    <tr>\n",
       "      <th>4</th>\n",
       "      <td>10gs</td>\n",
       "      <td>N.4</td>\n",
       "      <td>0.016949</td>\n",
       "    </tr>\n",
       "    <tr>\n",
       "      <th>...</th>\n",
       "      <td>...</td>\n",
       "      <td>...</td>\n",
       "      <td>...</td>\n",
       "    </tr>\n",
       "    <tr>\n",
       "      <th>17015</th>\n",
       "      <td>966c</td>\n",
       "      <td>H</td>\n",
       "      <td>0.437500</td>\n",
       "    </tr>\n",
       "    <tr>\n",
       "      <th>17016</th>\n",
       "      <td>966c</td>\n",
       "      <td>N.am</td>\n",
       "      <td>0.020833</td>\n",
       "    </tr>\n",
       "    <tr>\n",
       "      <th>17017</th>\n",
       "      <td>966c</td>\n",
       "      <td>O.2</td>\n",
       "      <td>0.062500</td>\n",
       "    </tr>\n",
       "    <tr>\n",
       "      <th>17018</th>\n",
       "      <td>966c</td>\n",
       "      <td>O.3</td>\n",
       "      <td>0.062500</td>\n",
       "    </tr>\n",
       "    <tr>\n",
       "      <th>17019</th>\n",
       "      <td>966c</td>\n",
       "      <td>S.o2</td>\n",
       "      <td>0.020833</td>\n",
       "    </tr>\n",
       "  </tbody>\n",
       "</table>\n",
       "<p>17020 rows × 3 columns</p>\n",
       "</div>"
      ],
      "text/plain": [
       "      pdb_code atom_type  lig_atom_type_mean\n",
       "0         10gs       C.2            0.067797\n",
       "1         10gs       C.3            0.118644\n",
       "2         10gs      C.ar            0.203390\n",
       "3         10gs         H            0.440678\n",
       "4         10gs       N.4            0.016949\n",
       "...        ...       ...                 ...\n",
       "17015     966c         H            0.437500\n",
       "17016     966c      N.am            0.020833\n",
       "17017     966c       O.2            0.062500\n",
       "17018     966c       O.3            0.062500\n",
       "17019     966c      S.o2            0.020833\n",
       "\n",
       "[17020 rows x 3 columns]"
      ]
     },
     "metadata": {},
     "output_type": "display_data"
    }
   ],
   "source": [
    "lig_atom_type_mean_dataset1 = df_ligands_atoms_dataset1.groupby(['pdb_code','atom_type']).count()['atom_id'] / df_ligands_atoms_dataset1.groupby(['pdb_code']).count()['atom_type']\n",
    "lig_atom_type_mean_dataset1 = lig_atom_type_mean_dataset1.reset_index().rename(columns={0:'lig_atom_type_mean'})\n",
    "lig_atom_type_mean_dataset1"
   ]
  },
  {
   "cell_type": "code",
   "execution_count": null,
   "metadata": {},
   "outputs": [
    {
     "data": {
      "text/html": [
       "<div>\n",
       "<style scoped>\n",
       "    .dataframe tbody tr th:only-of-type {\n",
       "        vertical-align: middle;\n",
       "    }\n",
       "\n",
       "    .dataframe tbody tr th {\n",
       "        vertical-align: top;\n",
       "    }\n",
       "\n",
       "    .dataframe thead th {\n",
       "        text-align: right;\n",
       "    }\n",
       "</style>\n",
       "<table border=\"1\" class=\"dataframe\">\n",
       "  <thead>\n",
       "    <tr style=\"text-align: right;\">\n",
       "      <th></th>\n",
       "      <th>pdb_code</th>\n",
       "      <th>atom_type</th>\n",
       "      <th>lig_atom_type_count</th>\n",
       "      <th>lig_atom_type_mean</th>\n",
       "    </tr>\n",
       "  </thead>\n",
       "  <tbody>\n",
       "    <tr>\n",
       "      <th>0</th>\n",
       "      <td>10gs</td>\n",
       "      <td>C.2</td>\n",
       "      <td>4</td>\n",
       "      <td>0.067797</td>\n",
       "    </tr>\n",
       "    <tr>\n",
       "      <th>1</th>\n",
       "      <td>10gs</td>\n",
       "      <td>C.3</td>\n",
       "      <td>7</td>\n",
       "      <td>0.118644</td>\n",
       "    </tr>\n",
       "    <tr>\n",
       "      <th>2</th>\n",
       "      <td>10gs</td>\n",
       "      <td>C.ar</td>\n",
       "      <td>12</td>\n",
       "      <td>0.203390</td>\n",
       "    </tr>\n",
       "    <tr>\n",
       "      <th>3</th>\n",
       "      <td>10gs</td>\n",
       "      <td>H</td>\n",
       "      <td>26</td>\n",
       "      <td>0.440678</td>\n",
       "    </tr>\n",
       "    <tr>\n",
       "      <th>4</th>\n",
       "      <td>10gs</td>\n",
       "      <td>N.4</td>\n",
       "      <td>1</td>\n",
       "      <td>0.016949</td>\n",
       "    </tr>\n",
       "    <tr>\n",
       "      <th>...</th>\n",
       "      <td>...</td>\n",
       "      <td>...</td>\n",
       "      <td>...</td>\n",
       "      <td>...</td>\n",
       "    </tr>\n",
       "    <tr>\n",
       "      <th>17015</th>\n",
       "      <td>966c</td>\n",
       "      <td>H</td>\n",
       "      <td>21</td>\n",
       "      <td>0.437500</td>\n",
       "    </tr>\n",
       "    <tr>\n",
       "      <th>17016</th>\n",
       "      <td>966c</td>\n",
       "      <td>N.am</td>\n",
       "      <td>1</td>\n",
       "      <td>0.020833</td>\n",
       "    </tr>\n",
       "    <tr>\n",
       "      <th>17017</th>\n",
       "      <td>966c</td>\n",
       "      <td>O.2</td>\n",
       "      <td>3</td>\n",
       "      <td>0.062500</td>\n",
       "    </tr>\n",
       "    <tr>\n",
       "      <th>17018</th>\n",
       "      <td>966c</td>\n",
       "      <td>O.3</td>\n",
       "      <td>3</td>\n",
       "      <td>0.062500</td>\n",
       "    </tr>\n",
       "    <tr>\n",
       "      <th>17019</th>\n",
       "      <td>966c</td>\n",
       "      <td>S.o2</td>\n",
       "      <td>1</td>\n",
       "      <td>0.020833</td>\n",
       "    </tr>\n",
       "  </tbody>\n",
       "</table>\n",
       "<p>17020 rows × 4 columns</p>\n",
       "</div>"
      ],
      "text/plain": [
       "      pdb_code atom_type  lig_atom_type_count  lig_atom_type_mean\n",
       "0         10gs       C.2                    4            0.067797\n",
       "1         10gs       C.3                    7            0.118644\n",
       "2         10gs      C.ar                   12            0.203390\n",
       "3         10gs         H                   26            0.440678\n",
       "4         10gs       N.4                    1            0.016949\n",
       "...        ...       ...                  ...                 ...\n",
       "17015     966c         H                   21            0.437500\n",
       "17016     966c      N.am                    1            0.020833\n",
       "17017     966c       O.2                    3            0.062500\n",
       "17018     966c       O.3                    3            0.062500\n",
       "17019     966c      S.o2                    1            0.020833\n",
       "\n",
       "[17020 rows x 4 columns]"
      ]
     },
     "metadata": {},
     "output_type": "display_data"
    }
   ],
   "source": [
    "lig_atom_type_count_dataset1.merge(lig_atom_type_mean_dataset1,how='inner',on=['pdb_code','atom_type'])"
   ]
  },
  {
   "cell_type": "code",
   "execution_count": null,
   "metadata": {},
   "outputs": [],
   "source": [
    "\"\"\" Here, we want to shif the sample of values to make the minimum value equal to 1 (as log is define within R+*) \"\"\"\n",
    "for dataset in [df_ligands_atoms_dataset1, df_ligands_atoms_dataset2, df_ligands_atoms_dataset3]:\n",
    "    dataset['charge_shifted'] = dataset.charge - dataset.charge.min() + 1 \n",
    "    dataset['charge_shifted'] = dataset.charge - dataset.charge.min() + 1 \n",
    "    dataset['charge_shifted'] = dataset.charge - dataset.charge.min() + 1 "
   ]
  },
  {
   "cell_type": "code",
   "execution_count": null,
   "metadata": {},
   "outputs": [],
   "source": [
    "for dataset in [df_ligands_atoms_dataset1, df_ligands_atoms_dataset2, df_ligands_atoms_dataset3]:\n",
    "    dataset['log_charge'] = np.log(dataset.charge_shifted)\n",
    "    dataset['log_charge'] = np.log(dataset.charge_shifted)\n",
    "    dataset['log_charge'] = np.log(dataset.charge_shifted)"
   ]
  },
  {
   "cell_type": "code",
   "execution_count": null,
   "metadata": {},
   "outputs": [
    {
     "data": {
      "text/plain": [
       "Text(0.5, 1.0, 'Histogram for df_ligands_atoms_dataset3')"
      ]
     },
     "metadata": {},
     "output_type": "display_data"
    },
    {
     "data": {
      "image/png": "[encoded data removed]",
      "text/plain": [
       "<Figure size 1440x720 with 3 Axes>"
      ]
     },
     "metadata": {},
     "output_type": "display_data"
    }
   ],
   "source": [
    "plt.figure(figsize=(20,10))\n",
    "plt.suptitle(\"Distribution of atom charges for the different datasets \", fontsize=14)\n",
    "\n",
    "plt.subplot(2,2,1)\n",
    "sns.histplot(data=df_ligands_atoms_dataset1,x='log_charge',bins=50)\n",
    "plt.title('Histogram for df_ligands_atoms_dataset1')\n",
    "\n",
    "plt.subplot(2,2,2)\n",
    "sns.histplot(data=df_ligands_atoms_dataset2,x='log_charge',bins=50)\n",
    "plt.title('Histogram for df_ligands_atoms_dataset2')\n",
    "\n",
    "plt.subplot(2,2,3)\n",
    "sns.histplot(data=df_ligands_atoms_dataset3,x='log_charge',bins=50)\n",
    "plt.title('Histogram for df_ligands_atoms_dataset3')"
   ]
  },
  {
   "cell_type": "code",
   "execution_count": null,
   "metadata": {},
   "outputs": [],
   "source": [
    "\"\"\" Here, we want to normize the data to make it between 0 and 1 \"\"\" \n",
    "for dataset in [df_ligands_atoms_dataset1, df_ligands_atoms_dataset2, df_ligands_atoms_dataset3]:\n",
    "    dataset['log_charge_normalized'] = (dataset.log_charge - dataset.log_charge.min()) / (dataset.log_charge.max() - dataset.log_charge.min())"
   ]
  },
  {
   "cell_type": "code",
   "execution_count": null,
   "metadata": {},
   "outputs": [
    {
     "data": {
      "text/plain": [
       "Text(0.5, 1.0, 'Histogram for df_ligands_atoms_dataset3')"
      ]
     },
     "metadata": {},
     "output_type": "display_data"
    },
    {
     "data": {
      "image/png": "[encoded data removed]",
      "text/plain": [
       "<Figure size 1440x720 with 3 Axes>"
      ]
     },
     "metadata": {},
     "output_type": "display_data"
    }
   ],
   "source": [
    "plt.figure(figsize=(20,10))\n",
    "plt.suptitle(\"Distribution of atom charges for the different datasets \", fontsize=14)\n",
    "\n",
    "plt.subplot(2,2,1)\n",
    "sns.histplot(data=df_ligands_atoms_dataset1,x='log_charge_normalized',bins=50)\n",
    "plt.title('Histogram for df_ligands_atoms_dataset1')\n",
    "\n",
    "plt.subplot(2,2,2)\n",
    "sns.histplot(data=df_ligands_atoms_dataset2,x='log_charge_normalized',bins=50)\n",
    "plt.title('Histogram for df_ligands_atoms_dataset2')\n",
    "\n",
    "plt.subplot(2,2,3)\n",
    "sns.histplot(data=df_ligands_atoms_dataset3,x='log_charge_normalized',bins=50)\n",
    "plt.title('Histogram for df_ligands_atoms_dataset3')"
   ]
  },
  {
   "cell_type": "code",
   "execution_count": 62,
   "metadata": {},
   "outputs": [],
   "source": [
    "from Bio.Seq import Seq\n",
    "seq1 = Seq(df_seq_align[df_seq_align['pdb_code']=='10gs'].entry.iloc[0])\n",
    "seq2 = Seq(df_seq_align[df_seq_align['pdb_code']=='10gs'].entry.iloc[1])"
   ]
  },
  {
   "cell_type": "code",
   "execution_count": 66,
   "metadata": {},
   "outputs": [
    {
     "data": {
      "text/plain": [
       "24.0"
      ]
     },
     "execution_count": 66,
     "metadata": {},
     "output_type": "execute_result"
    }
   ],
   "source": [
    "from Bio import Align \n",
    "aligner = Align.PairwiseAligner()\n",
    "aligner = Align.PairwiseAligner(match_score=1.0)\n",
    "aligner.score(seq1, seq2)"
   ]
  },
  {
   "cell_type": "code",
   "execution_count": 67,
   "metadata": {},
   "outputs": [
    {
     "ename": "AttributeError",
     "evalue": "'PairwiseAligner' object has no attribute 'aligne'",
     "output_type": "error",
     "traceback": [
      "\u001b[1;31m---------------------------------------------------------------------------\u001b[0m",
      "\u001b[1;31mAttributeError\u001b[0m                            Traceback (most recent call last)",
      "\u001b[1;32mc:\\Users\\redha.cherif_artefac\\GitHub_perso\\Research_project\\Notebooks\\nbt_3rd_trial.ipynb Cellule 23\u001b[0m in \u001b[0;36m<cell line: 1>\u001b[1;34m()\u001b[0m\n\u001b[1;32m----> <a href='vscode-notebook-cell:/c%3A/Users/redha.cherif_artefac/GitHub_perso/Research_project/Notebooks/nbt_3rd_trial.ipynb#X41sZmlsZQ%3D%3D?line=0'>1</a>\u001b[0m alignments \u001b[39m=\u001b[39m aligner\u001b[39m.\u001b[39;49maligne(seq1,seq2)\n\u001b[0;32m      <a href='vscode-notebook-cell:/c%3A/Users/redha.cherif_artefac/GitHub_perso/Research_project/Notebooks/nbt_3rd_trial.ipynb#X41sZmlsZQ%3D%3D?line=1'>2</a>\u001b[0m \u001b[39mfor\u001b[39;00m alignment \u001b[39min\u001b[39;00m alignments:\n\u001b[0;32m      <a href='vscode-notebook-cell:/c%3A/Users/redha.cherif_artefac/GitHub_perso/Research_project/Notebooks/nbt_3rd_trial.ipynb#X41sZmlsZQ%3D%3D?line=2'>3</a>\u001b[0m     \u001b[39mprint\u001b[39m(alignment)\n",
      "\u001b[1;31mAttributeError\u001b[0m: 'PairwiseAligner' object has no attribute 'aligne'"
     ]
    }
   ],
   "source": [
    "alignments = aligner.aligne(seq1,seq2)\n",
    "for alignment in alignments:\n",
    "    print(alignment)"
   ]
  },
  {
   "cell_type": "code",
   "execution_count": 52,
   "metadata": {},
   "outputs": [
    {
     "ename": "ValueError",
     "evalue": "alphabet is None; cannot interpret sequence",
     "output_type": "error",
     "traceback": [
      "\u001b[1;31m---------------------------------------------------------------------------\u001b[0m",
      "\u001b[1;31mValueError\u001b[0m                                Traceback (most recent call last)",
      "\u001b[1;32mc:\\Users\\redha.cherif_artefac\\GitHub_perso\\Research_project\\Notebooks\\nbt_3rd_trial.ipynb Cellule 22\u001b[0m in \u001b[0;36m<cell line: 3>\u001b[1;34m()\u001b[0m\n\u001b[0;32m      <a href='vscode-notebook-cell:/c%3A/Users/redha.cherif_artefac/GitHub_perso/Research_project/Notebooks/nbt_3rd_trial.ipynb#X35sZmlsZQ%3D%3D?line=0'>1</a>\u001b[0m seq1 \u001b[39m=\u001b[39m df_seq_align[df_seq_align[\u001b[39m'\u001b[39m\u001b[39mpdb_code\u001b[39m\u001b[39m'\u001b[39m]\u001b[39m==\u001b[39m\u001b[39m'\u001b[39m\u001b[39m10gs\u001b[39m\u001b[39m'\u001b[39m]\u001b[39m.\u001b[39mentry\n\u001b[0;32m      <a href='vscode-notebook-cell:/c%3A/Users/redha.cherif_artefac/GitHub_perso/Research_project/Notebooks/nbt_3rd_trial.ipynb#X35sZmlsZQ%3D%3D?line=1'>2</a>\u001b[0m seq2 \u001b[39m=\u001b[39m df_seq_align[df_seq_align[\u001b[39m'\u001b[39m\u001b[39mpdb_code\u001b[39m\u001b[39m'\u001b[39m]\u001b[39m==\u001b[39m\u001b[39m'\u001b[39m\u001b[39m184l\u001b[39m\u001b[39m'\u001b[39m]\u001b[39m.\u001b[39mentry\n\u001b[1;32m----> <a href='vscode-notebook-cell:/c%3A/Users/redha.cherif_artefac/GitHub_perso/Research_project/Notebooks/nbt_3rd_trial.ipynb#X35sZmlsZQ%3D%3D?line=2'>3</a>\u001b[0m score \u001b[39m=\u001b[39m aligner\u001b[39m.\u001b[39;49mscore(seq1,seq2)\n",
      "File \u001b[1;32mc:\\Users\\redha.cherif_artefac\\miniconda3\\envs\\research_project\\lib\\site-packages\\Bio\\Align\\__init__.py:2272\u001b[0m, in \u001b[0;36mPairwiseAligner.score\u001b[1;34m(self, seqA, seqB, strand)\u001b[0m\n\u001b[0;32m   2270\u001b[0m \u001b[39mif\u001b[39;00m \u001b[39misinstance\u001b[39m(seqB, (Seq, MutableSeq)):\n\u001b[0;32m   2271\u001b[0m     seqB \u001b[39m=\u001b[39m \u001b[39mbytes\u001b[39m(seqB)\n\u001b[1;32m-> 2272\u001b[0m \u001b[39mreturn\u001b[39;00m _aligners\u001b[39m.\u001b[39;49mPairwiseAligner\u001b[39m.\u001b[39;49mscore(\u001b[39mself\u001b[39;49m, seqA, seqB, strand)\n",
      "\u001b[1;31mValueError\u001b[0m: alphabet is None; cannot interpret sequence"
     ]
    }
   ],
   "source": [
    "seq1 = df_seq_align[df_seq_align['pdb_code']=='10gs'].entry\n",
    "seq2 = df_seq_align[df_seq_align['pdb_code']=='184l'].entry\n",
    "score = aligner.score(seq1,seq2)"
   ]
  },
  {
   "cell_type": "code",
   "execution_count": 35,
   "metadata": {},
   "outputs": [
    {
     "name": "stdout",
     "output_type": "stream",
     "text": [
      ">some_header\n",
      " IQAEEWYFGKITRRESERLLLNAENPRGTFLVRESETTKGAYCLSVSDFDNAKGLNVKHYKIRKLDSGGFYITSRTQFNSLQQLVAYYSKHADGLCHRLTTVCP\n",
      "104\n",
      ">some_header\n",
      " IQAEEWYFGKITRRESERLLLNAENPRGTFLVRESETTKGAYCLSVSDFDNAKGLNVKHYKIRKLDSGGFYITSRTQFNSLQQLVAYYSKHADGLCHRLTTVCP\n",
      "104\n",
      ">some_header\n",
      " ZZZZZZZZZZZZZZZZZZZZZZZZZZZZZZZZZZZZZZZZZZZZ\n",
      "44\n"
     ]
    },
    {
     "name": "stderr",
     "output_type": "stream",
     "text": [
      "c:\\Users\\redha.cherif_artefac\\miniconda3\\envs\\research_project\\lib\\site-packages\\Bio\\PDB\\PDBParser.py:395: PDBConstructionWarning: Ignoring unrecognized record 'TER' at line 1659\n",
      "  warnings.warn(\n",
      "c:\\Users\\redha.cherif_artefac\\miniconda3\\envs\\research_project\\lib\\site-packages\\Bio\\PDB\\PDBParser.py:395: PDBConstructionWarning: Ignoring unrecognized record 'TER' at line 3256\n",
      "  warnings.warn(\n",
      "c:\\Users\\redha.cherif_artefac\\miniconda3\\envs\\research_project\\lib\\site-packages\\Bio\\PDB\\PDBParser.py:395: PDBConstructionWarning: Ignoring unrecognized record 'END' at line 3301\n",
      "  warnings.warn(\n"
     ]
    }
   ],
   "source": [
    "from Bio.PDB.PDBParser import PDBParser\n",
    "\n",
    "# You can use a dict to convert three letter code to one letter code\n",
    "d3to1 = {'CYS': 'C', 'ASP': 'D', 'SER': 'S', 'GLN': 'Q', 'LYS': 'K',\n",
    "'ILE': 'I', 'PRO': 'P', 'THR': 'T', 'PHE': 'F', 'ASN': 'N', \n",
    "'GLY': 'G', 'HIS': 'H', 'LEU': 'L', 'ARG': 'R', 'TRP': 'W', \n",
    "'ALA': 'A', 'VAL':'V', 'GLU': 'E', 'TYR': 'Y', 'MET': 'M','HOH':'Z'}\n",
    "\n",
    "# Just an example input pdb\n",
    "path = \"C:/Users/redha.cherif_artefac/GitHub_perso/Research_project/Input/PDBbind_v2020_refined/1a1e/1a1e_protein.pdb\"\n",
    "\n",
    "# run parser\n",
    "parser = PDBParser(PERMISSIVE=1)#,QUIET=True)\n",
    "structure = parser.get_structure('test', path) \n",
    "\n",
    "# iterate each model, chain, and residue\n",
    "# printing out the sequence for each chain\n",
    "for model in structure:\n",
    "     for chain in model:\n",
    "        seq = []\n",
    "        for residue in chain:\n",
    "            seq.append(d3to1[residue.resname])\n",
    "        print('>some_header\\n',''.join(seq))\n",
    "        print(len(chain))"
   ]
  },
  {
   "cell_type": "code",
   "execution_count": null,
   "metadata": {},
   "outputs": [],
   "source": [
    "d3to1 = {'CYS': 'C', 'ASP': 'D', 'SER': 'S', 'GLN': 'Q', 'LYS': 'K',\n",
    "'ILE': 'I', 'PRO': 'P', 'THR': 'T', 'PHE': 'F', 'ASN': 'N', \n",
    "'GLY': 'G', 'HIS': 'H', 'LEU': 'L', 'ARG': 'R', 'TRP': 'W', \n",
    "'ALA': 'A', 'VAL':'V', 'GLU': 'E', 'TYR': 'Y', 'MET': 'M'}\n",
    "\n",
    "lst = []\n",
    "for element in df_seq_align.entry.values.tolist():\n",
    "    for key in d3to1:\n",
    "        element = element.replace(key,d3to1[key])\n",
    "        element = element.replace(' ','')\n",
    "    lst.append(element)\n",
    "\n",
    "df_seq_align['entry_new'] = lst"
   ]
  },
  {
   "cell_type": "code",
   "execution_count": null,
   "metadata": {},
   "outputs": [
    {
     "name": "stdout",
     "output_type": "stream",
     "text": [
      "GLU GLN PRO TYR THR ARG PRO LEU PRO ALA ASP GLY LEU\n",
      "GLU GLN PRO TYR THR ARG PRO LEU PRO ALA ASP GLY LEU\n"
     ]
    }
   ],
   "source": [
    "l = []\n",
    "for element in df_seq_align[(df_seq_align['pdb_code']=='1ax0')&(df_seq_align['entry_new_length']==11)].entry.tolist():\n",
    "    for key in d3to1:\n",
    "        element = element.replace(key,d3to1[key])\n",
    "        #element = element.replace(' ','')\n",
    "    l.append(l)\n",
    "print(l)"
   ]
  },
  {
   "cell_type": "code",
   "execution_count": null,
   "metadata": {},
   "outputs": [],
   "source": [
    "length = []\n",
    "for element in df_seq_align.entry.values.tolist():\n",
    "    len_ = len(element.split())\n",
    "    length.append(len_)"
   ]
  },
  {
   "cell_type": "code",
   "execution_count": null,
   "metadata": {},
   "outputs": [],
   "source": [
    "df_seq_align['entry_length'] = length\n",
    "df_seq_align['entry_new_length'] = [len(x) for x in df_seq_align.entry_new]"
   ]
  },
  {
   "cell_type": "code",
   "execution_count": null,
   "metadata": {},
   "outputs": [],
   "source": [
    "df_seq_align['diff'] = df_seq_align['entry_length'] - df_seq_align['entry_new_length']"
   ]
  },
  {
   "cell_type": "code",
   "execution_count": null,
   "metadata": {},
   "outputs": [
    {
     "data": {
      "text/html": [
       "<div>\n",
       "<style scoped>\n",
       "    .dataframe tbody tr th:only-of-type {\n",
       "        vertical-align: middle;\n",
       "    }\n",
       "\n",
       "    .dataframe tbody tr th {\n",
       "        vertical-align: top;\n",
       "    }\n",
       "\n",
       "    .dataframe thead th {\n",
       "        text-align: right;\n",
       "    }\n",
       "</style>\n",
       "<table border=\"1\" class=\"dataframe\">\n",
       "  <thead>\n",
       "    <tr style=\"text-align: right;\">\n",
       "      <th></th>\n",
       "      <th>entry</th>\n",
       "      <th>pdb_code</th>\n",
       "      <th>entry_new</th>\n",
       "      <th>entry_length</th>\n",
       "      <th>entry_new_length</th>\n",
       "      <th>diff</th>\n",
       "    </tr>\n",
       "  </thead>\n",
       "  <tbody>\n",
       "    <tr>\n",
       "      <th>1749</th>\n",
       "      <td>GLU GLN PRO TYR THR ARG PRO LEU PRO ALA ASP GL...</td>\n",
       "      <td>1ax0</td>\n",
       "      <td>EQPYWLPADGL</td>\n",
       "      <td>13</td>\n",
       "      <td>11</td>\n",
       "      <td>2</td>\n",
       "    </tr>\n",
       "    <tr>\n",
       "      <th>1768</th>\n",
       "      <td>GLU GLN PRO TYR THR ARG PRO LEU PRO ALA ASP GL...</td>\n",
       "      <td>1ax0</td>\n",
       "      <td>EQPYWLPADGL</td>\n",
       "      <td>13</td>\n",
       "      <td>11</td>\n",
       "      <td>2</td>\n",
       "    </tr>\n",
       "    <tr>\n",
       "      <th>2057</th>\n",
       "      <td>ACE MET GLU ASN PHE GLN LYS VAL GLU LYS ILE GL...</td>\n",
       "      <td>1b38</td>\n",
       "      <td>ACEMENFQKVEKIGE</td>\n",
       "      <td>13</td>\n",
       "      <td>15</td>\n",
       "      <td>-2</td>\n",
       "    </tr>\n",
       "    <tr>\n",
       "      <th>6663</th>\n",
       "      <td>ILE CSO GLY HIS LYS ALA ILE GLY THR VAL LEU VA...</td>\n",
       "      <td>1dmp</td>\n",
       "      <td>ICSOGHKAIGTVLVG</td>\n",
       "      <td>13</td>\n",
       "      <td>15</td>\n",
       "      <td>-2</td>\n",
       "    </tr>\n",
       "    <tr>\n",
       "      <th>6671</th>\n",
       "      <td>ILE CSO GLY HIS LYS ALA ILE GLY THR VAL LEU VA...</td>\n",
       "      <td>1dmp</td>\n",
       "      <td>ICSOGHKAIGTVLVG</td>\n",
       "      <td>13</td>\n",
       "      <td>15</td>\n",
       "      <td>-2</td>\n",
       "    </tr>\n",
       "  </tbody>\n",
       "</table>\n",
       "</div>"
      ],
      "text/plain": [
       "                                                  entry pdb_code  \\\n",
       "1749  GLU GLN PRO TYR THR ARG PRO LEU PRO ALA ASP GL...     1ax0   \n",
       "1768  GLU GLN PRO TYR THR ARG PRO LEU PRO ALA ASP GL...     1ax0   \n",
       "2057  ACE MET GLU ASN PHE GLN LYS VAL GLU LYS ILE GL...     1b38   \n",
       "6663  ILE CSO GLY HIS LYS ALA ILE GLY THR VAL LEU VA...     1dmp   \n",
       "6671  ILE CSO GLY HIS LYS ALA ILE GLY THR VAL LEU VA...     1dmp   \n",
       "\n",
       "            entry_new  entry_length  entry_new_length  diff  \n",
       "1749      EQPYWLPADGL            13                11     2  \n",
       "1768      EQPYWLPADGL            13                11     2  \n",
       "2057  ACEMENFQKVEKIGE            13                15    -2  \n",
       "6663  ICSOGHKAIGTVLVG            13                15    -2  \n",
       "6671  ICSOGHKAIGTVLVG            13                15    -2  "
      ]
     },
     "metadata": {},
     "output_type": "display_data"
    }
   ],
   "source": [
    "df_seq_align[(df_seq_align['diff']!=0)].head()"
   ]
  },
  {
   "cell_type": "code",
   "execution_count": null,
   "metadata": {},
   "outputs": [],
   "source": [
    "d3to1 = {'CYS': 'C', 'ASP': 'D', 'SER': 'S', 'GLN': 'Q', 'LYS': 'K',\n",
    "'ILE': 'I', 'PRO': 'P', 'THR': 'T', 'PHE': 'F', 'ASN': 'N', \n",
    "'GLY': 'G', 'HIS': 'H', 'LEU': 'L', 'ARG': 'R', 'TRP': 'W', \n",
    "'ALA': 'A', 'VAL':'V', 'GLU': 'E', 'TYR': 'Y', 'MET': 'M'}\n",
    "\n",
    "liste = []\n",
    "for element in df_seq_align.entry.values.tolist():\n",
    "    element = element.split()\n",
    "    element = replace(element,d3to1)\n",
    "    liste.append(element)\n",
    "\n",
    "df_seq_align['entry_new'] = liste"
   ]
  },
  {
   "cell_type": "code",
   "execution_count": null,
   "metadata": {},
   "outputs": [],
   "source": [
    "length = []\n",
    "for element in df_seq_align.entry.values.tolist():\n",
    "    len_ = len(element.split())\n",
    "    length.append(len_)"
   ]
  },
  {
   "cell_type": "code",
   "execution_count": null,
   "metadata": {},
   "outputs": [],
   "source": [
    "df_seq_align['entry_length'] = length\n",
    "df_seq_align['entry_new_length'] = [len(x) for x in df_seq_align.entry_new]"
   ]
  },
  {
   "cell_type": "code",
   "execution_count": null,
   "metadata": {},
   "outputs": [],
   "source": [
    "df_seq_align['diff'] = df_seq_align['entry_length'] - df_seq_align['entry_new_length']"
   ]
  },
  {
   "cell_type": "code",
   "execution_count": null,
   "metadata": {},
   "outputs": [
    {
     "data": {
      "text/html": [
       "<div>\n",
       "<style scoped>\n",
       "    .dataframe tbody tr th:only-of-type {\n",
       "        vertical-align: middle;\n",
       "    }\n",
       "\n",
       "    .dataframe tbody tr th {\n",
       "        vertical-align: top;\n",
       "    }\n",
       "\n",
       "    .dataframe thead th {\n",
       "        text-align: right;\n",
       "    }\n",
       "</style>\n",
       "<table border=\"1\" class=\"dataframe\">\n",
       "  <thead>\n",
       "    <tr style=\"text-align: right;\">\n",
       "      <th></th>\n",
       "      <th>entry</th>\n",
       "      <th>pdb_code</th>\n",
       "      <th>entry_new</th>\n",
       "      <th>entry_length</th>\n",
       "      <th>entry_new_length</th>\n",
       "      <th>diff</th>\n",
       "    </tr>\n",
       "  </thead>\n",
       "  <tbody>\n",
       "  </tbody>\n",
       "</table>\n",
       "</div>"
      ],
      "text/plain": [
       "Empty DataFrame\n",
       "Columns: [entry, pdb_code, entry_new, entry_length, entry_new_length, diff]\n",
       "Index: []"
      ]
     },
     "metadata": {},
     "output_type": "display_data"
    }
   ],
   "source": [
    "df_seq_align[(df_seq_align['diff']!=0)]"
   ]
  },
  {
   "cell_type": "code",
   "execution_count": null,
   "metadata": {},
   "outputs": [],
   "source": [
    "new_list = []\n",
    "for element in df_seq_align.entry_new.values:\n",
    "    element = ''.join(element)\n",
    "    new_list.append(element)"
   ]
  },
  {
   "cell_type": "code",
   "execution_count": null,
   "metadata": {},
   "outputs": [],
   "source": [
    "df_seq_align['entry_new_v2'] = new_list"
   ]
  },
  {
   "cell_type": "code",
   "execution_count": null,
   "metadata": {},
   "outputs": [],
   "source": [
    "df_seq_align['entry_new_v2_length'] = [len(x) for x in df_seq_align.entry_new_v2]"
   ]
  },
  {
   "cell_type": "code",
   "execution_count": null,
   "metadata": {},
   "outputs": [],
   "source": [
    "df_seq_align['diff_v2'] = df_seq_align['entry_length'] - df_seq_align['entry_new_v2_length']"
   ]
  },
  {
   "cell_type": "code",
   "execution_count": null,
   "metadata": {},
   "outputs": [],
   "source": [
    "\"\"\" We are taking amino acids which are not comon, hence are not in our d3to1 dictionary\"\"\"  \n",
    "new_amino_acids = []\n",
    "for element in df_seq_align.entry_new.values:\n",
    "    for item in element:\n",
    "        if len(item) > 1:\n",
    "            new_amino_acids.append(item)"
   ]
  },
  {
   "cell_type": "code",
   "execution_count": null,
   "metadata": {},
   "outputs": [],
   "source": [
    "def unique(list1):\n",
    "  \n",
    "    # initialize a null list\n",
    "    unique_list = []\n",
    "  \n",
    "    # traverse for all elements\n",
    "    for x in list1:\n",
    "        # check if exists in unique_list or not\n",
    "        if x not in unique_list:\n",
    "            unique_list.append(x)\n",
    "    # print list\n",
    "    for x in unique_list:\n",
    "        print(x)"
   ]
  },
  {
   "cell_type": "code",
   "execution_count": null,
   "metadata": {},
   "outputs": [
    {
     "name": "stdout",
     "output_type": "stream",
     "text": [
      "The amino acids which are not in our dictionary d3to1 are:\n",
      "ACE\n",
      "CSO\n",
      "PCA\n",
      "TPO\n",
      "SEP\n",
      "MSE\n",
      "KCX\n",
      "PTR\n",
      "LLP\n"
     ]
    }
   ],
   "source": [
    "print(f\"The amino acids which are not in our dictionary d3to1 are:\")\n",
    "unique(new_amino_acids)"
   ]
  }
 ],
 "metadata": {
  "kernelspec": {
   "display_name": "Python 3.10.4 ('research_project')",
   "language": "python",
   "name": "python3"
  },
  "language_info": {
   "codemirror_mode": {
    "name": "ipython",
    "version": 3
   },
   "file_extension": ".py",
   "mimetype": "text/x-python",
   "name": "python",
   "nbconvert_exporter": "python",
   "pygments_lexer": "ipython3",
   "version": "3.10.4"
  },
  "orig_nbformat": 4,
  "vscode": {
   "interpreter": {
    "hash": "dc4d8e01cfb450a488e2d54538a370ca597c6c8157a9d6914f36157428d80e7b"
   }
  }
 },
 "nbformat": 4,
 "nbformat_minor": 2
}
